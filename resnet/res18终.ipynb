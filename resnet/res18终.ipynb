{
 "cells": [
  {
   "cell_type": "code",
   "execution_count": 1,
   "id": "7d4f5f5c",
   "metadata": {},
   "outputs": [],
   "source": [
    "import torch\n",
    "import torchvision.models as models\n",
    "from torch.utils.data import DataLoader\n",
    "from torchvision import transforms\n",
    "from torch import nn, optim\n",
    "from sklearn.metrics import confusion_matrix\n",
    "from elpv_reader import load_dataset\n",
    "from PIL import Image\n",
    "from torch.utils.data import Dataset\n",
    "from tqdm import tqdm\n",
    "import numpy as np\n",
    "from sklearn.neighbors import KNeighborsClassifier\n",
    "from sklearn.model_selection import train_test_split\n",
    "import matplotlib.pyplot as plt\n",
    "import seaborn as sns\n",
    "from collections import Counter\n",
    "import pandas as pd"
   ]
  },
  {
   "cell_type": "markdown",
   "id": "b451c4e3",
   "metadata": {},
   "source": [
    "# define functions"
   ]
  },
  {
   "cell_type": "code",
   "execution_count": 2,
   "id": "cbf3349f",
   "metadata": {},
   "outputs": [],
   "source": [
    "def calculate_metrics(conf_matrix):\n",
    "    # True positives\n",
    "    TP = np.diag(conf_matrix)\n",
    "    # False positives\n",
    "    FP = np.sum(conf_matrix, axis=0) - TP\n",
    "    # False negatives\n",
    "    FN = np.sum(conf_matrix, axis=1) - TP\n",
    "\n",
    "    # Avoid division by zero\n",
    "    precision = np.divide(TP, (TP + FP), out=np.zeros_like(TP, dtype=float), where=(TP + FP) != 0)\n",
    "    recall = np.divide(TP, (TP + FN), out=np.zeros_like(TP, dtype=float), where=(TP + FN) != 0)\n",
    "\n",
    "    # Macro-average precision\n",
    "    macro_precision = np.mean(precision)\n",
    "    # Macro-average recall\n",
    "    macro_recall = np.mean(recall)\n",
    "\n",
    "    # Calculate macro-average F1 score, only for non-zero precision and recall\n",
    "    f1_scores = np.divide(2 * precision * recall, (precision + recall), out=np.zeros_like(precision, dtype=float),\n",
    "                          where=(precision + recall) != 0)\n",
    "    macro_f1_score = np.mean(f1_scores)\n",
    "\n",
    "    # Accuracy\n",
    "    accuracy = TP.sum() / conf_matrix.sum()\n",
    "\n",
    "    return accuracy, macro_precision, macro_recall, macro_f1_score\n"
   ]
  },
  {
   "cell_type": "code",
   "execution_count": 3,
   "id": "e04ca289",
   "metadata": {},
   "outputs": [],
   "source": [
    "def test_model(model, test_dataloader):\n",
    "    model.eval()\n",
    "    correct = 0\n",
    "    total = 0\n",
    "    with torch.no_grad():\n",
    "        for images, labels in test_dataloader:\n",
    "            images = images.cuda()\n",
    "            labels = labels.cuda()\n",
    "            outputs = model(images)\n",
    "            _, predicted = torch.max(outputs.data, 1)\n",
    "            total += labels.size(0)\n",
    "            correct += (predicted == labels).sum().item()\n",
    "    accuracy = correct / total\n",
    "    return accuracy"
   ]
  },
  {
   "cell_type": "code",
   "execution_count": 4,
   "id": "2ae28907",
   "metadata": {},
   "outputs": [],
   "source": [
    "def smote_3d(minority, y_minority, percentage, clf, n_neighbors=5):\n",
    "    # Flatten minority class samples to 2D arrays\n",
    "    num_samples, dim1, dim2 = minority.shape\n",
    "    minority_flat = minority.reshape(num_samples, dim1 * dim2)\n",
    "\n",
    "    synthetic_flat = []\n",
    "    counter = 0\n",
    "\n",
    "    # Choose the appropriate number of samples to generate synthetic samples based on the provided percentage\n",
    "    if percentage < 100:\n",
    "        n_minority = int(len(minority_flat) * percentage / 100)\n",
    "        minority_flat = minority_flat[np.random.choice(len(minority_flat), n_minority, replace=False), :]\n",
    "        percentage = 100\n",
    "\n",
    "    # Calculate the multiplier for the number of synthetic samples needed\n",
    "    percentage = int(percentage / 100)\n",
    "\n",
    "    # Use KNN to find neighbors\n",
    "    knn = clf(n_neighbors=n_neighbors + 1)\n",
    "    knn.fit(minority_flat, y_minority)\n",
    "\n",
    "    for data_point in minority_flat:\n",
    "        # Find the neighbors for each minority class sample point\n",
    "        _, nnarray = knn.kneighbors(data_point.reshape(1, -1))\n",
    "        nnarray = nnarray[0][1:]  # Exclude the sample itself\n",
    "\n",
    "        # Generate synthetic samples for each minority class sample\n",
    "        for _ in range(percentage):\n",
    "            selected = np.random.choice(nnarray, 1)\n",
    "            diff = minority_flat[selected[0]] - data_point\n",
    "            gap = np.random.rand()\n",
    "            synthetic_data_point = data_point + gap * diff\n",
    "            synthetic_flat.append(synthetic_data_point)\n",
    "            counter += 1\n",
    "\n",
    "    # Reshape the synthetic sample data back to the original 3D shape\n",
    "    synthetic = np.array(synthetic_flat).reshape(-1, dim1, dim2)\n",
    "\n",
    "    print(f'Generated {counter} synthetic samples.')\n",
    "    return synthetic"
   ]
  },
  {
   "cell_type": "code",
   "execution_count": 5,
   "id": "3fb7c761",
   "metadata": {},
   "outputs": [],
   "source": [
    "def plot_confusion_matrix(conf_matrix, class_names, name):\n",
    "    fig, ax = plt.subplots(figsize=(5, 5))\n",
    "    sns.heatmap(conf_matrix, annot=True, fmt='g', ax=ax, cmap='coolwarm', annot_kws={\"color\": \"white\"})\n",
    "    ax.set_xlabel('Predicted labels')\n",
    "    ax.set_ylabel('True labels')\n",
    "    ax.set_title(name)\n",
    "    ax.xaxis.set_ticklabels(class_names)\n",
    "    ax.yaxis.set_ticklabels(class_names)\n",
    "    plt.show()"
   ]
  },
  {
   "cell_type": "markdown",
   "id": "0351023e",
   "metadata": {},
   "source": [
    "# Load the dataset"
   ]
  },
  {
   "cell_type": "code",
   "execution_count": 6,
   "id": "c082f1db",
   "metadata": {},
   "outputs": [],
   "source": [
    "images, proba, types = load_dataset()"
   ]
  },
  {
   "cell_type": "markdown",
   "id": "7dbfb865",
   "metadata": {},
   "source": [
    "# Data preprocessing, convert labels to integer indices"
   ]
  },
  {
   "cell_type": "code",
   "execution_count": 7,
   "id": "12d19f5b",
   "metadata": {},
   "outputs": [],
   "source": [
    "label_mapping = {0.0: 0, 0.3333333333333333: 1, 0.6666666666666666: 2, 1.0: 3}\n",
    "proba = [label_mapping[label] for label in proba]\n",
    "proba = np.array(proba)\n",
    "types_mapping = {'mono': 4, 'poly': 0}\n",
    "types = [types_mapping[t] for t in types]\n",
    "types = np.array(types)\n",
    "label = proba + types"
   ]
  },
  {
   "cell_type": "markdown",
   "id": "d4951ffa",
   "metadata": {},
   "source": [
    "# Split the data into training and testing sets"
   ]
  },
  {
   "cell_type": "code",
   "execution_count": 8,
   "id": "94f03de9",
   "metadata": {},
   "outputs": [],
   "source": [
    "images_train, images_test, label_train, label_test = train_test_split(\n",
    "    images,\n",
    "    label,\n",
    "    test_size=0.25,  # Test set is 25%\n",
    "    random_state=42  # Ensure the split is the same each time\n",
    ")"
   ]
  },
  {
   "cell_type": "markdown",
   "id": "b69baac1",
   "metadata": {},
   "source": [
    "# Enhance the training dataset"
   ]
  },
  {
   "cell_type": "code",
   "execution_count": 9,
   "id": "30e4d809",
   "metadata": {},
   "outputs": [
    {
     "name": "stdout",
     "output_type": "stream",
     "text": [
      "Generated 262 synthetic samples.\n",
      "Generated 259 synthetic samples.\n",
      "Generated 273 synthetic samples.\n",
      "Generated 266 synthetic samples.\n",
      "Label 0: 695 images\n",
      "Label 3: 304 images\n",
      "Label 4: 441 images\n",
      "Label 7: 231 images\n",
      "Label 1: 393 images\n",
      "Label 6: 304 images\n",
      "Label 2: 296 images\n",
      "Label 5: 364 images\n"
     ]
    }
   ],
   "source": [
    "X = images_train  # Your sample data\n",
    "y = label_train  # Your label data\n",
    "target_labels = [1, 2, 5, 6]\n",
    "\n",
    "# Store enhanced samples and labels\n",
    "enhanced_X = []\n",
    "enhanced_y = []\n",
    "\n",
    "for label in target_labels:\n",
    "    # Filter samples with specific labels\n",
    "    minority = X[y == label]\n",
    "    y_minority = y[y == label]\n",
    "\n",
    "    if label == 1:\n",
    "        percentage = 200\n",
    "    elif label == 2:\n",
    "        percentage = 700\n",
    "    elif label == 5:\n",
    "        percentage = 350\n",
    "    else:\n",
    "        percentage = 700\n",
    "\n",
    "    # Apply the smote_3d function to generate synthetic samples\n",
    "    synthetic_samples = smote_3d(minority, y_minority, percentage, clf=KNeighborsClassifier,\n",
    "                                 n_neighbors=5)\n",
    "\n",
    "    # Add original and synthetic samples to the enhanced dataset\n",
    "    enhanced_X.append(synthetic_samples)\n",
    "    enhanced_y.extend([label] * len(synthetic_samples))\n",
    "\n",
    "# Convert the enhanced data to numpy arrays\n",
    "enhanced_X = np.concatenate(enhanced_X)\n",
    "enhanced_y = np.array(enhanced_y)\n",
    "\n",
    "# Merge the enhanced samples with the original samples\n",
    "images_train = np.concatenate((images_train, enhanced_X))\n",
    "\n",
    "# Merge the enhanced labels with the original labels\n",
    "label_train = np.concatenate((label_train, enhanced_y))\n",
    "\n",
    "# Count the number of images for each label and print the counts\n",
    "label_counts = Counter(label_train)\n",
    "for label, count in label_counts.items():\n",
    "    print(f\"Label {label}: {count} images\")\n"
   ]
  },
  {
   "cell_type": "markdown",
   "id": "859fabab",
   "metadata": {},
   "source": [
    "# Define the dataset"
   ]
  },
  {
   "cell_type": "code",
   "execution_count": 10,
   "id": "6bcd16a8",
   "metadata": {},
   "outputs": [],
   "source": [
    "class CustomDataset(Dataset):\n",
    "    def __init__(self, images, labels, transform=None):\n",
    "        self.images = images\n",
    "        self.labels = labels\n",
    "        self.transform = transform\n",
    "\n",
    "    def __len__(self):\n",
    "        return len(self.images)\n",
    "\n",
    "    def __getitem__(self, idx):\n",
    "        image = self.images[idx]\n",
    "        label = self.labels[idx]\n",
    "        image = Image.fromarray(image).convert('L')\n",
    "        image = image.convert('RGB')  # Convert grayscale images to three-channel RGB images\n",
    "        if self.transform:\n",
    "            image = self.transform(image)\n",
    "        return image, label\n",
    "\n",
    "\n",
    "transform = transforms.Compose([\n",
    "    transforms.Lambda(lambda x: x.convert('RGB')),  # Convert grayscale images to three channels\n",
    "    transforms.ToTensor(),\n",
    "    transforms.Normalize(mean=[0.485, 0.456, 0.406], std=[0.229, 0.224, 0.225]),  # Normalize\n",
    "])\n",
    "\n",
    "# Training dataset\n",
    "train_dataset = CustomDataset(images_train, label_train, transform=transform)\n",
    "train_dataloader = DataLoader(train_dataset, batch_size=32, shuffle=True)\n",
    "\n",
    "# Testing dataset\n",
    "test_dataset = CustomDataset(images_test, label_test, transform=transform)\n",
    "test_dataloader = DataLoader(test_dataset, batch_size=32, shuffle=False)"
   ]
  },
  {
   "cell_type": "markdown",
   "id": "714e45eb",
   "metadata": {},
   "source": [
    "# Define the model"
   ]
  },
  {
   "cell_type": "code",
   "execution_count": 11,
   "id": "868a913c",
   "metadata": {},
   "outputs": [
    {
     "name": "stderr",
     "output_type": "stream",
     "text": [
      "D:\\Jupyter\\COMP9517\\Assignment\\lib\\site-packages\\torchvision\\models\\_utils.py:208: UserWarning: The parameter 'pretrained' is deprecated since 0.13 and may be removed in the future, please use 'weights' instead.\n",
      "  warnings.warn(\n",
      "D:\\Jupyter\\COMP9517\\Assignment\\lib\\site-packages\\torchvision\\models\\_utils.py:223: UserWarning: Arguments other than a weight enum or `None` for 'weights' are deprecated since 0.13 and may be removed in the future. The current behavior is equivalent to passing `weights=ResNet18_Weights.IMAGENET1K_V1`. You can also use `weights=ResNet18_Weights.DEFAULT` to get the most up-to-date weights.\n",
      "  warnings.warn(msg)\n"
     ]
    }
   ],
   "source": [
    "model = models.resnet18(pretrained=True)\n",
    "num_ftrs = model.fc.in_features  # Get the number of input features for the fully connected layer\n",
    "model.fc = nn.Linear(num_ftrs, 8)\n",
    "\n",
    "criterion = nn.CrossEntropyLoss()\n",
    "optimizer = optim.SGD(model.parameters(), lr=0.001, momentum=0.9)\n",
    "\n",
    "model.load_state_dict(torch.load('res18.pth'))\n",
    "\n",
    "if torch.cuda.is_available():\n",
    "    model = model.cuda()"
   ]
  },
  {
   "cell_type": "markdown",
   "id": "2a3c2a4d",
   "metadata": {},
   "source": [
    "# Train the model"
   ]
  },
  {
   "cell_type": "code",
   "execution_count": 13,
   "id": "7f62e055",
   "metadata": {},
   "outputs": [
    {
     "name": "stderr",
     "output_type": "stream",
     "text": [
      "100%|███████████████████████████████████████████████████████████████████████| 95/95 [00:33<00:00,  2.86it/s, loss=1.14]\n"
     ]
    },
    {
     "name": "stdout",
     "output_type": "stream",
     "text": [
      "Accuracy of the network on the test images after epoch 1: 0.69\n"
     ]
    },
    {
     "name": "stderr",
     "output_type": "stream",
     "text": [
      "100%|██████████████████████████████████████████████████████████████████████| 95/95 [00:31<00:00,  2.97it/s, loss=0.721]\n"
     ]
    },
    {
     "name": "stdout",
     "output_type": "stream",
     "text": [
      "Accuracy of the network on the test images after epoch 2: 0.71\n"
     ]
    },
    {
     "name": "stderr",
     "output_type": "stream",
     "text": [
      "100%|██████████████████████████████████████████████████████████████████████| 95/95 [00:31<00:00,  3.06it/s, loss=0.591]\n"
     ]
    },
    {
     "name": "stdout",
     "output_type": "stream",
     "text": [
      "Accuracy of the network on the test images after epoch 3: 0.74\n"
     ]
    },
    {
     "name": "stderr",
     "output_type": "stream",
     "text": [
      "100%|██████████████████████████████████████████████████████████████████████| 95/95 [00:30<00:00,  3.10it/s, loss=0.491]\n"
     ]
    },
    {
     "name": "stdout",
     "output_type": "stream",
     "text": [
      "Accuracy of the network on the test images after epoch 4: 0.71\n"
     ]
    },
    {
     "name": "stderr",
     "output_type": "stream",
     "text": [
      "100%|██████████████████████████████████████████████████████████████████████| 95/95 [00:30<00:00,  3.10it/s, loss=0.405]\n"
     ]
    },
    {
     "name": "stdout",
     "output_type": "stream",
     "text": [
      "Accuracy of the network on the test images after epoch 5: 0.74\n"
     ]
    },
    {
     "name": "stderr",
     "output_type": "stream",
     "text": [
      "100%|██████████████████████████████████████████████████████████████████████| 95/95 [00:30<00:00,  3.08it/s, loss=0.327]\n"
     ]
    },
    {
     "name": "stdout",
     "output_type": "stream",
     "text": [
      "Accuracy of the network on the test images after epoch 6: 0.75\n"
     ]
    },
    {
     "name": "stderr",
     "output_type": "stream",
     "text": [
      "100%|██████████████████████████████████████████████████████████████████████| 95/95 [00:30<00:00,  3.08it/s, loss=0.286]\n"
     ]
    },
    {
     "name": "stdout",
     "output_type": "stream",
     "text": [
      "Accuracy of the network on the test images after epoch 7: 0.77\n"
     ]
    },
    {
     "name": "stderr",
     "output_type": "stream",
     "text": [
      "100%|██████████████████████████████████████████████████████████████████████| 95/95 [00:30<00:00,  3.07it/s, loss=0.215]\n"
     ]
    },
    {
     "name": "stdout",
     "output_type": "stream",
     "text": [
      "Accuracy of the network on the test images after epoch 8: 0.77\n"
     ]
    },
    {
     "name": "stderr",
     "output_type": "stream",
     "text": [
      "100%|██████████████████████████████████████████████████████████████████████| 95/95 [00:30<00:00,  3.10it/s, loss=0.166]\n"
     ]
    },
    {
     "name": "stdout",
     "output_type": "stream",
     "text": [
      "Accuracy of the network on the test images after epoch 9: 0.78\n"
     ]
    },
    {
     "name": "stderr",
     "output_type": "stream",
     "text": [
      "100%|██████████████████████████████████████████████████████████████████████| 95/95 [00:31<00:00,  3.06it/s, loss=0.137]\n"
     ]
    },
    {
     "name": "stdout",
     "output_type": "stream",
     "text": [
      "Accuracy of the network on the test images after epoch 10: 0.79\n"
     ]
    },
    {
     "name": "stderr",
     "output_type": "stream",
     "text": [
      "100%|██████████████████████████████████████████████████████████████████████| 95/95 [00:31<00:00,  3.06it/s, loss=0.121]\n"
     ]
    },
    {
     "name": "stdout",
     "output_type": "stream",
     "text": [
      "Accuracy of the network on the test images after epoch 11: 0.78\n"
     ]
    },
    {
     "name": "stderr",
     "output_type": "stream",
     "text": [
      "100%|█████████████████████████████████████████████████████████████████████| 95/95 [00:30<00:00,  3.10it/s, loss=0.0976]\n"
     ]
    },
    {
     "name": "stdout",
     "output_type": "stream",
     "text": [
      "Accuracy of the network on the test images after epoch 12: 0.76\n"
     ]
    },
    {
     "name": "stderr",
     "output_type": "stream",
     "text": [
      "100%|█████████████████████████████████████████████████████████████████████| 95/95 [00:30<00:00,  3.08it/s, loss=0.0676]\n"
     ]
    },
    {
     "name": "stdout",
     "output_type": "stream",
     "text": [
      "Accuracy of the network on the test images after epoch 13: 0.78\n"
     ]
    },
    {
     "name": "stderr",
     "output_type": "stream",
     "text": [
      "100%|█████████████████████████████████████████████████████████████████████| 95/95 [00:31<00:00,  3.01it/s, loss=0.0653]\n"
     ]
    },
    {
     "name": "stdout",
     "output_type": "stream",
     "text": [
      "Accuracy of the network on the test images after epoch 14: 0.77\n"
     ]
    },
    {
     "name": "stderr",
     "output_type": "stream",
     "text": [
      "100%|█████████████████████████████████████████████████████████████████████| 95/95 [00:32<00:00,  2.90it/s, loss=0.0434]\n"
     ]
    },
    {
     "name": "stdout",
     "output_type": "stream",
     "text": [
      "Accuracy of the network on the test images after epoch 15: 0.79\n"
     ]
    },
    {
     "name": "stderr",
     "output_type": "stream",
     "text": [
      "100%|█████████████████████████████████████████████████████████████████████| 95/95 [00:31<00:00,  3.02it/s, loss=0.0326]\n"
     ]
    },
    {
     "name": "stdout",
     "output_type": "stream",
     "text": [
      "Accuracy of the network on the test images after epoch 16: 0.78\n"
     ]
    }
   ],
   "source": [
    "# 5. Train the model\n",
    "if torch.cuda.is_available():\n",
    "    model = model.cuda()\n",
    "\n",
    "num_epochs = 0\n",
    "accuracy = 0\n",
    "while num_epochs <= 15:\n",
    "    model.train()\n",
    "    running_loss = 0.0\n",
    "    # Progress bar\n",
    "    loop = tqdm(train_dataloader, leave=True)\n",
    "    for images, labels in loop:\n",
    "        if torch.cuda.is_available():\n",
    "            images = images.cuda()\n",
    "            labels = labels.cuda()\n",
    "\n",
    "        labels = labels.long()\n",
    "        optimizer.zero_grad()\n",
    "        outputs = model(images)\n",
    "        loss = criterion(outputs, labels)\n",
    "        loss.backward()\n",
    "        optimizer.step()\n",
    "\n",
    "        running_loss += loss.item()\n",
    "\n",
    "        # Update progress bar\n",
    "        loop.set_postfix(loss=running_loss / len(train_dataloader))\n",
    "\n",
    "    accuracy = test_model(model, test_dataloader)\n",
    "    print(f\"Accuracy of the network on the test images after epoch {num_epochs + 1}: {accuracy:.2f}\")\n",
    "    num_epochs += 1"
   ]
  },
  {
   "cell_type": "markdown",
   "id": "086e5b97",
   "metadata": {},
   "source": [
    "# Predict and generate confusion matrices"
   ]
  },
  {
   "cell_type": "code",
   "execution_count": 13,
   "id": "c63b7430",
   "metadata": {},
   "outputs": [
    {
     "name": "stdout",
     "output_type": "stream",
     "text": [
      "Confusion Matrix:\n",
      "[[203   2   0  20   0   0   0   0]\n",
      " [ 23  20   0   4   0   0   0   0]\n",
      " [  8   1   1   3   0   0   0   0]\n",
      " [ 19   7   0  72   0   0   0   0]\n",
      " [  0   0   0   0 136   5   3   3]\n",
      " [  0   0   0   0  13   9   4   0]\n",
      " [  0   0   0   0  10   1   5   2]\n",
      " [  0   0   0   0   9   3   5  65]]\n",
      "Accuracy: 0.7789634146341463\n",
      "Precision: 0.716065477574429\n",
      "Recall: 0.560144463797255\n",
      "F1 Score: 0.5820293663089966\n"
     ]
    },
    {
     "data": {
      "image/png": "[encoded data removed]",
      "text/plain": [
       "<Figure size 500x500 with 2 Axes>"
      ]
     },
     "metadata": {},
     "output_type": "display_data"
    },
    {
     "name": "stdout",
     "output_type": "stream",
     "text": [
      "Confusion Matrix - mono:\n",
      "[[136   5   3   3]\n",
      " [ 13   9   4   0]\n",
      " [ 10   1   5   2]\n",
      " [  9   3   5  65]]\n",
      "Accuracy: 0.7875457875457875\n",
      "Precision: 0.6330532212885154\n",
      "Recall: 0.5854461546970258\n",
      "F1 Score: 0.6033901040479989\n"
     ]
    },
    {
     "data": {
      "image/png": "[encoded data removed]",
      "text/plain": [
       "<Figure size 500x500 with 2 Axes>"
      ]
     },
     "metadata": {},
     "output_type": "display_data"
    },
    {
     "name": "stdout",
     "output_type": "stream",
     "text": [
      "Confusion Matrix - poly\n",
      "[[203   2   0  20]\n",
      " [ 23  20   0   4]\n",
      " [  8   1   1   3]\n",
      " [ 19   7   0  72]]\n",
      "Accuracy: 0.7728459530026109\n",
      "Precision: 0.7990777338603425\n",
      "Recall: 0.5348427728974842\n",
      "F1 Score: 0.5606686285699942\n"
     ]
    },
    {
     "data": {
      "image/png": "[encoded data removed]",
      "text/plain": [
       "<Figure size 500x500 with 2 Axes>"
      ]
     },
     "metadata": {},
     "output_type": "display_data"
    },
    {
     "name": "stdout",
     "output_type": "stream",
     "text": [
      "Confusion Matrix - All Types:\n",
      "[[339   7   3  23]\n",
      " [ 36  29   4   4]\n",
      " [ 18   2   6   5]\n",
      " [ 28  10   5 137]]\n",
      "Accuracy: 0.7789634146341463\n",
      "Precision: 0.6383441351951539\n",
      "Recall: 0.5658025236902833\n",
      "F1 Score: 0.5910795432952781\n"
     ]
    },
    {
     "data": {
      "image/png": "[encoded data removed]",
      "text/plain": [
       "<Figure size 500x500 with 2 Axes>"
      ]
     },
     "metadata": {},
     "output_type": "display_data"
    }
   ],
   "source": [
    "model.eval()\n",
    "predictions = []\n",
    "labels_list = []\n",
    "with torch.no_grad():\n",
    "    for images, labels in test_dataloader:\n",
    "        if torch.cuda.is_available():\n",
    "            images = images.cuda()\n",
    "            labels = labels.cuda()\n",
    "        outputs = model(images)\n",
    "        _, preds = torch.max(outputs, 1)\n",
    "        predictions.extend(preds.cpu().numpy())\n",
    "        labels_list.extend(labels.cpu().numpy())\n",
    "\n",
    "class_names = ['p_0', 'p_0.33', 'p_0.66', 'p_1', 'm_0', 'm_0.33', 'm_0.66', 'm_1']\n",
    "\n",
    "# Confusion matrix\n",
    "conf_matrix = confusion_matrix(labels_list, predictions)\n",
    "conf_matrix_poly = conf_matrix[:4,:4]\n",
    "conf_matrix_mono = conf_matrix[4:,4:]\n",
    "conf_matrix_all = conf_matrix_poly + conf_matrix_mono\n",
    "\n",
    "accuracy, precision, recall, f1 = calculate_metrics(conf_matrix)\n",
    "print('Confusion Matrix:')\n",
    "print(conf_matrix)\n",
    "print(f'Accuracy: {accuracy}')\n",
    "print(f'Precision: {precision}')\n",
    "print(f'Recall: {recall}')\n",
    "print(f'F1 Score: {f1}')\n",
    "plot_confusion_matrix(conf_matrix, class_names, 'Confusion matrix')\n",
    "\n",
    "accuracy, precision, recall, f1 = calculate_metrics(conf_matrix_mono)\n",
    "print('Confusion Matrix - mono:')\n",
    "print(conf_matrix_mono)\n",
    "print(f'Accuracy: {accuracy}')\n",
    "print(f'Precision: {precision}')\n",
    "print(f'Recall: {recall}')\n",
    "print(f'F1 Score: {f1}')\n",
    "plot_confusion_matrix(conf_matrix_mono, class_names[4:], 'Confusion matrix for mono')\n",
    "\n",
    "accuracy, precision, recall, f1 = calculate_metrics(conf_matrix_poly)\n",
    "print('Confusion Matrix - poly')\n",
    "print(conf_matrix_poly)\n",
    "print(f'Accuracy: {accuracy}')\n",
    "print(f'Precision: {precision}')\n",
    "print(f'Recall: {recall}')\n",
    "print(f'F1 Score: {f1}')\n",
    "plot_confusion_matrix(conf_matrix_poly, class_names[:4], 'Confusion matrix for poly')\n",
    "\n",
    "accuracy, precision, recall, f1 = calculate_metrics(conf_matrix_all)\n",
    "print('Confusion Matrix - All Types:')\n",
    "print(conf_matrix_all)\n",
    "print(f'Accuracy: {accuracy}')\n",
    "print(f'Precision: {precision}')\n",
    "print(f'Recall: {recall}')\n",
    "print(f'F1 Score: {f1}')\n",
    "plot_confusion_matrix(conf_matrix_all, ['0','0.33','0.66','1'], 'Confusion matrix for all')"
   ]
  },
  {
   "cell_type": "code",
   "execution_count": null,
   "id": "2517da42",
   "metadata": {},
   "outputs": [],
   "source": []
  }
 ],
 "metadata": {
  "kernelspec": {
   "display_name": "gpu",
   "language": "python",
   "name": "assignment"
  },
  "language_info": {
   "codemirror_mode": {
    "name": "ipython",
    "version": 3
   },
   "file_extension": ".py",
   "mimetype": "text/x-python",
   "name": "python",
   "nbconvert_exporter": "python",
   "pygments_lexer": "ipython3",
   "version": "3.9.18"
  }
 },
 "nbformat": 4,
 "nbformat_minor": 5
}
