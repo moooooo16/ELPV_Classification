{
 "cells": [
  {
   "cell_type": "markdown",
   "metadata": {},
   "source": [
    "mobilenet_v3_large with softmax, Adam"
   ]
  },
  {
   "cell_type": "code",
   "execution_count": 1,
   "metadata": {},
   "outputs": [],
   "source": [
    "import torch\n",
    "import torchvision\n",
    "import torchvision.models as models\n",
    "from torch.utils.data import Dataset, DataLoader\n",
    "from torchvision import transforms\n",
    "import torch.nn as nn\n",
    "import matplotlib.pyplot as plt\n",
    "from torchinfo import summary\n",
    "import os\n",
    "from sklearn.model_selection import train_test_split\n",
    "from PIL import Image\n",
    "import torch.optim as optim\n",
    "from torchvision.models import swin_s\n",
    "from torchvision.models import mobilenet_v3_large\n",
    "import numpy as np\n",
    "from sklearn.metrics import accuracy_score, confusion_matrix, f1_score\n",
    "from collections import OrderedDict\n",
    "from tqdm import tqdm"
   ]
  },
  {
   "cell_type": "code",
   "execution_count": 2,
   "metadata": {},
   "outputs": [],
   "source": [
    "from elpv_reader import load_dataset\n",
    "images, proba, types = load_dataset()"
   ]
  },
  {
   "cell_type": "code",
   "execution_count": 3,
   "metadata": {},
   "outputs": [],
   "source": [
    "# check version number\n",
    "import imblearn\n",
    "from imblearn.over_sampling import SMOTE\n",
    "\n",
    "train_set, test_set, train_lables, test_lables = \\\n",
    "train_test_split(images, proba, test_size=0.25,random_state=42)\n",
    "\n",
    "my_mapping = {0.0:0, 0.3333333333333333:1, 0.6666666666666666:2, 1.0:3}\n",
    "\n",
    "for i in range(len(train_set)):\n",
    "    train_lables[i] = my_mapping[train_lables[i]]\n",
    "\n",
    "for i in range(len(test_set)):\n",
    "    test_lables[i] = my_mapping[test_lables[i]]"
   ]
  },
  {
   "cell_type": "code",
   "execution_count": 4,
   "metadata": {},
   "outputs": [
    {
     "name": "stdout",
     "output_type": "stream",
     "text": [
      "The 0.0 has: 1136\n",
      "The 0.33 has: 222\n",
      "The 0.66 has: 75\n",
      "The 1.0 has: 535\n"
     ]
    }
   ],
   "source": [
    "count_list = [0,0,0,0]\n",
    "for i in range(len(train_set)):\n",
    "    if train_lables[i] == 0:\n",
    "        count_list[0] += 1\n",
    "    if train_lables[i] == 1:\n",
    "        count_list[1] += 1\n",
    "    if train_lables[i] == 2:\n",
    "        count_list[2] += 1\n",
    "    if train_lables[i] == 3:\n",
    "        count_list[3] += 1 \n",
    "for i, j in zip(['The 0.0 has:', 'The 0.33 has:', 'The 0.66 has:', 'The 1.0 has:'], count_list):\n",
    "    print(i, j)"
   ]
  },
  {
   "cell_type": "code",
   "execution_count": 5,
   "metadata": {},
   "outputs": [],
   "source": [
    "class CustomDataset(Dataset):\n",
    "    def __init__(self, images, labels, transform=False):\n",
    "        self.images = images\n",
    "        self.label_mapping = {0: np.eye(4)[0], 1: np.eye(4)[1],\\\n",
    "                              2: np.eye(4)[2], 3: np.eye(4)[3]}\n",
    "        self.labels = [self.label_mapping[label] for label in labels]\n",
    "        self.transform = transform\n",
    "\n",
    "    def __len__(self):\n",
    "        return len(self.images)\n",
    "\n",
    "    def __getitem__(self, idx):\n",
    "        image = self.images[idx]\n",
    "        label = self.labels[idx]\n",
    "        image = Image.fromarray(image)\n",
    "\n",
    "        # 如果图像为灰度图像，将其复制到三个通道，转换为 RGB 图像\n",
    "        if image.mode == 'L':\n",
    "            image = image.convert('RGB')\n",
    "\n",
    "        if self.transform:\n",
    "            image = self.transform(image)\n",
    "        return image, label\n",
    "\n",
    "\n",
    "transform = transforms.Compose([\n",
    "    transforms.Resize((224, 224)),\n",
    "    transforms.ToTensor()\n",
    "    ])\n",
    "\n",
    "\n",
    "custom_train_dataset = CustomDataset(train_set, train_lables, transform)\n",
    "custom_test_dataset = CustomDataset(test_set, test_lables, transform)\n",
    "\n",
    "\n",
    "batch_size = 32\n",
    "train_loader = DataLoader(custom_train_dataset, batch_size=batch_size, shuffle=True)\n",
    "test_loader = DataLoader(custom_test_dataset, batch_size=batch_size, shuffle=False)"
   ]
  },
  {
   "cell_type": "code",
   "execution_count": 6,
   "metadata": {},
   "outputs": [
    {
     "name": "stdout",
     "output_type": "stream",
     "text": [
      "\n"
     ]
    },
    {
     "name": "stderr",
     "output_type": "stream",
     "text": [
      "d:\\anaconda\\envs\\torchtest\\lib\\site-packages\\torchvision\\models\\_utils.py:223: UserWarning: Arguments other than a weight enum or `None` for 'weights' are deprecated since 0.13 and may be removed in the future. The current behavior is equivalent to passing `weights=MobileNet_V3_Large_Weights.IMAGENET1K_V1`. You can also use `weights=MobileNet_V3_Large_Weights.DEFAULT` to get the most up-to-date weights.\n",
      "  warnings.warn(msg)\n"
     ]
    }
   ],
   "source": [
    "if torch.cuda.is_available():\n",
    "    device = torch.device(\"cuda\")  \n",
    "else:\n",
    "    device = torch.device(\"cpu\")  \n",
    "\n",
    "model = mobilenet_v3_large(weights=True)\n",
    "\n",
    "classifier1 = nn.Sequential(OrderedDict([('fc1', nn.Linear(960, 4)),\n",
    "                           ('output', nn.Softmax())\n",
    "                          ]))\n",
    "    \n",
    "model.classifier = classifier1\n",
    "\n",
    "model.to(device)\n",
    "print()"
   ]
  },
  {
   "cell_type": "code",
   "execution_count": 7,
   "metadata": {},
   "outputs": [
    {
     "name": "stderr",
     "output_type": "stream",
     "text": [
      "  0%|          | 0/62 [00:00<?, ?it/s]d:\\anaconda\\envs\\torchtest\\lib\\site-packages\\torch\\nn\\modules\\container.py:217: UserWarning: Implicit dimension choice for softmax has been deprecated. Change the call to include dim=X as an argument.\n",
      "  input = module(input)\n",
      "100%|██████████| 62/62 [00:08<00:00,  6.89it/s]\n"
     ]
    },
    {
     "name": "stdout",
     "output_type": "stream",
     "text": [
      "Epoch 1/20 - Training Loss: 1.4357\n",
      "Accuracy: 0.2180\n",
      "Confusion Matrix:\n",
      "[[ 95   0 276   1]\n",
      " [ 17   0  56   0]\n",
      " [  9   0  22   0]\n",
      " [ 72   0  82  26]]\n"
     ]
    },
    {
     "name": "stderr",
     "output_type": "stream",
     "text": [
      "  0%|          | 0/62 [00:00<?, ?it/s]d:\\anaconda\\envs\\torchtest\\lib\\site-packages\\torch\\nn\\modules\\container.py:217: UserWarning: Implicit dimension choice for softmax has been deprecated. Change the call to include dim=X as an argument.\n",
      "  input = module(input)\n",
      "100%|██████████| 62/62 [00:06<00:00, 10.26it/s]\n"
     ]
    },
    {
     "name": "stdout",
     "output_type": "stream",
     "text": [
      "Epoch 2/20 - Training Loss: 1.3652\n",
      "Accuracy: 0.2912\n",
      "Confusion Matrix:\n",
      "[[138   0 114 120]\n",
      " [ 23   0  29  21]\n",
      " [ 16   0   2  13]\n",
      " [ 93   5  31  51]]\n"
     ]
    },
    {
     "name": "stderr",
     "output_type": "stream",
     "text": [
      "  0%|          | 0/62 [00:00<?, ?it/s]d:\\anaconda\\envs\\torchtest\\lib\\site-packages\\torch\\nn\\modules\\container.py:217: UserWarning: Implicit dimension choice for softmax has been deprecated. Change the call to include dim=X as an argument.\n",
      "  input = module(input)\n",
      "100%|██████████| 62/62 [00:06<00:00,  9.87it/s]\n"
     ]
    },
    {
     "name": "stdout",
     "output_type": "stream",
     "text": [
      "Epoch 3/20 - Training Loss: 1.2830\n",
      "Accuracy: 0.3308\n",
      "Confusion Matrix:\n",
      "[[122  10  78 162]\n",
      " [ 18   1  17  37]\n",
      " [  9   3   8  11]\n",
      " [ 65   5  24  86]]\n"
     ]
    },
    {
     "name": "stderr",
     "output_type": "stream",
     "text": [
      "  0%|          | 0/62 [00:00<?, ?it/s]d:\\anaconda\\envs\\torchtest\\lib\\site-packages\\torch\\nn\\modules\\container.py:217: UserWarning: Implicit dimension choice for softmax has been deprecated. Change the call to include dim=X as an argument.\n",
      "  input = module(input)\n",
      "100%|██████████| 62/62 [00:06<00:00,  9.60it/s]\n"
     ]
    },
    {
     "name": "stdout",
     "output_type": "stream",
     "text": [
      "Epoch 4/20 - Training Loss: 1.2086\n",
      "Accuracy: 0.4146\n",
      "Confusion Matrix:\n",
      "[[150   1  16 205]\n",
      " [ 23   1   7  42]\n",
      " [ 14   1   2  14]\n",
      " [ 54   3   4 119]]\n"
     ]
    },
    {
     "name": "stderr",
     "output_type": "stream",
     "text": [
      "  0%|          | 0/62 [00:00<?, ?it/s]d:\\anaconda\\envs\\torchtest\\lib\\site-packages\\torch\\nn\\modules\\container.py:217: UserWarning: Implicit dimension choice for softmax has been deprecated. Change the call to include dim=X as an argument.\n",
      "  input = module(input)\n",
      "100%|██████████| 62/62 [00:06<00:00,  9.22it/s]\n"
     ]
    },
    {
     "name": "stdout",
     "output_type": "stream",
     "text": [
      "Epoch 5/20 - Training Loss: 1.1568\n",
      "Accuracy: 0.4436\n",
      "Confusion Matrix:\n",
      "[[160   0   3 209]\n",
      " [ 27   0   0  46]\n",
      " [  6   0   0  25]\n",
      " [ 47   0   2 131]]\n"
     ]
    },
    {
     "name": "stderr",
     "output_type": "stream",
     "text": [
      "  0%|          | 0/62 [00:00<?, ?it/s]d:\\anaconda\\envs\\torchtest\\lib\\site-packages\\torch\\nn\\modules\\container.py:217: UserWarning: Implicit dimension choice for softmax has been deprecated. Change the call to include dim=X as an argument.\n",
      "  input = module(input)\n",
      "100%|██████████| 62/62 [00:06<00:00,  9.19it/s]\n"
     ]
    },
    {
     "name": "stdout",
     "output_type": "stream",
     "text": [
      "Epoch 6/20 - Training Loss: 1.1184\n",
      "Accuracy: 0.6082\n",
      "Confusion Matrix:\n",
      "[[244   0   1 127]\n",
      " [ 37   1   0  35]\n",
      " [ 10   0   1  20]\n",
      " [ 27   0   0 153]]\n"
     ]
    },
    {
     "name": "stderr",
     "output_type": "stream",
     "text": [
      "  0%|          | 0/62 [00:00<?, ?it/s]d:\\anaconda\\envs\\torchtest\\lib\\site-packages\\torch\\nn\\modules\\container.py:217: UserWarning: Implicit dimension choice for softmax has been deprecated. Change the call to include dim=X as an argument.\n",
      "  input = module(input)\n",
      "100%|██████████| 62/62 [00:06<00:00,  9.17it/s]\n"
     ]
    },
    {
     "name": "stdout",
     "output_type": "stream",
     "text": [
      "Epoch 7/20 - Training Loss: 1.0964\n",
      "Accuracy: 0.6585\n",
      "Confusion Matrix:\n",
      "[[297   4   0  71]\n",
      " [ 51   2   0  20]\n",
      " [ 16   0   0  15]\n",
      " [ 47   0   0 133]]\n"
     ]
    },
    {
     "name": "stderr",
     "output_type": "stream",
     "text": [
      "  0%|          | 0/62 [00:00<?, ?it/s]d:\\anaconda\\envs\\torchtest\\lib\\site-packages\\torch\\nn\\modules\\container.py:217: UserWarning: Implicit dimension choice for softmax has been deprecated. Change the call to include dim=X as an argument.\n",
      "  input = module(input)\n",
      "100%|██████████| 62/62 [00:06<00:00,  8.90it/s]\n"
     ]
    },
    {
     "name": "stdout",
     "output_type": "stream",
     "text": [
      "Epoch 8/20 - Training Loss: 1.0829\n",
      "Accuracy: 0.6753\n",
      "Confusion Matrix:\n",
      "[[318   1   0  53]\n",
      " [ 56   1   0  16]\n",
      " [ 19   0   0  12]\n",
      " [ 56   0   0 124]]\n"
     ]
    },
    {
     "name": "stderr",
     "output_type": "stream",
     "text": [
      "  0%|          | 0/62 [00:00<?, ?it/s]d:\\anaconda\\envs\\torchtest\\lib\\site-packages\\torch\\nn\\modules\\container.py:217: UserWarning: Implicit dimension choice for softmax has been deprecated. Change the call to include dim=X as an argument.\n",
      "  input = module(input)\n",
      "100%|██████████| 62/62 [00:06<00:00,  9.50it/s]\n"
     ]
    },
    {
     "name": "stdout",
     "output_type": "stream",
     "text": [
      "Epoch 9/20 - Training Loss: 1.0682\n",
      "Accuracy: 0.6799\n",
      "Confusion Matrix:\n",
      "[[327   1   0  44]\n",
      " [ 63   1   0   9]\n",
      " [ 22   0   0   9]\n",
      " [ 62   0   0 118]]\n"
     ]
    },
    {
     "name": "stderr",
     "output_type": "stream",
     "text": [
      "  0%|          | 0/62 [00:00<?, ?it/s]d:\\anaconda\\envs\\torchtest\\lib\\site-packages\\torch\\nn\\modules\\container.py:217: UserWarning: Implicit dimension choice for softmax has been deprecated. Change the call to include dim=X as an argument.\n",
      "  input = module(input)\n",
      "100%|██████████| 62/62 [00:06<00:00,  9.78it/s]\n"
     ]
    },
    {
     "name": "stdout",
     "output_type": "stream",
     "text": [
      "Epoch 10/20 - Training Loss: 1.0570\n",
      "Accuracy: 0.6845\n",
      "Confusion Matrix:\n",
      "[[332   1   0  39]\n",
      " [ 63   1   0   9]\n",
      " [ 24   0   0   7]\n",
      " [ 64   0   0 116]]\n"
     ]
    },
    {
     "name": "stderr",
     "output_type": "stream",
     "text": [
      "  0%|          | 0/62 [00:00<?, ?it/s]d:\\anaconda\\envs\\torchtest\\lib\\site-packages\\torch\\nn\\modules\\container.py:217: UserWarning: Implicit dimension choice for softmax has been deprecated. Change the call to include dim=X as an argument.\n",
      "  input = module(input)\n",
      "100%|██████████| 62/62 [00:06<00:00,  9.81it/s]\n"
     ]
    },
    {
     "name": "stdout",
     "output_type": "stream",
     "text": [
      "Epoch 11/20 - Training Loss: 1.0470\n",
      "Accuracy: 0.6890\n",
      "Confusion Matrix:\n",
      "[[332   2   0  38]\n",
      " [ 62   2   0   9]\n",
      " [ 24   0   0   7]\n",
      " [ 62   0   0 118]]\n"
     ]
    },
    {
     "name": "stderr",
     "output_type": "stream",
     "text": [
      "  0%|          | 0/62 [00:00<?, ?it/s]d:\\anaconda\\envs\\torchtest\\lib\\site-packages\\torch\\nn\\modules\\container.py:217: UserWarning: Implicit dimension choice for softmax has been deprecated. Change the call to include dim=X as an argument.\n",
      "  input = module(input)\n",
      "100%|██████████| 62/62 [00:06<00:00,  9.72it/s]\n"
     ]
    },
    {
     "name": "stdout",
     "output_type": "stream",
     "text": [
      "Epoch 12/20 - Training Loss: 1.0372\n",
      "Accuracy: 0.6921\n",
      "Confusion Matrix:\n",
      "[[333   2   0  37]\n",
      " [ 63   2   0   8]\n",
      " [ 25   0   0   6]\n",
      " [ 61   0   0 119]]\n"
     ]
    },
    {
     "name": "stderr",
     "output_type": "stream",
     "text": [
      "  0%|          | 0/62 [00:00<?, ?it/s]d:\\anaconda\\envs\\torchtest\\lib\\site-packages\\torch\\nn\\modules\\container.py:217: UserWarning: Implicit dimension choice for softmax has been deprecated. Change the call to include dim=X as an argument.\n",
      "  input = module(input)\n",
      "100%|██████████| 62/62 [00:06<00:00,  9.72it/s]\n"
     ]
    },
    {
     "name": "stdout",
     "output_type": "stream",
     "text": [
      "Epoch 13/20 - Training Loss: 1.0265\n",
      "Accuracy: 0.6982\n",
      "Confusion Matrix:\n",
      "[[337   4   0  31]\n",
      " [ 62   2   0   9]\n",
      " [ 26   0   0   5]\n",
      " [ 61   0   0 119]]\n"
     ]
    },
    {
     "name": "stderr",
     "output_type": "stream",
     "text": [
      "  0%|          | 0/62 [00:00<?, ?it/s]d:\\anaconda\\envs\\torchtest\\lib\\site-packages\\torch\\nn\\modules\\container.py:217: UserWarning: Implicit dimension choice for softmax has been deprecated. Change the call to include dim=X as an argument.\n",
      "  input = module(input)\n",
      "100%|██████████| 62/62 [00:06<00:00,  9.72it/s]\n"
     ]
    },
    {
     "name": "stdout",
     "output_type": "stream",
     "text": [
      "Epoch 14/20 - Training Loss: 1.0151\n",
      "Accuracy: 0.6997\n",
      "Confusion Matrix:\n",
      "[[337   6   0  29]\n",
      " [ 63   3   0   7]\n",
      " [ 26   0   0   5]\n",
      " [ 61   0   0 119]]\n"
     ]
    },
    {
     "name": "stderr",
     "output_type": "stream",
     "text": [
      "  0%|          | 0/62 [00:00<?, ?it/s]d:\\anaconda\\envs\\torchtest\\lib\\site-packages\\torch\\nn\\modules\\container.py:217: UserWarning: Implicit dimension choice for softmax has been deprecated. Change the call to include dim=X as an argument.\n",
      "  input = module(input)\n",
      "100%|██████████| 62/62 [00:06<00:00,  9.76it/s]\n"
     ]
    },
    {
     "name": "stdout",
     "output_type": "stream",
     "text": [
      "Epoch 15/20 - Training Loss: 1.0078\n",
      "Accuracy: 0.7088\n",
      "Confusion Matrix:\n",
      "[[340   3   0  29]\n",
      " [ 65   4   0   4]\n",
      " [ 26   0   0   5]\n",
      " [ 59   0   0 121]]\n"
     ]
    },
    {
     "name": "stderr",
     "output_type": "stream",
     "text": [
      "  0%|          | 0/62 [00:00<?, ?it/s]d:\\anaconda\\envs\\torchtest\\lib\\site-packages\\torch\\nn\\modules\\container.py:217: UserWarning: Implicit dimension choice for softmax has been deprecated. Change the call to include dim=X as an argument.\n",
      "  input = module(input)\n",
      "100%|██████████| 62/62 [00:06<00:00,  9.61it/s]\n"
     ]
    },
    {
     "name": "stdout",
     "output_type": "stream",
     "text": [
      "Epoch 16/20 - Training Loss: 0.9992\n",
      "Accuracy: 0.7210\n",
      "Confusion Matrix:\n",
      "[[343   3   0  26]\n",
      " [ 61   6   0   6]\n",
      " [ 26   0   0   5]\n",
      " [ 56   0   0 124]]\n"
     ]
    },
    {
     "name": "stderr",
     "output_type": "stream",
     "text": [
      "  0%|          | 0/62 [00:00<?, ?it/s]d:\\anaconda\\envs\\torchtest\\lib\\site-packages\\torch\\nn\\modules\\container.py:217: UserWarning: Implicit dimension choice for softmax has been deprecated. Change the call to include dim=X as an argument.\n",
      "  input = module(input)\n",
      "100%|██████████| 62/62 [00:06<00:00,  9.82it/s]\n"
     ]
    },
    {
     "name": "stdout",
     "output_type": "stream",
     "text": [
      "Epoch 17/20 - Training Loss: 0.9927\n",
      "Accuracy: 0.7226\n",
      "Confusion Matrix:\n",
      "[[346   3   0  23]\n",
      " [ 61   6   0   6]\n",
      " [ 27   0   0   4]\n",
      " [ 58   0   0 122]]\n"
     ]
    },
    {
     "name": "stderr",
     "output_type": "stream",
     "text": [
      "  0%|          | 0/62 [00:00<?, ?it/s]d:\\anaconda\\envs\\torchtest\\lib\\site-packages\\torch\\nn\\modules\\container.py:217: UserWarning: Implicit dimension choice for softmax has been deprecated. Change the call to include dim=X as an argument.\n",
      "  input = module(input)\n",
      "100%|██████████| 62/62 [00:06<00:00,  9.87it/s]\n"
     ]
    },
    {
     "name": "stdout",
     "output_type": "stream",
     "text": [
      "Epoch 18/20 - Training Loss: 0.9721\n",
      "Accuracy: 0.7363\n",
      "Confusion Matrix:\n",
      "[[346   4   0  22]\n",
      " [ 59   8   0   6]\n",
      " [ 25   0   0   6]\n",
      " [ 51   0   0 129]]\n"
     ]
    },
    {
     "name": "stderr",
     "output_type": "stream",
     "text": [
      "  0%|          | 0/62 [00:00<?, ?it/s]d:\\anaconda\\envs\\torchtest\\lib\\site-packages\\torch\\nn\\modules\\container.py:217: UserWarning: Implicit dimension choice for softmax has been deprecated. Change the call to include dim=X as an argument.\n",
      "  input = module(input)\n",
      "100%|██████████| 62/62 [00:06<00:00,  9.75it/s]\n"
     ]
    },
    {
     "name": "stdout",
     "output_type": "stream",
     "text": [
      "Epoch 19/20 - Training Loss: 0.9672\n",
      "Accuracy: 0.7363\n",
      "Confusion Matrix:\n",
      "[[349   3   0  20]\n",
      " [ 59   8   0   6]\n",
      " [ 25   0   0   6]\n",
      " [ 54   0   0 126]]\n"
     ]
    },
    {
     "name": "stderr",
     "output_type": "stream",
     "text": [
      "  0%|          | 0/62 [00:00<?, ?it/s]d:\\anaconda\\envs\\torchtest\\lib\\site-packages\\torch\\nn\\modules\\container.py:217: UserWarning: Implicit dimension choice for softmax has been deprecated. Change the call to include dim=X as an argument.\n",
      "  input = module(input)\n",
      "100%|██████████| 62/62 [00:06<00:00,  9.81it/s]\n"
     ]
    },
    {
     "name": "stdout",
     "output_type": "stream",
     "text": [
      "Epoch 20/20 - Training Loss: 0.9615\n",
      "Accuracy: 0.7409\n",
      "Confusion Matrix:\n",
      "[[351   1   0  20]\n",
      " [ 58   8   0   7]\n",
      " [ 23   0   0   8]\n",
      " [ 53   0   0 127]]\n"
     ]
    }
   ],
   "source": [
    "\n",
    "lossfunc = nn.CrossEntropyLoss()\n",
    "optimizer = optim.Adam(model.parameters(), lr=1e-4)\n",
    "\n",
    "save_path = '.\\model.pth'\n",
    "best_accuracy = 79\n",
    "num_epochs = 20\n",
    "for epoch in range(num_epochs):\n",
    "    model.train()\n",
    "    train_loss = 0\n",
    "    for inputs, labels in tqdm(train_loader):\n",
    "        inputs, labels = inputs.to(device), labels.to(device)  # 移动数据到 CUDA\n",
    "        optimizer.zero_grad()\n",
    "        outputs = model(inputs)\n",
    "        loss = lossfunc(outputs, labels)\n",
    "        loss.backward()\n",
    "        optimizer.step()\n",
    "        train_loss += loss.item()\n",
    "    train_loss = train_loss / len(train_loader)\n",
    "    print(f'Epoch {epoch + 1}/{num_epochs} - Training Loss: {train_loss:.4f}')\n",
    "\n",
    "\n",
    "    model.eval()\n",
    "    all_predictions = []\n",
    "    all_labels = []\n",
    "    with torch.no_grad():\n",
    "        for inputs, labels in test_loader:\n",
    "            inputs, labels = inputs.to(device), labels.to(device)  \n",
    "            outputs = model(inputs)\n",
    "            _, predictions = torch.max(outputs, 1)\n",
    "            _, real_labels = torch.max(labels, 1)\n",
    "            all_predictions.extend(predictions.cpu().numpy())\n",
    "            all_labels.extend(real_labels.cpu().numpy())\n",
    "\n",
    "    \n",
    "    accuracy = accuracy_score(all_labels, all_predictions)\n",
    "    conf_matrix = confusion_matrix(all_labels, all_predictions)\n",
    "\n",
    "    if best_accuracy < accuracy:\n",
    "        best_accuracy = accuracy\n",
    "        torch.save(model.state_dict(), save_path)\n",
    "        print(f'Epoch [{epoch + 1}/{num_epochs}] - Saved Best Model (Best Accuracy: {best_accuracy:.4f})')\n",
    "\n",
    "    print(f'Accuracy: {accuracy:.4f}')\n",
    "    print('Confusion Matrix:')\n",
    "    print(conf_matrix)"
   ]
  },
  {
   "cell_type": "code",
   "execution_count": 8,
   "metadata": {},
   "outputs": [
    {
     "name": "stdout",
     "output_type": "stream",
     "text": [
      "The total accuracy is: 0.7408536585365854\n",
      "\n",
      "The accuracy of mono type is: 0.7\n",
      "\n",
      "The accuracy of poly type is: 0.7644230769230769\n",
      "\n",
      "The total confusion matrix is:\n",
      " [[351   1   0  20]\n",
      " [ 58   8   0   7]\n",
      " [ 23   0   0   8]\n",
      " [ 53   0   0 127]]\n",
      "\n",
      "The confusion matrix of mono type is:\n",
      " [[125   0   0   9]\n",
      " [ 25   2   0   2]\n",
      " [  9   0   0   3]\n",
      " [ 24   0   0  41]]\n",
      "\n",
      "The confusion matrix of poly type is:\n",
      " [[226   1   0  11]\n",
      " [ 33   6   0   5]\n",
      " [ 14   0   0   5]\n",
      " [ 29   0   0  86]]\n",
      "\n",
      "The total F1 Score is: 0.4392371331132092\n",
      "\n",
      "The F1 Score of mono type is: 0.40025228113021943\n",
      "\n",
      "The F1 Score of poly type is: 0.4617764823647177\n"
     ]
    }
   ],
   "source": [
    "# 创建两个子集，分别存储mono和poly的标签和预测\n",
    "mono_subset_labels = [label for label, img_type in zip(all_labels, types) if img_type == \"mono\"]\n",
    "mono_subset_predictions = [pred for pred, img_type in zip(all_predictions, types) if img_type == \"mono\"]\n",
    "poly_subset_labels = [label for label, img_type in zip(all_labels, types) if img_type == \"poly\"]\n",
    "poly_subset_predictions = [pred for pred, img_type in zip(all_predictions, types) if img_type == \"poly\"]\n",
    "\n",
    "# 计算不同类型的准确率和混淆矩阵\n",
    "accuracy = accuracy_score(all_labels, all_predictions)\n",
    "accuracy_mono = accuracy_score(mono_subset_labels, mono_subset_predictions)\n",
    "accuracy_poly = accuracy_score(poly_subset_labels, poly_subset_predictions)\n",
    "conf_matrix = confusion_matrix(all_labels, all_predictions)\n",
    "conf_matrix_mono = confusion_matrix(mono_subset_labels, mono_subset_predictions)\n",
    "conf_matrix_poly = confusion_matrix(poly_subset_labels, poly_subset_predictions)\n",
    "f1_total = f1_score(all_labels, all_predictions, average='macro')\n",
    "f1_mono = f1_score(mono_subset_labels, mono_subset_predictions, average='macro')\n",
    "f1_poly = f1_score(poly_subset_labels, poly_subset_predictions, average='macro')\n",
    "\n",
    "print('The total accuracy is:', accuracy)\n",
    "print()\n",
    "print('The accuracy of mono type is:', accuracy_mono)\n",
    "print()\n",
    "print('The accuracy of poly type is:', accuracy_poly)\n",
    "print()\n",
    "print('The total confusion matrix is:\\n', conf_matrix)\n",
    "print()\n",
    "print('The confusion matrix of mono type is:\\n', conf_matrix_mono)\n",
    "print()\n",
    "print('The confusion matrix of poly type is:\\n', conf_matrix_poly)\n",
    "print()\n",
    "print('The total F1 Score is:', f1_total)\n",
    "print()\n",
    "print('The F1 Score of mono type is:', f1_mono)\n",
    "print()\n",
    "print('The F1 Score of poly type is:', f1_poly)\n"
   ]
  }
 ],
 "metadata": {
  "kernelspec": {
   "display_name": "torchtest",
   "language": "python",
   "name": "python3"
  },
  "language_info": {
   "codemirror_mode": {
    "name": "ipython",
    "version": 3
   },
   "file_extension": ".py",
   "mimetype": "text/x-python",
   "name": "python",
   "nbconvert_exporter": "python",
   "pygments_lexer": "ipython3",
   "version": "3.9.17"
  }
 },
 "nbformat": 4,
 "nbformat_minor": 2
}
