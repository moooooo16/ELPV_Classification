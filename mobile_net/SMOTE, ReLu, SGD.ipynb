{
 "cells": [
  {
   "cell_type": "markdown",
   "metadata": {},
   "source": [
    "mobilenet_v3_large, SMOTE, ReLu, SGD"
   ]
  },
  {
   "cell_type": "code",
   "execution_count": 10,
   "metadata": {},
   "outputs": [],
   "source": [
    "import torch\n",
    "import torchvision\n",
    "import torchvision.models as models\n",
    "from torch.utils.data import Dataset, DataLoader\n",
    "from torchvision import transforms\n",
    "import torch.nn as nn\n",
    "import matplotlib.pyplot as plt\n",
    "from torchinfo import summary\n",
    "import os\n",
    "from sklearn.model_selection import train_test_split\n",
    "from PIL import Image\n",
    "import torch.optim as optim\n",
    "from torchvision.models import swin_s\n",
    "from torchvision.models import mobilenet_v3_large\n",
    "import numpy as np\n",
    "from sklearn.metrics import accuracy_score, confusion_matrix, f1_score\n",
    "from collections import OrderedDict\n",
    "from tqdm import tqdm"
   ]
  },
  {
   "cell_type": "code",
   "execution_count": 11,
   "metadata": {},
   "outputs": [],
   "source": [
    "from elpv_reader import load_dataset\n",
    "images, proba, types = load_dataset()"
   ]
  },
  {
   "cell_type": "code",
   "execution_count": 12,
   "metadata": {},
   "outputs": [
    {
     "name": "stdout",
     "output_type": "stream",
     "text": [
      "[0 3 0 ... 0 1 3]\n"
     ]
    }
   ],
   "source": [
    "# check version number\n",
    "import imblearn\n",
    "from imblearn.over_sampling import SMOTE\n",
    "\n",
    "train_set, test_set, train_lables, test_lables = \\\n",
    "train_test_split(images, proba, test_size=0.25,random_state=42)\n",
    "\n",
    "my_mapping = {0.0:0, 0.3333333333333333:1, 0.6666666666666666:2, 1.0:3}\n",
    "train_lables_new = []\n",
    "for i in range(len(train_set)):\n",
    "    train_lables_new.append(my_mapping[train_lables[i]])\n",
    "train_lables_new = np.array(train_lables_new)\n",
    "print(train_lables_new)\n",
    "\n",
    "for i in range(len(test_set)):\n",
    "    test_lables[i] = my_mapping[test_lables[i]]"
   ]
  },
  {
   "cell_type": "code",
   "execution_count": 13,
   "metadata": {},
   "outputs": [
    {
     "name": "stdout",
     "output_type": "stream",
     "text": [
      "The 0.0 has: 1136\n",
      "The 0.33 has: 222\n",
      "The 0.66 has: 75\n",
      "The 1.0 has: 535\n"
     ]
    }
   ],
   "source": [
    "count_list = [0,0,0,0]\n",
    "for i in range(len(train_set)):\n",
    "    if train_lables_new[i] == 0:\n",
    "        count_list[0] += 1\n",
    "    if train_lables_new[i] == 1:\n",
    "        count_list[1] += 1\n",
    "    if train_lables_new[i] == 2:\n",
    "        count_list[2] += 1\n",
    "    if train_lables_new[i] == 3:\n",
    "        count_list[3] += 1 \n",
    "for i, j in zip(['The 0.0 has:', 'The 0.33 has:', 'The 0.66 has:', 'The 1.0 has:'], count_list):\n",
    "    print(i, j)"
   ]
  },
  {
   "cell_type": "code",
   "execution_count": 14,
   "metadata": {},
   "outputs": [],
   "source": [
    "train_set = np.array(train_set)\n",
    "new_set_2d = train_set.reshape(train_set.shape[0], -1)\n",
    "# sampling_strategy = {0: 1136, 1: 800, 2: 800, 3: 800}\n",
    "# oversample = SMOTE(sampling_strategy=sampling_strategy)\n",
    "oversample = SMOTE(sampling_strategy='not majority')\n",
    "new_set1, new_labels1 =  oversample.fit_resample(new_set_2d, train_lables_new)"
   ]
  },
  {
   "cell_type": "code",
   "execution_count": 15,
   "metadata": {},
   "outputs": [
    {
     "name": "stdout",
     "output_type": "stream",
     "text": [
      "(4544, 90000)\n",
      "(4544, 300, 300)\n",
      "4544\n",
      "The 0.0 has: 1136\n",
      "The 0.33 has: 1136\n",
      "The 0.66 has: 1136\n",
      "The 1.0 has: 1136\n"
     ]
    }
   ],
   "source": [
    "print(new_set1.shape)\n",
    "new_set1_3d = new_set1.reshape((-1, 300, 300))\n",
    "print(new_set1_3d.shape)\n",
    "\n",
    "# for i in range(len(new_labels1)):\n",
    "#     print(new_labels1[i])\n",
    "\n",
    "count = 0\n",
    "for i in range(len(new_set1_3d)):\n",
    "    # plt.imshow(new_set1_3d[i], cmap='gray')\n",
    "    # plt.show()\n",
    "    # print(new_labels1[i])\n",
    "    count += 1\n",
    "print(count)\n",
    "\n",
    "count_list = [0,0,0,0]\n",
    "for i in range(len(new_set1_3d)):\n",
    "    if new_labels1[i] == 0:\n",
    "        count_list[0] += 1\n",
    "    if new_labels1[i] == 1:\n",
    "        count_list[1] += 1\n",
    "    if new_labels1[i] == 2:\n",
    "        count_list[2] += 1\n",
    "    if new_labels1[i] == 3:\n",
    "        count_list[3] += 1 \n",
    "for i, j in zip(['The 0.0 has:', 'The 0.33 has:', 'The 0.66 has:', 'The 1.0 has:'], count_list):\n",
    "    print(i, j)"
   ]
  },
  {
   "cell_type": "code",
   "execution_count": 16,
   "metadata": {},
   "outputs": [],
   "source": [
    "class CustomDataset(Dataset):\n",
    "    def __init__(self, images, labels, transform=False):\n",
    "        self.images = images\n",
    "        self.label_mapping = {0: np.eye(4)[0], 1: np.eye(4)[1],\\\n",
    "                              2: np.eye(4)[2], 3: np.eye(4)[3]}\n",
    "        self.labels = [self.label_mapping[label] for label in labels]\n",
    "        self.transform = transform\n",
    "\n",
    "    def __len__(self):\n",
    "        return len(self.images)\n",
    "\n",
    "    def __getitem__(self, idx):\n",
    "        image = self.images[idx]\n",
    "        label = self.labels[idx]\n",
    "        image = Image.fromarray(image)\n",
    "\n",
    "        # 如果图像为灰度图像，将其复制到三个通道，转换为 RGB 图像\n",
    "        if image.mode == 'L':\n",
    "            image = image.convert('RGB')\n",
    "\n",
    "        if self.transform:\n",
    "            image = self.transform(image)\n",
    "        return image, label\n",
    "\n",
    "\n",
    "transform = transforms.Compose([\n",
    "    transforms.Resize((224, 224)),\n",
    "    transforms.ToTensor()\n",
    "    ])\n",
    "\n",
    "\n",
    "custom_train_dataset = CustomDataset(new_set1_3d, new_labels1, transform)\n",
    "custom_test_dataset = CustomDataset(test_set, test_lables, transform)\n",
    "\n",
    "\n",
    "batch_size = 32\n",
    "train_loader = DataLoader(custom_train_dataset, batch_size=batch_size, shuffle=True)\n",
    "test_loader = DataLoader(custom_test_dataset, batch_size=batch_size, shuffle=False)"
   ]
  },
  {
   "cell_type": "code",
   "execution_count": 17,
   "metadata": {},
   "outputs": [
    {
     "name": "stdout",
     "output_type": "stream",
     "text": [
      "\n"
     ]
    },
    {
     "name": "stderr",
     "output_type": "stream",
     "text": [
      "d:\\anaconda\\envs\\torchtest\\lib\\site-packages\\torchvision\\models\\_utils.py:223: UserWarning: Arguments other than a weight enum or `None` for 'weights' are deprecated since 0.13 and may be removed in the future. The current behavior is equivalent to passing `weights=MobileNet_V3_Large_Weights.IMAGENET1K_V1`. You can also use `weights=MobileNet_V3_Large_Weights.DEFAULT` to get the most up-to-date weights.\n",
      "  warnings.warn(msg)\n"
     ]
    }
   ],
   "source": [
    "if torch.cuda.is_available():\n",
    "    device = torch.device(\"cuda\")  \n",
    "else:\n",
    "    device = torch.device(\"cpu\")  \n",
    "\n",
    "model = mobilenet_v3_large(weights=True)\n",
    "\n",
    "classifier1 = nn.Sequential(OrderedDict([('fc1', nn.Linear(960, 4)),\n",
    "                           ('output', nn.ReLU())\n",
    "                          ]))\n",
    "    \n",
    "model.classifier = classifier1\n",
    "\n",
    "model.to(device)\n",
    "print()"
   ]
  },
  {
   "cell_type": "code",
   "execution_count": 18,
   "metadata": {},
   "outputs": [
    {
     "name": "stderr",
     "output_type": "stream",
     "text": [
      "100%|██████████| 142/142 [00:15<00:00,  9.24it/s]\n"
     ]
    },
    {
     "name": "stdout",
     "output_type": "stream",
     "text": [
      "Epoch 1/20 - Training Loss: 1.1618\n",
      "Accuracy: 0.6555\n",
      "Confusion Matrix:\n",
      "[[367   0   0   5]\n",
      " [ 73   0   0   0]\n",
      " [ 31   0   0   0]\n",
      " [115   1   1  63]]\n"
     ]
    },
    {
     "name": "stderr",
     "output_type": "stream",
     "text": [
      "100%|██████████| 142/142 [00:15<00:00,  9.36it/s]\n"
     ]
    },
    {
     "name": "stdout",
     "output_type": "stream",
     "text": [
      "Epoch 2/20 - Training Loss: 0.9226\n",
      "Accuracy: 0.6601\n",
      "Confusion Matrix:\n",
      "[[336   5   2  29]\n",
      " [ 65   0   2   6]\n",
      " [ 22   1   3   5]\n",
      " [ 82   2   2  94]]\n"
     ]
    },
    {
     "name": "stderr",
     "output_type": "stream",
     "text": [
      "100%|██████████| 142/142 [00:14<00:00,  9.65it/s]\n"
     ]
    },
    {
     "name": "stdout",
     "output_type": "stream",
     "text": [
      "Epoch 3/20 - Training Loss: 0.8366\n",
      "Accuracy: 0.6890\n",
      "Confusion Matrix:\n",
      "[[346   6   0  20]\n",
      " [ 65   2   3   3]\n",
      " [ 25   0   2   4]\n",
      " [ 76   0   2 102]]\n"
     ]
    },
    {
     "name": "stderr",
     "output_type": "stream",
     "text": [
      "100%|██████████| 142/142 [00:14<00:00,  9.56it/s]\n"
     ]
    },
    {
     "name": "stdout",
     "output_type": "stream",
     "text": [
      "Epoch 4/20 - Training Loss: 0.7779\n",
      "Accuracy: 0.6936\n",
      "Confusion Matrix:\n",
      "[[334  11   1  26]\n",
      " [ 62   4   4   3]\n",
      " [ 24   0   2   5]\n",
      " [ 62   0   3 115]]\n"
     ]
    },
    {
     "name": "stderr",
     "output_type": "stream",
     "text": [
      "100%|██████████| 142/142 [00:15<00:00,  9.36it/s]\n"
     ]
    },
    {
     "name": "stdout",
     "output_type": "stream",
     "text": [
      "Epoch 5/20 - Training Loss: 0.7195\n",
      "Accuracy: 0.7104\n",
      "Confusion Matrix:\n",
      "[[349   8   2  13]\n",
      " [ 66   3   3   1]\n",
      " [ 25   0   3   3]\n",
      " [ 66   0   3 111]]\n"
     ]
    },
    {
     "name": "stderr",
     "output_type": "stream",
     "text": [
      "100%|██████████| 142/142 [00:15<00:00,  9.11it/s]\n"
     ]
    },
    {
     "name": "stdout",
     "output_type": "stream",
     "text": [
      "Epoch 6/20 - Training Loss: 0.6691\n",
      "Accuracy: 0.7226\n",
      "Confusion Matrix:\n",
      "[[317  24   4  27]\n",
      " [ 41  22   4   6]\n",
      " [ 23   1   3   4]\n",
      " [ 40   2   6 132]]\n"
     ]
    },
    {
     "name": "stderr",
     "output_type": "stream",
     "text": [
      "100%|██████████| 142/142 [00:15<00:00,  9.32it/s]\n"
     ]
    },
    {
     "name": "stdout",
     "output_type": "stream",
     "text": [
      "Epoch 7/20 - Training Loss: 0.6232\n",
      "Accuracy: 0.7226\n",
      "Confusion Matrix:\n",
      "[[350   6   1  15]\n",
      " [ 59   9   2   3]\n",
      " [ 25   0   1   5]\n",
      " [ 62   3   1 114]]\n"
     ]
    },
    {
     "name": "stderr",
     "output_type": "stream",
     "text": [
      "100%|██████████| 142/142 [00:14<00:00,  9.51it/s]\n"
     ]
    },
    {
     "name": "stdout",
     "output_type": "stream",
     "text": [
      "Epoch 8/20 - Training Loss: 0.5793\n",
      "Accuracy: 0.7348\n",
      "Confusion Matrix:\n",
      "[[347  12   1  12]\n",
      " [ 53  17   1   2]\n",
      " [ 24   2   2   3]\n",
      " [ 54   6   4 116]]\n"
     ]
    },
    {
     "name": "stderr",
     "output_type": "stream",
     "text": [
      "100%|██████████| 142/142 [00:15<00:00,  9.15it/s]\n"
     ]
    },
    {
     "name": "stdout",
     "output_type": "stream",
     "text": [
      "Epoch 9/20 - Training Loss: 0.5496\n",
      "Accuracy: 0.7454\n",
      "Confusion Matrix:\n",
      "[[351   8   1  12]\n",
      " [ 53  18   0   2]\n",
      " [ 26   1   1   3]\n",
      " [ 55   2   4 119]]\n"
     ]
    },
    {
     "name": "stderr",
     "output_type": "stream",
     "text": [
      "100%|██████████| 142/142 [00:15<00:00,  9.45it/s]\n"
     ]
    },
    {
     "name": "stdout",
     "output_type": "stream",
     "text": [
      "Epoch 10/20 - Training Loss: 0.4977\n",
      "Accuracy: 0.7363\n",
      "Confusion Matrix:\n",
      "[[353  13   1   5]\n",
      " [ 52  20   0   1]\n",
      " [ 27   1   0   3]\n",
      " [ 64   5   1 110]]\n"
     ]
    },
    {
     "name": "stderr",
     "output_type": "stream",
     "text": [
      "100%|██████████| 142/142 [00:15<00:00,  9.39it/s]\n"
     ]
    },
    {
     "name": "stdout",
     "output_type": "stream",
     "text": [
      "Epoch 11/20 - Training Loss: 0.4540\n",
      "Accuracy: 0.7591\n",
      "Confusion Matrix:\n",
      "[[352   6   3  11]\n",
      " [ 41  27   3   2]\n",
      " [ 20   2   3   6]\n",
      " [ 49   7   8 116]]\n"
     ]
    },
    {
     "name": "stderr",
     "output_type": "stream",
     "text": [
      "100%|██████████| 142/142 [00:15<00:00,  9.23it/s]\n"
     ]
    },
    {
     "name": "stdout",
     "output_type": "stream",
     "text": [
      "Epoch 12/20 - Training Loss: 0.4225\n",
      "Accuracy: 0.7561\n",
      "Confusion Matrix:\n",
      "[[341  21   5   5]\n",
      " [ 37  29   7   0]\n",
      " [ 20   3   7   1]\n",
      " [ 45   4  12 119]]\n"
     ]
    },
    {
     "name": "stderr",
     "output_type": "stream",
     "text": [
      "100%|██████████| 142/142 [00:15<00:00,  8.98it/s]\n"
     ]
    },
    {
     "name": "stdout",
     "output_type": "stream",
     "text": [
      "Epoch 13/20 - Training Loss: 0.3806\n",
      "Accuracy: 0.7622\n",
      "Confusion Matrix:\n",
      "[[345   7   1  19]\n",
      " [ 40  27   0   6]\n",
      " [ 21   2   1   7]\n",
      " [ 44   8   1 127]]\n"
     ]
    },
    {
     "name": "stderr",
     "output_type": "stream",
     "text": [
      "100%|██████████| 142/142 [00:15<00:00,  9.19it/s]\n"
     ]
    },
    {
     "name": "stdout",
     "output_type": "stream",
     "text": [
      "Epoch 14/20 - Training Loss: 0.3474\n",
      "Accuracy: 0.7637\n",
      "Confusion Matrix:\n",
      "[[349   7   1  15]\n",
      " [ 45  23   1   4]\n",
      " [ 21   2   2   6]\n",
      " [ 46   5   2 127]]\n"
     ]
    },
    {
     "name": "stderr",
     "output_type": "stream",
     "text": [
      "100%|██████████| 142/142 [00:14<00:00,  9.47it/s]\n"
     ]
    },
    {
     "name": "stdout",
     "output_type": "stream",
     "text": [
      "Epoch 15/20 - Training Loss: 0.3171\n",
      "Accuracy: 0.7637\n",
      "Confusion Matrix:\n",
      "[[336  10   4  22]\n",
      " [ 35  29   3   6]\n",
      " [ 15   4   3   9]\n",
      " [ 35   9   3 133]]\n"
     ]
    },
    {
     "name": "stderr",
     "output_type": "stream",
     "text": [
      "100%|██████████| 142/142 [00:15<00:00,  9.30it/s]\n"
     ]
    },
    {
     "name": "stdout",
     "output_type": "stream",
     "text": [
      "Epoch 16/20 - Training Loss: 0.2848\n",
      "Accuracy: 0.7652\n",
      "Confusion Matrix:\n",
      "[[355   7   2   8]\n",
      " [ 47  24   2   0]\n",
      " [ 23   2   2   4]\n",
      " [ 51   4   4 121]]\n"
     ]
    },
    {
     "name": "stderr",
     "output_type": "stream",
     "text": [
      "100%|██████████| 142/142 [00:14<00:00,  9.57it/s]\n"
     ]
    },
    {
     "name": "stdout",
     "output_type": "stream",
     "text": [
      "Epoch 17/20 - Training Loss: 0.2489\n",
      "Accuracy: 0.6936\n",
      "Confusion Matrix:\n",
      "[[265  40  11  56]\n",
      " [ 17  37   4  15]\n",
      " [ 12   2   5  12]\n",
      " [ 15   7  10 148]]\n"
     ]
    },
    {
     "name": "stderr",
     "output_type": "stream",
     "text": [
      "100%|██████████| 142/142 [00:15<00:00,  9.44it/s]\n"
     ]
    },
    {
     "name": "stdout",
     "output_type": "stream",
     "text": [
      "Epoch 18/20 - Training Loss: 0.2340\n",
      "Accuracy: 0.7637\n",
      "Confusion Matrix:\n",
      "[[341  21   2   8]\n",
      " [ 33  38   1   1]\n",
      " [ 19   6   2   4]\n",
      " [ 46  12   2 120]]\n"
     ]
    },
    {
     "name": "stderr",
     "output_type": "stream",
     "text": [
      "100%|██████████| 142/142 [00:15<00:00,  9.17it/s]\n"
     ]
    },
    {
     "name": "stdout",
     "output_type": "stream",
     "text": [
      "Epoch 19/20 - Training Loss: 0.2133\n",
      "Accuracy: 0.7622\n",
      "Confusion Matrix:\n",
      "[[340  18   6   8]\n",
      " [ 34  32   7   0]\n",
      " [ 19   4   7   1]\n",
      " [ 40   9  10 121]]\n"
     ]
    },
    {
     "name": "stderr",
     "output_type": "stream",
     "text": [
      "100%|██████████| 142/142 [00:15<00:00,  9.21it/s]\n"
     ]
    },
    {
     "name": "stdout",
     "output_type": "stream",
     "text": [
      "Epoch 20/20 - Training Loss: 0.1905\n",
      "Accuracy: 0.7378\n",
      "Confusion Matrix:\n",
      "[[307  26   9  30]\n",
      " [ 31  32   2   8]\n",
      " [ 13   3   6   9]\n",
      " [ 29   7   5 139]]\n"
     ]
    }
   ],
   "source": [
    "\n",
    "lossfunc = nn.CrossEntropyLoss()\n",
    "optimizer = optim.SGD(model.parameters(), lr=5e-3)\n",
    "\n",
    "save_path = '.\\model.pth'\n",
    "best_accuracy = 79\n",
    "num_epochs = 20\n",
    "for epoch in range(num_epochs):\n",
    "    model.train()\n",
    "    train_loss = 0\n",
    "    for inputs, labels in tqdm(train_loader):\n",
    "        inputs, labels = inputs.to(device), labels.to(device)  # 移动数据到 CUDA\n",
    "        optimizer.zero_grad()\n",
    "        outputs = model(inputs)\n",
    "        loss = lossfunc(outputs, labels)\n",
    "        loss.backward()\n",
    "        optimizer.step()\n",
    "        train_loss += loss.item()\n",
    "    train_loss = train_loss / len(train_loader)\n",
    "    print(f'Epoch {epoch + 1}/{num_epochs} - Training Loss: {train_loss:.4f}')\n",
    "\n",
    "\n",
    "    model.eval()\n",
    "    all_predictions = []\n",
    "    all_labels = []\n",
    "    with torch.no_grad():\n",
    "        for inputs, labels in test_loader:\n",
    "            inputs, labels = inputs.to(device), labels.to(device)  \n",
    "            outputs = model(inputs)\n",
    "            _, predictions = torch.max(outputs, 1)\n",
    "            _, real_labels = torch.max(labels, 1)\n",
    "            all_predictions.extend(predictions.cpu().numpy())\n",
    "            all_labels.extend(real_labels.cpu().numpy())\n",
    "\n",
    "    \n",
    "    accuracy = accuracy_score(all_labels, all_predictions)\n",
    "    conf_matrix = confusion_matrix(all_labels, all_predictions)\n",
    "\n",
    "    if best_accuracy < accuracy:\n",
    "        best_accuracy = accuracy\n",
    "        torch.save(model.state_dict(), save_path)\n",
    "        print(f'Epoch [{epoch + 1}/{num_epochs}] - Saved Best Model (Best Accuracy: {best_accuracy:.4f})')\n",
    "\n",
    "    print(f'Accuracy: {accuracy:.4f}')\n",
    "    print('Confusion Matrix:')\n",
    "    print(conf_matrix)"
   ]
  },
  {
   "cell_type": "code",
   "execution_count": 19,
   "metadata": {},
   "outputs": [
    {
     "name": "stdout",
     "output_type": "stream",
     "text": [
      "The total accuracy is: 0.7378048780487805\n",
      "\n",
      "The accuracy of mono type is: 0.7\n",
      "\n",
      "The accuracy of poly type is: 0.7596153846153846\n",
      "\n",
      "The total confusion matrix is:\n",
      " [[307  26   9  30]\n",
      " [ 31  32   2   8]\n",
      " [ 13   3   6   9]\n",
      " [ 29   7   5 139]]\n",
      "\n",
      "The confusion matrix of mono type is:\n",
      " [[108   8   5  13]\n",
      " [ 17   9   0   3]\n",
      " [  6   1   3   2]\n",
      " [ 11   4   2  48]]\n",
      "\n",
      "The confusion matrix of poly type is:\n",
      " [[199  18   4  17]\n",
      " [ 14  23   2   5]\n",
      " [  7   2   3   7]\n",
      " [ 18   3   3  91]]\n",
      "\n",
      "The total F1 Score is: 0.5640920016979158\n",
      "\n",
      "The F1 Score of mono type is: 0.5352753930827377\n",
      "\n",
      "The F1 Score of poly type is: 0.5788155092739453\n"
     ]
    }
   ],
   "source": [
    "# 创建两个子集，分别存储mono和poly的标签和预测\n",
    "mono_subset_labels = [label for label, img_type in zip(all_labels, types) if img_type == \"mono\"]\n",
    "mono_subset_predictions = [pred for pred, img_type in zip(all_predictions, types) if img_type == \"mono\"]\n",
    "poly_subset_labels = [label for label, img_type in zip(all_labels, types) if img_type == \"poly\"]\n",
    "poly_subset_predictions = [pred for pred, img_type in zip(all_predictions, types) if img_type == \"poly\"]\n",
    "\n",
    "# 计算不同类型的准确率和混淆矩阵\n",
    "accuracy = accuracy_score(all_labels, all_predictions)\n",
    "accuracy_mono = accuracy_score(mono_subset_labels, mono_subset_predictions)\n",
    "accuracy_poly = accuracy_score(poly_subset_labels, poly_subset_predictions)\n",
    "conf_matrix = confusion_matrix(all_labels, all_predictions)\n",
    "conf_matrix_mono = confusion_matrix(mono_subset_labels, mono_subset_predictions)\n",
    "conf_matrix_poly = confusion_matrix(poly_subset_labels, poly_subset_predictions)\n",
    "f1_total = f1_score(all_labels, all_predictions, average='macro')\n",
    "f1_mono = f1_score(mono_subset_labels, mono_subset_predictions, average='macro')\n",
    "f1_poly = f1_score(poly_subset_labels, poly_subset_predictions, average='macro')\n",
    "\n",
    "print('The total accuracy is:', accuracy)\n",
    "print()\n",
    "print('The accuracy of mono type is:', accuracy_mono)\n",
    "print()\n",
    "print('The accuracy of poly type is:', accuracy_poly)\n",
    "print()\n",
    "print('The total confusion matrix is:\\n', conf_matrix)\n",
    "print()\n",
    "print('The confusion matrix of mono type is:\\n', conf_matrix_mono)\n",
    "print()\n",
    "print('The confusion matrix of poly type is:\\n', conf_matrix_poly)\n",
    "print()\n",
    "print('The total F1 Score is:', f1_total)\n",
    "print()\n",
    "print('The F1 Score of mono type is:', f1_mono)\n",
    "print()\n",
    "print('The F1 Score of poly type is:', f1_poly)\n"
   ]
  }
 ],
 "metadata": {
  "kernelspec": {
   "display_name": "torchtest",
   "language": "python",
   "name": "python3"
  },
  "language_info": {
   "codemirror_mode": {
    "name": "ipython",
    "version": 3
   },
   "file_extension": ".py",
   "mimetype": "text/x-python",
   "name": "python",
   "nbconvert_exporter": "python",
   "pygments_lexer": "ipython3",
   "version": "3.9.17"
  }
 },
 "nbformat": 4,
 "nbformat_minor": 2
}
