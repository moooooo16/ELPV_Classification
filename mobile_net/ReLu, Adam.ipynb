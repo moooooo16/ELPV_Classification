{
 "cells": [
  {
   "cell_type": "markdown",
   "metadata": {},
   "source": [
    "mobilenet_v3_large with Relu, Adam"
   ]
  },
  {
   "cell_type": "code",
   "execution_count": 2,
   "metadata": {},
   "outputs": [],
   "source": [
    "import torch\n",
    "import torchvision\n",
    "import torchvision.models as models\n",
    "from torch.utils.data import Dataset, DataLoader\n",
    "from torchvision import transforms\n",
    "import torch.nn as nn\n",
    "import matplotlib.pyplot as plt\n",
    "from torchinfo import summary\n",
    "import os\n",
    "from sklearn.model_selection import train_test_split\n",
    "from PIL import Image\n",
    "import torch.optim as optim\n",
    "from torchvision.models import swin_s\n",
    "from torchvision.models import mobilenet_v3_large\n",
    "import numpy as np\n",
    "from sklearn.metrics import accuracy_score, confusion_matrix, f1_score\n",
    "from collections import OrderedDict\n",
    "from tqdm import tqdm"
   ]
  },
  {
   "cell_type": "code",
   "execution_count": 12,
   "metadata": {},
   "outputs": [],
   "source": [
    "from elpv_reader import load_dataset\n",
    "images, proba, types = load_dataset()"
   ]
  },
  {
   "cell_type": "code",
   "execution_count": 15,
   "metadata": {},
   "outputs": [],
   "source": [
    "# check version number\n",
    "import imblearn\n",
    "from imblearn.over_sampling import SMOTE\n",
    "\n",
    "train_set, test_set, train_lables, test_lables = \\\n",
    "train_test_split(images, proba, test_size=0.25,random_state=42)\n",
    "\n",
    "my_mapping = {0.0:0, 0.3333333333333333:1, 0.6666666666666666:2, 1.0:3}\n",
    "\n",
    "for i in range(len(train_set)):\n",
    "    train_lables[i] = my_mapping[train_lables[i]]\n",
    "\n",
    "for i in range(len(test_set)):\n",
    "    test_lables[i] = my_mapping[test_lables[i]]"
   ]
  },
  {
   "cell_type": "code",
   "execution_count": 16,
   "metadata": {},
   "outputs": [
    {
     "name": "stdout",
     "output_type": "stream",
     "text": [
      "The 0.0 has: 1136\n",
      "The 0.33 has: 222\n",
      "The 0.66 has: 75\n",
      "The 1.0 has: 535\n"
     ]
    }
   ],
   "source": [
    "count_list = [0,0,0,0]\n",
    "for i in range(len(train_set)):\n",
    "    if train_lables[i] == 0:\n",
    "        count_list[0] += 1\n",
    "    if train_lables[i] == 1:\n",
    "        count_list[1] += 1\n",
    "    if train_lables[i] == 2:\n",
    "        count_list[2] += 1\n",
    "    if train_lables[i] == 3:\n",
    "        count_list[3] += 1 \n",
    "for i, j in zip(['The 0.0 has:', 'The 0.33 has:', 'The 0.66 has:', 'The 1.0 has:'], count_list):\n",
    "    print(i, j)"
   ]
  },
  {
   "cell_type": "code",
   "execution_count": 17,
   "metadata": {},
   "outputs": [],
   "source": [
    "class CustomDataset(Dataset):\n",
    "    def __init__(self, images, labels, transform=False):\n",
    "        self.images = images\n",
    "        self.label_mapping = {0: np.eye(4)[0], 1: np.eye(4)[1],\\\n",
    "                              2: np.eye(4)[2], 3: np.eye(4)[3]}\n",
    "        self.labels = [self.label_mapping[label] for label in labels]\n",
    "        self.transform = transform\n",
    "\n",
    "    def __len__(self):\n",
    "        return len(self.images)\n",
    "\n",
    "    def __getitem__(self, idx):\n",
    "        image = self.images[idx]\n",
    "        label = self.labels[idx]\n",
    "        image = Image.fromarray(image)\n",
    "\n",
    "        # 如果图像为灰度图像，将其复制到三个通道，转换为 RGB 图像\n",
    "        if image.mode == 'L':\n",
    "            image = image.convert('RGB')\n",
    "\n",
    "        if self.transform:\n",
    "            image = self.transform(image)\n",
    "        return image, label\n",
    "\n",
    "\n",
    "transform = transforms.Compose([\n",
    "    transforms.Resize((224, 224)),\n",
    "    transforms.ToTensor()\n",
    "    ])\n",
    "\n",
    "\n",
    "custom_train_dataset = CustomDataset(train_set, train_lables, transform)\n",
    "custom_test_dataset = CustomDataset(test_set, test_lables, transform)\n",
    "\n",
    "\n",
    "batch_size = 32\n",
    "train_loader = DataLoader(custom_train_dataset, batch_size=batch_size, shuffle=True)\n",
    "test_loader = DataLoader(custom_test_dataset, batch_size=batch_size, shuffle=False)"
   ]
  },
  {
   "cell_type": "code",
   "execution_count": 18,
   "metadata": {},
   "outputs": [
    {
     "name": "stdout",
     "output_type": "stream",
     "text": [
      "\n"
     ]
    },
    {
     "name": "stderr",
     "output_type": "stream",
     "text": [
      "d:\\anaconda\\envs\\torchtest\\lib\\site-packages\\torchvision\\models\\_utils.py:223: UserWarning: Arguments other than a weight enum or `None` for 'weights' are deprecated since 0.13 and may be removed in the future. The current behavior is equivalent to passing `weights=MobileNet_V3_Large_Weights.IMAGENET1K_V1`. You can also use `weights=MobileNet_V3_Large_Weights.DEFAULT` to get the most up-to-date weights.\n",
      "  warnings.warn(msg)\n"
     ]
    }
   ],
   "source": [
    "if torch.cuda.is_available():\n",
    "    device = torch.device(\"cuda\")  \n",
    "else:\n",
    "    device = torch.device(\"cpu\")  \n",
    "\n",
    "model = mobilenet_v3_large(weights=True)\n",
    "\n",
    "classifier1 = nn.Sequential(OrderedDict([('fc1', nn.Linear(960, 4)),\n",
    "                           ('output', nn.ReLU())\n",
    "                          ]))\n",
    "    \n",
    "model.classifier = classifier1\n",
    "\n",
    "model.to(device)\n",
    "print()"
   ]
  },
  {
   "cell_type": "code",
   "execution_count": 19,
   "metadata": {},
   "outputs": [
    {
     "name": "stderr",
     "output_type": "stream",
     "text": [
      "100%|██████████| 62/62 [00:09<00:00,  6.79it/s]\n"
     ]
    },
    {
     "name": "stdout",
     "output_type": "stream",
     "text": [
      "Epoch 1/20 - Training Loss: 1.3146\n",
      "Accuracy: 0.3552\n",
      "Confusion Matrix:\n",
      "[[134 198   2  38]\n",
      " [ 21  38   2  12]\n",
      " [ 17  10   1   3]\n",
      " [ 52  68   0  60]]\n"
     ]
    },
    {
     "name": "stderr",
     "output_type": "stream",
     "text": [
      "100%|██████████| 62/62 [00:06<00:00, 10.29it/s]\n"
     ]
    },
    {
     "name": "stdout",
     "output_type": "stream",
     "text": [
      "Epoch 2/20 - Training Loss: 1.1848\n",
      "Accuracy: 0.2576\n",
      "Confusion Matrix:\n",
      "[[ 47  89   1 235]\n",
      " [  4  22   0  47]\n",
      " [  1   9   0  21]\n",
      " [ 16  64   0 100]]\n"
     ]
    },
    {
     "name": "stderr",
     "output_type": "stream",
     "text": [
      "100%|██████████| 62/62 [00:05<00:00, 10.39it/s]\n"
     ]
    },
    {
     "name": "stdout",
     "output_type": "stream",
     "text": [
      "Epoch 3/20 - Training Loss: 1.0680\n",
      "Accuracy: 0.2698\n",
      "Confusion Matrix:\n",
      "[[ 62 103   2 205]\n",
      " [  7  21   0  45]\n",
      " [  1  13   0  17]\n",
      " [ 34  52   0  94]]\n"
     ]
    },
    {
     "name": "stderr",
     "output_type": "stream",
     "text": [
      "100%|██████████| 62/62 [00:05<00:00, 10.42it/s]\n"
     ]
    },
    {
     "name": "stdout",
     "output_type": "stream",
     "text": [
      "Epoch 4/20 - Training Loss: 0.9788\n",
      "Accuracy: 0.3293\n",
      "Confusion Matrix:\n",
      "[[ 94  62   0 216]\n",
      " [ 18  12   0  43]\n",
      " [  3   5   0  23]\n",
      " [ 46  23   1 110]]\n"
     ]
    },
    {
     "name": "stderr",
     "output_type": "stream",
     "text": [
      "100%|██████████| 62/62 [00:06<00:00,  9.91it/s]\n"
     ]
    },
    {
     "name": "stdout",
     "output_type": "stream",
     "text": [
      "Epoch 5/20 - Training Loss: 0.9175\n",
      "Accuracy: 0.4497\n",
      "Confusion Matrix:\n",
      "[[151  10   1 210]\n",
      " [ 25   1   0  47]\n",
      " [  4   2   0  25]\n",
      " [ 20  17   0 143]]\n"
     ]
    },
    {
     "name": "stderr",
     "output_type": "stream",
     "text": [
      "100%|██████████| 62/62 [00:06<00:00,  9.46it/s]\n"
     ]
    },
    {
     "name": "stdout",
     "output_type": "stream",
     "text": [
      "Epoch 6/20 - Training Loss: 0.8825\n",
      "Accuracy: 0.5777\n",
      "Confusion Matrix:\n",
      "[[222   3   1 146]\n",
      " [ 36   0   0  37]\n",
      " [ 11   1   0  19]\n",
      " [ 19   3   1 157]]\n"
     ]
    },
    {
     "name": "stderr",
     "output_type": "stream",
     "text": [
      "100%|██████████| 62/62 [00:06<00:00,  9.21it/s]\n"
     ]
    },
    {
     "name": "stdout",
     "output_type": "stream",
     "text": [
      "Epoch 7/20 - Training Loss: 0.8490\n",
      "Accuracy: 0.6494\n",
      "Confusion Matrix:\n",
      "[[269   0   0 103]\n",
      " [ 48   0   0  25]\n",
      " [ 12   0   0  19]\n",
      " [ 23   0   0 157]]\n"
     ]
    },
    {
     "name": "stderr",
     "output_type": "stream",
     "text": [
      "100%|██████████| 62/62 [00:06<00:00,  9.10it/s]\n"
     ]
    },
    {
     "name": "stdout",
     "output_type": "stream",
     "text": [
      "Epoch 8/20 - Training Loss: 0.8233\n",
      "Accuracy: 0.6845\n",
      "Confusion Matrix:\n",
      "[[297   1   0  74]\n",
      " [ 49   0   0  24]\n",
      " [ 16   0   0  15]\n",
      " [ 28   0   0 152]]\n"
     ]
    },
    {
     "name": "stderr",
     "output_type": "stream",
     "text": [
      "100%|██████████| 62/62 [00:06<00:00,  9.30it/s]\n"
     ]
    },
    {
     "name": "stdout",
     "output_type": "stream",
     "text": [
      "Epoch 9/20 - Training Loss: 0.7938\n",
      "Accuracy: 0.6799\n",
      "Confusion Matrix:\n",
      "[[300   1   0  71]\n",
      " [ 54   0   0  19]\n",
      " [ 18   0   0  13]\n",
      " [ 34   0   0 146]]\n"
     ]
    },
    {
     "name": "stderr",
     "output_type": "stream",
     "text": [
      "100%|██████████| 62/62 [00:06<00:00,  9.04it/s]\n"
     ]
    },
    {
     "name": "stdout",
     "output_type": "stream",
     "text": [
      "Epoch 10/20 - Training Loss: 0.7768\n",
      "Accuracy: 0.6860\n",
      "Confusion Matrix:\n",
      "[[307   1   0  64]\n",
      " [ 58   0   0  15]\n",
      " [ 20   0   0  11]\n",
      " [ 37   0   0 143]]\n"
     ]
    },
    {
     "name": "stderr",
     "output_type": "stream",
     "text": [
      "100%|██████████| 62/62 [00:06<00:00,  9.05it/s]\n"
     ]
    },
    {
     "name": "stdout",
     "output_type": "stream",
     "text": [
      "Epoch 11/20 - Training Loss: 0.7486\n",
      "Accuracy: 0.6966\n",
      "Confusion Matrix:\n",
      "[[317   1   0  54]\n",
      " [ 59   0   0  14]\n",
      " [ 23   1   0   7]\n",
      " [ 40   0   0 140]]\n"
     ]
    },
    {
     "name": "stderr",
     "output_type": "stream",
     "text": [
      "100%|██████████| 62/62 [00:06<00:00,  9.17it/s]\n"
     ]
    },
    {
     "name": "stdout",
     "output_type": "stream",
     "text": [
      "Epoch 12/20 - Training Loss: 0.7430\n",
      "Accuracy: 0.7134\n",
      "Confusion Matrix:\n",
      "[[334   1   0  37]\n",
      " [ 67   0   0   6]\n",
      " [ 25   1   0   5]\n",
      " [ 46   0   0 134]]\n"
     ]
    },
    {
     "name": "stderr",
     "output_type": "stream",
     "text": [
      "100%|██████████| 62/62 [00:06<00:00,  9.11it/s]\n"
     ]
    },
    {
     "name": "stdout",
     "output_type": "stream",
     "text": [
      "Epoch 13/20 - Training Loss: 0.7143\n",
      "Accuracy: 0.7119\n",
      "Confusion Matrix:\n",
      "[[336   1   0  35]\n",
      " [ 67   1   0   5]\n",
      " [ 25   1   0   5]\n",
      " [ 50   0   0 130]]\n"
     ]
    },
    {
     "name": "stderr",
     "output_type": "stream",
     "text": [
      "100%|██████████| 62/62 [00:06<00:00,  9.32it/s]\n"
     ]
    },
    {
     "name": "stdout",
     "output_type": "stream",
     "text": [
      "Epoch 14/20 - Training Loss: 0.6909\n",
      "Accuracy: 0.7119\n",
      "Confusion Matrix:\n",
      "[[337   1   0  34]\n",
      " [ 65   2   0   6]\n",
      " [ 26   0   0   5]\n",
      " [ 51   1   0 128]]\n"
     ]
    },
    {
     "name": "stderr",
     "output_type": "stream",
     "text": [
      "100%|██████████| 62/62 [00:06<00:00,  9.04it/s]\n"
     ]
    },
    {
     "name": "stdout",
     "output_type": "stream",
     "text": [
      "Epoch 15/20 - Training Loss: 0.6645\n",
      "Accuracy: 0.7210\n",
      "Confusion Matrix:\n",
      "[[341   3   0  28]\n",
      " [ 67   3   0   3]\n",
      " [ 27   1   0   3]\n",
      " [ 50   1   0 129]]\n"
     ]
    },
    {
     "name": "stderr",
     "output_type": "stream",
     "text": [
      "100%|██████████| 62/62 [00:06<00:00,  9.03it/s]\n"
     ]
    },
    {
     "name": "stdout",
     "output_type": "stream",
     "text": [
      "Epoch 16/20 - Training Loss: 0.6550\n",
      "Accuracy: 0.7226\n",
      "Confusion Matrix:\n",
      "[[343   3   0  26]\n",
      " [ 64   4   0   5]\n",
      " [ 27   1   0   3]\n",
      " [ 51   2   0 127]]\n"
     ]
    },
    {
     "name": "stderr",
     "output_type": "stream",
     "text": [
      "100%|██████████| 62/62 [00:07<00:00,  8.85it/s]\n"
     ]
    },
    {
     "name": "stdout",
     "output_type": "stream",
     "text": [
      "Epoch 17/20 - Training Loss: 0.6247\n",
      "Accuracy: 0.7271\n",
      "Confusion Matrix:\n",
      "[[344   4   0  24]\n",
      " [ 63   5   0   5]\n",
      " [ 26   0   0   5]\n",
      " [ 49   3   0 128]]\n"
     ]
    },
    {
     "name": "stderr",
     "output_type": "stream",
     "text": [
      "100%|██████████| 62/62 [00:06<00:00,  9.19it/s]\n"
     ]
    },
    {
     "name": "stdout",
     "output_type": "stream",
     "text": [
      "Epoch 18/20 - Training Loss: 0.6041\n",
      "Accuracy: 0.7317\n",
      "Confusion Matrix:\n",
      "[[346   4   0  22]\n",
      " [ 62   6   0   5]\n",
      " [ 26   0   0   5]\n",
      " [ 49   3   0 128]]\n"
     ]
    },
    {
     "name": "stderr",
     "output_type": "stream",
     "text": [
      "100%|██████████| 62/62 [00:07<00:00,  8.71it/s]\n"
     ]
    },
    {
     "name": "stdout",
     "output_type": "stream",
     "text": [
      "Epoch 19/20 - Training Loss: 0.5760\n",
      "Accuracy: 0.7348\n",
      "Confusion Matrix:\n",
      "[[348   4   0  20]\n",
      " [ 57   9   1   6]\n",
      " [ 25   0   0   6]\n",
      " [ 51   4   0 125]]\n"
     ]
    },
    {
     "name": "stderr",
     "output_type": "stream",
     "text": [
      "100%|██████████| 62/62 [00:06<00:00,  9.83it/s]\n"
     ]
    },
    {
     "name": "stdout",
     "output_type": "stream",
     "text": [
      "Epoch 20/20 - Training Loss: 0.5657\n",
      "Accuracy: 0.7378\n",
      "Confusion Matrix:\n",
      "[[348   4   0  20]\n",
      " [ 56   9   1   7]\n",
      " [ 26   0   0   5]\n",
      " [ 49   4   0 127]]\n"
     ]
    }
   ],
   "source": [
    "\n",
    "lossfunc = nn.CrossEntropyLoss()\n",
    "optimizer = optim.Adam(model.parameters(), lr=1e-5)\n",
    "\n",
    "save_path = '.\\model.pth'\n",
    "best_accuracy = 79\n",
    "num_epochs = 20\n",
    "for epoch in range(num_epochs):\n",
    "    model.train()\n",
    "    train_loss = 0\n",
    "    for inputs, labels in tqdm(train_loader):\n",
    "        inputs, labels = inputs.to(device), labels.to(device)  # 移动数据到 CUDA\n",
    "        optimizer.zero_grad()\n",
    "        outputs = model(inputs)\n",
    "        loss = lossfunc(outputs, labels)\n",
    "        loss.backward()\n",
    "        optimizer.step()\n",
    "        train_loss += loss.item()\n",
    "    train_loss = train_loss / len(train_loader)\n",
    "    print(f'Epoch {epoch + 1}/{num_epochs} - Training Loss: {train_loss:.4f}')\n",
    "\n",
    "\n",
    "    model.eval()\n",
    "    all_predictions = []\n",
    "    all_labels = []\n",
    "    with torch.no_grad():\n",
    "        for inputs, labels in test_loader:\n",
    "            inputs, labels = inputs.to(device), labels.to(device)  \n",
    "            outputs = model(inputs)\n",
    "            _, predictions = torch.max(outputs, 1)\n",
    "            _, real_labels = torch.max(labels, 1)\n",
    "            all_predictions.extend(predictions.cpu().numpy())\n",
    "            all_labels.extend(real_labels.cpu().numpy())\n",
    "\n",
    "    \n",
    "    accuracy = accuracy_score(all_labels, all_predictions)\n",
    "    conf_matrix = confusion_matrix(all_labels, all_predictions)\n",
    "\n",
    "    if best_accuracy < accuracy:\n",
    "        best_accuracy = accuracy\n",
    "        torch.save(model.state_dict(), save_path)\n",
    "        print(f'Epoch [{epoch + 1}/{num_epochs}] - Saved Best Model (Best Accuracy: {best_accuracy:.4f})')\n",
    "\n",
    "    print(f'Accuracy: {accuracy:.4f}')\n",
    "    print('Confusion Matrix:')\n",
    "    print(conf_matrix)"
   ]
  },
  {
   "cell_type": "code",
   "execution_count": 20,
   "metadata": {},
   "outputs": [
    {
     "name": "stdout",
     "output_type": "stream",
     "text": [
      "The total accuracy is: 0.7378048780487805\n",
      "\n",
      "The accuracy of mono type is: 0.7083333333333334\n",
      "\n",
      "The accuracy of poly type is: 0.7548076923076923\n",
      "\n",
      "The total confusion matrix is:\n",
      " [[348   4   0  20]\n",
      " [ 56   9   1   7]\n",
      " [ 26   0   0   5]\n",
      " [ 49   4   0 127]]\n",
      "\n",
      "The confusion matrix of mono type is:\n",
      " [[125   1   0   8]\n",
      " [ 23   1   1   4]\n",
      " [ 10   0   0   2]\n",
      " [ 19   2   0  44]]\n",
      "\n",
      "The confusion matrix of poly type is:\n",
      " [[223   3   0  12]\n",
      " [ 33   8   0   3]\n",
      " [ 16   0   0   3]\n",
      " [ 30   2   0  83]]\n",
      "\n",
      "The total F1 Score is: 0.4417809691184066\n",
      "\n",
      "The F1 Score of mono type is: 0.39497793399448167\n",
      "\n",
      "The F1 Score of poly type is: 0.46878654970760236\n"
     ]
    }
   ],
   "source": [
    "# 创建两个子集，分别存储mono和poly的标签和预测\n",
    "mono_subset_labels = [label for label, img_type in zip(all_labels, types) if img_type == \"mono\"]\n",
    "mono_subset_predictions = [pred for pred, img_type in zip(all_predictions, types) if img_type == \"mono\"]\n",
    "poly_subset_labels = [label for label, img_type in zip(all_labels, types) if img_type == \"poly\"]\n",
    "poly_subset_predictions = [pred for pred, img_type in zip(all_predictions, types) if img_type == \"poly\"]\n",
    "\n",
    "# 计算不同类型的准确率和混淆矩阵\n",
    "accuracy = accuracy_score(all_labels, all_predictions)\n",
    "accuracy_mono = accuracy_score(mono_subset_labels, mono_subset_predictions)\n",
    "accuracy_poly = accuracy_score(poly_subset_labels, poly_subset_predictions)\n",
    "conf_matrix = confusion_matrix(all_labels, all_predictions)\n",
    "conf_matrix_mono = confusion_matrix(mono_subset_labels, mono_subset_predictions)\n",
    "conf_matrix_poly = confusion_matrix(poly_subset_labels, poly_subset_predictions)\n",
    "f1_total = f1_score(all_labels, all_predictions, average='macro')\n",
    "f1_mono = f1_score(mono_subset_labels, mono_subset_predictions, average='macro')\n",
    "f1_poly = f1_score(poly_subset_labels, poly_subset_predictions, average='macro')\n",
    "\n",
    "print('The total accuracy is:', accuracy)\n",
    "print()\n",
    "print('The accuracy of mono type is:', accuracy_mono)\n",
    "print()\n",
    "print('The accuracy of poly type is:', accuracy_poly)\n",
    "print()\n",
    "print('The total confusion matrix is:\\n', conf_matrix)\n",
    "print()\n",
    "print('The confusion matrix of mono type is:\\n', conf_matrix_mono)\n",
    "print()\n",
    "print('The confusion matrix of poly type is:\\n', conf_matrix_poly)\n",
    "print()\n",
    "print('The total F1 Score is:', f1_total)\n",
    "print()\n",
    "print('The F1 Score of mono type is:', f1_mono)\n",
    "print()\n",
    "print('The F1 Score of poly type is:', f1_poly)\n"
   ]
  }
 ],
 "metadata": {
  "kernelspec": {
   "display_name": "torchtest",
   "language": "python",
   "name": "python3"
  },
  "language_info": {
   "codemirror_mode": {
    "name": "ipython",
    "version": 3
   },
   "file_extension": ".py",
   "mimetype": "text/x-python",
   "name": "python",
   "nbconvert_exporter": "python",
   "pygments_lexer": "ipython3",
   "version": "3.9.17"
  }
 },
 "nbformat": 4,
 "nbformat_minor": 2
}
