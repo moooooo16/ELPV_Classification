{
 "cells": [
  {
   "cell_type": "markdown",
   "metadata": {},
   "source": [
    "Augment train_set then using mobilenet_v3_large, ReLu, SGD"
   ]
  },
  {
   "cell_type": "code",
   "execution_count": 1,
   "metadata": {},
   "outputs": [],
   "source": [
    "import torch\n",
    "import torchvision\n",
    "import torchvision.models as models\n",
    "from torch.utils.data import Dataset, DataLoader\n",
    "from torchvision import transforms\n",
    "import torch.nn as nn\n",
    "import matplotlib.pyplot as plt\n",
    "from torchinfo import summary\n",
    "import os\n",
    "from sklearn.model_selection import train_test_split\n",
    "from PIL import Image\n",
    "import torch.optim as optim\n",
    "from torchvision.models import swin_s\n",
    "from torchvision.models import mobilenet_v3_large\n",
    "import numpy as np\n",
    "from sklearn.metrics import accuracy_score, confusion_matrix, f1_score\n",
    "from collections import OrderedDict\n",
    "from tqdm import tqdm"
   ]
  },
  {
   "cell_type": "code",
   "execution_count": 2,
   "metadata": {},
   "outputs": [],
   "source": [
    "from elpv_reader import load_dataset\n",
    "images, proba, types = load_dataset()"
   ]
  },
  {
   "cell_type": "code",
   "execution_count": 3,
   "metadata": {},
   "outputs": [],
   "source": [
    "# check version number\n",
    "import imblearn\n",
    "from imblearn.over_sampling import SMOTE\n",
    "\n",
    "train_set, test_set, train_lables, test_lables = \\\n",
    "train_test_split(images, proba, test_size=0.25,random_state=42)\n",
    "\n",
    "my_mapping = {0.0:0, 0.3333333333333333:1, 0.6666666666666666:2, 1.0:3}\n",
    "\n",
    "for i in range(len(train_set)):\n",
    "    train_lables[i] = my_mapping[train_lables[i]]\n",
    "\n",
    "for i in range(len(test_set)):\n",
    "    test_lables[i] = my_mapping[test_lables[i]]"
   ]
  },
  {
   "cell_type": "code",
   "execution_count": 4,
   "metadata": {},
   "outputs": [
    {
     "name": "stdout",
     "output_type": "stream",
     "text": [
      "The 0.0 has: 1136\n",
      "The 0.33 has: 222\n",
      "The 0.66 has: 75\n",
      "The 1.0 has: 535\n"
     ]
    }
   ],
   "source": [
    "count_list = [0,0,0,0]\n",
    "for i in range(len(train_set)):\n",
    "    if train_lables[i] == 0:\n",
    "        count_list[0] += 1\n",
    "    if train_lables[i] == 1:\n",
    "        count_list[1] += 1\n",
    "    if train_lables[i] == 2:\n",
    "        count_list[2] += 1\n",
    "    if train_lables[i] == 3:\n",
    "        count_list[3] += 1 \n",
    "for i, j in zip(['The 0.0 has:', 'The 0.33 has:', 'The 0.66 has:', 'The 1.0 has:'], count_list):\n",
    "    print(i, j)"
   ]
  },
  {
   "cell_type": "code",
   "execution_count": 5,
   "metadata": {},
   "outputs": [],
   "source": [
    "class CustomDataset(Dataset):\n",
    "    def __init__(self, images, labels, transform=False):\n",
    "        self.images = images\n",
    "        self.label_mapping = {0: np.eye(4)[0], 1: np.eye(4)[1],\\\n",
    "                              2: np.eye(4)[2], 3: np.eye(4)[3]}\n",
    "        self.labels = [self.label_mapping[label] for label in labels]\n",
    "        self.transform = transform\n",
    "\n",
    "    def __len__(self):\n",
    "        return len(self.images)\n",
    "\n",
    "    def __getitem__(self, idx):\n",
    "        image = self.images[idx]\n",
    "        label = self.labels[idx]\n",
    "        image = Image.fromarray(image)\n",
    "\n",
    "        # 如果图像为灰度图像，将其复制到三个通道，转换为 RGB 图像\n",
    "        if image.mode == 'L':\n",
    "            image = image.convert('RGB')\n",
    "\n",
    "        if self.transform:\n",
    "            image = self.transform(image)\n",
    "        return image, label\n",
    "\n",
    "\n",
    "transform_test = transforms.Compose([\n",
    "    transforms.Resize((224, 224)),\n",
    "    transforms.ToTensor()\n",
    "    ])\n",
    "\n",
    "transform_train = transforms.Compose([\n",
    "    transforms.Resize((224, 224)),\n",
    "    transforms.RandomHorizontalFlip(),\n",
    "    transforms.RandomRotation(10), \n",
    "    transforms.RandomApply([transforms.GaussianBlur(kernel_size=3)], p=0.5),\n",
    "    transforms.ToTensor(),\n",
    "    transforms.Normalize(mean=[0.485, 0.456, 0.406], std=[0.229, 0.224, 0.225])\n",
    "    ])\n",
    "\n",
    "\n",
    "custom_train_dataset = CustomDataset(train_set, train_lables, transform_train)\n",
    "custom_test_dataset = CustomDataset(test_set, test_lables, transform_test)\n",
    "\n",
    "\n",
    "batch_size = 32\n",
    "train_loader = DataLoader(custom_train_dataset, batch_size=batch_size, shuffle=True)\n",
    "test_loader = DataLoader(custom_test_dataset, batch_size=batch_size, shuffle=False)"
   ]
  },
  {
   "cell_type": "code",
   "execution_count": 6,
   "metadata": {},
   "outputs": [
    {
     "name": "stdout",
     "output_type": "stream",
     "text": [
      "\n"
     ]
    },
    {
     "name": "stderr",
     "output_type": "stream",
     "text": [
      "d:\\anaconda\\envs\\torchtest\\lib\\site-packages\\torchvision\\models\\_utils.py:223: UserWarning: Arguments other than a weight enum or `None` for 'weights' are deprecated since 0.13 and may be removed in the future. The current behavior is equivalent to passing `weights=MobileNet_V3_Large_Weights.IMAGENET1K_V1`. You can also use `weights=MobileNet_V3_Large_Weights.DEFAULT` to get the most up-to-date weights.\n",
      "  warnings.warn(msg)\n"
     ]
    }
   ],
   "source": [
    "if torch.cuda.is_available():\n",
    "    device = torch.device(\"cuda\")  \n",
    "else:\n",
    "    device = torch.device(\"cpu\")  \n",
    "\n",
    "model = mobilenet_v3_large(weights=True)\n",
    "\n",
    "classifier1 = nn.Sequential(OrderedDict([('fc1', nn.Linear(960, 4)),\n",
    "                           ('output', nn.ReLU())\n",
    "                          ]))\n",
    "    \n",
    "model.classifier = classifier1\n",
    "\n",
    "model.to(device)\n",
    "print()"
   ]
  },
  {
   "cell_type": "code",
   "execution_count": 7,
   "metadata": {},
   "outputs": [
    {
     "name": "stderr",
     "output_type": "stream",
     "text": [
      "100%|██████████| 62/62 [00:14<00:00,  4.41it/s]\n"
     ]
    },
    {
     "name": "stdout",
     "output_type": "stream",
     "text": [
      "Epoch 1/20 - Training Loss: 1.1807\n",
      "Accuracy: 0.3338\n",
      "Confusion Matrix:\n",
      "[[181  40  31 120]\n",
      " [ 36   6   7  24]\n",
      " [ 12   7   0  12]\n",
      " [107  31  10  32]]\n"
     ]
    },
    {
     "name": "stderr",
     "output_type": "stream",
     "text": [
      "100%|██████████| 62/62 [00:10<00:00,  6.01it/s]\n"
     ]
    },
    {
     "name": "stdout",
     "output_type": "stream",
     "text": [
      "Epoch 2/20 - Training Loss: 1.0642\n",
      "Accuracy: 0.4253\n",
      "Confusion Matrix:\n",
      "[[265  32   8  67]\n",
      " [ 47   3   3  20]\n",
      " [ 25   3   0   3]\n",
      " [152  15   2  11]]\n"
     ]
    },
    {
     "name": "stderr",
     "output_type": "stream",
     "text": [
      "100%|██████████| 62/62 [00:12<00:00,  5.15it/s]\n"
     ]
    },
    {
     "name": "stdout",
     "output_type": "stream",
     "text": [
      "Epoch 3/20 - Training Loss: 1.0132\n",
      "Accuracy: 0.5122\n",
      "Confusion Matrix:\n",
      "[[331   7   0  34]\n",
      " [ 62   0   0  11]\n",
      " [ 31   0   0   0]\n",
      " [175   0   0   5]]\n"
     ]
    },
    {
     "name": "stderr",
     "output_type": "stream",
     "text": [
      "100%|██████████| 62/62 [00:11<00:00,  5.54it/s]\n"
     ]
    },
    {
     "name": "stdout",
     "output_type": "stream",
     "text": [
      "Epoch 4/20 - Training Loss: 0.9847\n",
      "Accuracy: 0.5290\n",
      "Confusion Matrix:\n",
      "[[342   1   0  29]\n",
      " [ 64   0   0   9]\n",
      " [ 30   0   0   1]\n",
      " [175   0   0   5]]\n"
     ]
    },
    {
     "name": "stderr",
     "output_type": "stream",
     "text": [
      "100%|██████████| 62/62 [00:11<00:00,  5.64it/s]\n"
     ]
    },
    {
     "name": "stdout",
     "output_type": "stream",
     "text": [
      "Epoch 5/20 - Training Loss: 0.9523\n",
      "Accuracy: 0.5061\n",
      "Confusion Matrix:\n",
      "[[326   0   0  46]\n",
      " [ 65   0   0   8]\n",
      " [ 31   0   0   0]\n",
      " [174   0   0   6]]\n"
     ]
    },
    {
     "name": "stderr",
     "output_type": "stream",
     "text": [
      "100%|██████████| 62/62 [00:11<00:00,  5.61it/s]\n"
     ]
    },
    {
     "name": "stdout",
     "output_type": "stream",
     "text": [
      "Epoch 6/20 - Training Loss: 0.9390\n",
      "Accuracy: 0.4924\n",
      "Confusion Matrix:\n",
      "[[313   0   0  59]\n",
      " [ 61   0   0  12]\n",
      " [ 30   0   0   1]\n",
      " [170   0   0  10]]\n"
     ]
    },
    {
     "name": "stderr",
     "output_type": "stream",
     "text": [
      "100%|██████████| 62/62 [00:10<00:00,  5.76it/s]\n"
     ]
    },
    {
     "name": "stdout",
     "output_type": "stream",
     "text": [
      "Epoch 7/20 - Training Loss: 0.9246\n",
      "Accuracy: 0.4893\n",
      "Confusion Matrix:\n",
      "[[317   0   0  55]\n",
      " [ 59   0   0  14]\n",
      " [ 28   0   0   3]\n",
      " [176   0   0   4]]\n"
     ]
    },
    {
     "name": "stderr",
     "output_type": "stream",
     "text": [
      "100%|██████████| 62/62 [00:10<00:00,  5.64it/s]\n"
     ]
    },
    {
     "name": "stdout",
     "output_type": "stream",
     "text": [
      "Epoch 8/20 - Training Loss: 0.9111\n",
      "Accuracy: 0.4741\n",
      "Confusion Matrix:\n",
      "[[304   0   0  68]\n",
      " [ 59   0   0  14]\n",
      " [ 30   0   0   1]\n",
      " [173   0   0   7]]\n"
     ]
    },
    {
     "name": "stderr",
     "output_type": "stream",
     "text": [
      "100%|██████████| 62/62 [00:11<00:00,  5.61it/s]\n"
     ]
    },
    {
     "name": "stdout",
     "output_type": "stream",
     "text": [
      "Epoch 9/20 - Training Loss: 0.9057\n",
      "Accuracy: 0.5305\n",
      "Confusion Matrix:\n",
      "[[344   0   0  28]\n",
      " [ 61   0   0  12]\n",
      " [ 31   0   0   0]\n",
      " [176   0   0   4]]\n"
     ]
    },
    {
     "name": "stderr",
     "output_type": "stream",
     "text": [
      "100%|██████████| 62/62 [00:11<00:00,  5.59it/s]\n"
     ]
    },
    {
     "name": "stdout",
     "output_type": "stream",
     "text": [
      "Epoch 10/20 - Training Loss: 0.8824\n",
      "Accuracy: 0.5442\n",
      "Confusion Matrix:\n",
      "[[351   1   0  20]\n",
      " [ 66   0   0   7]\n",
      " [ 30   0   0   1]\n",
      " [174   0   0   6]]\n"
     ]
    },
    {
     "name": "stderr",
     "output_type": "stream",
     "text": [
      "100%|██████████| 62/62 [00:11<00:00,  5.51it/s]\n"
     ]
    },
    {
     "name": "stdout",
     "output_type": "stream",
     "text": [
      "Epoch 11/20 - Training Loss: 0.8736\n",
      "Accuracy: 0.5351\n",
      "Confusion Matrix:\n",
      "[[343   0   0  29]\n",
      " [ 68   0   0   5]\n",
      " [ 28   0   0   3]\n",
      " [172   0   0   8]]\n"
     ]
    },
    {
     "name": "stderr",
     "output_type": "stream",
     "text": [
      "100%|██████████| 62/62 [00:10<00:00,  5.83it/s]\n"
     ]
    },
    {
     "name": "stdout",
     "output_type": "stream",
     "text": [
      "Epoch 12/20 - Training Loss: 0.8627\n",
      "Accuracy: 0.5366\n",
      "Confusion Matrix:\n",
      "[[344   3   0  25]\n",
      " [ 67   1   0   5]\n",
      " [ 30   0   0   1]\n",
      " [173   0   0   7]]\n"
     ]
    },
    {
     "name": "stderr",
     "output_type": "stream",
     "text": [
      "100%|██████████| 62/62 [00:10<00:00,  5.67it/s]\n"
     ]
    },
    {
     "name": "stdout",
     "output_type": "stream",
     "text": [
      "Epoch 13/20 - Training Loss: 0.8562\n",
      "Accuracy: 0.5351\n",
      "Confusion Matrix:\n",
      "[[344   3   0  25]\n",
      " [ 67   1   0   5]\n",
      " [ 30   0   0   1]\n",
      " [174   0   0   6]]\n"
     ]
    },
    {
     "name": "stderr",
     "output_type": "stream",
     "text": [
      "100%|██████████| 62/62 [00:11<00:00,  5.57it/s]\n"
     ]
    },
    {
     "name": "stdout",
     "output_type": "stream",
     "text": [
      "Epoch 14/20 - Training Loss: 0.8336\n",
      "Accuracy: 0.5381\n",
      "Confusion Matrix:\n",
      "[[345   2   0  25]\n",
      " [ 68   0   0   5]\n",
      " [ 27   0   0   4]\n",
      " [171   1   0   8]]\n"
     ]
    },
    {
     "name": "stderr",
     "output_type": "stream",
     "text": [
      "100%|██████████| 62/62 [00:11<00:00,  5.26it/s]\n"
     ]
    },
    {
     "name": "stdout",
     "output_type": "stream",
     "text": [
      "Epoch 15/20 - Training Loss: 0.8398\n",
      "Accuracy: 0.5229\n",
      "Confusion Matrix:\n",
      "[[333   3   0  36]\n",
      " [ 68   0   0   5]\n",
      " [ 29   0   0   2]\n",
      " [169   1   0  10]]\n"
     ]
    },
    {
     "name": "stderr",
     "output_type": "stream",
     "text": [
      "100%|██████████| 62/62 [00:10<00:00,  5.69it/s]\n"
     ]
    },
    {
     "name": "stdout",
     "output_type": "stream",
     "text": [
      "Epoch 16/20 - Training Loss: 0.8319\n",
      "Accuracy: 0.5335\n",
      "Confusion Matrix:\n",
      "[[341   2   0  29]\n",
      " [ 68   0   0   5]\n",
      " [ 29   0   0   2]\n",
      " [171   0   0   9]]\n"
     ]
    },
    {
     "name": "stderr",
     "output_type": "stream",
     "text": [
      "100%|██████████| 62/62 [00:11<00:00,  5.35it/s]\n"
     ]
    },
    {
     "name": "stdout",
     "output_type": "stream",
     "text": [
      "Epoch 17/20 - Training Loss: 0.8288\n",
      "Accuracy: 0.5320\n",
      "Confusion Matrix:\n",
      "[[338   3   0  31]\n",
      " [ 68   1   0   4]\n",
      " [ 31   0   0   0]\n",
      " [169   1   0  10]]\n"
     ]
    },
    {
     "name": "stderr",
     "output_type": "stream",
     "text": [
      "100%|██████████| 62/62 [00:10<00:00,  5.87it/s]\n"
     ]
    },
    {
     "name": "stdout",
     "output_type": "stream",
     "text": [
      "Epoch 18/20 - Training Loss: 0.8164\n",
      "Accuracy: 0.5351\n",
      "Confusion Matrix:\n",
      "[[340   4   0  28]\n",
      " [ 68   1   0   4]\n",
      " [ 31   0   0   0]\n",
      " [170   0   0  10]]\n"
     ]
    },
    {
     "name": "stderr",
     "output_type": "stream",
     "text": [
      "100%|██████████| 62/62 [00:10<00:00,  6.03it/s]\n"
     ]
    },
    {
     "name": "stdout",
     "output_type": "stream",
     "text": [
      "Epoch 19/20 - Training Loss: 0.8191\n",
      "Accuracy: 0.5335\n",
      "Confusion Matrix:\n",
      "[[344   3   0  25]\n",
      " [ 71   1   0   1]\n",
      " [ 31   0   0   0]\n",
      " [174   1   0   5]]\n"
     ]
    },
    {
     "name": "stderr",
     "output_type": "stream",
     "text": [
      "100%|██████████| 62/62 [00:10<00:00,  6.04it/s]\n"
     ]
    },
    {
     "name": "stdout",
     "output_type": "stream",
     "text": [
      "Epoch 20/20 - Training Loss: 0.8120\n",
      "Accuracy: 0.5274\n",
      "Confusion Matrix:\n",
      "[[330   5   0  37]\n",
      " [ 66   2   0   5]\n",
      " [ 29   2   0   0]\n",
      " [163   3   0  14]]\n"
     ]
    }
   ],
   "source": [
    "\n",
    "lossfunc = nn.CrossEntropyLoss()\n",
    "optimizer = optim.SGD(model.parameters(), lr=1e-3)\n",
    "\n",
    "save_path = '.\\model.pth'\n",
    "best_accuracy = 79\n",
    "num_epochs = 20\n",
    "for epoch in range(num_epochs):\n",
    "    model.train()\n",
    "    train_loss = 0\n",
    "    for inputs, labels in tqdm(train_loader):\n",
    "        inputs, labels = inputs.to(device), labels.to(device)  # 移动数据到 CUDA\n",
    "        optimizer.zero_grad()\n",
    "        outputs = model(inputs)\n",
    "        loss = lossfunc(outputs, labels)\n",
    "        loss.backward()\n",
    "        optimizer.step()\n",
    "        train_loss += loss.item()\n",
    "    train_loss = train_loss / len(train_loader)\n",
    "    print(f'Epoch {epoch + 1}/{num_epochs} - Training Loss: {train_loss:.4f}')\n",
    "\n",
    "\n",
    "    model.eval()\n",
    "    all_predictions = []\n",
    "    all_labels = []\n",
    "    with torch.no_grad():\n",
    "        for inputs, labels in test_loader:\n",
    "            inputs, labels = inputs.to(device), labels.to(device)  \n",
    "            outputs = model(inputs)\n",
    "            _, predictions = torch.max(outputs, 1)\n",
    "            _, real_labels = torch.max(labels, 1)\n",
    "            all_predictions.extend(predictions.cpu().numpy())\n",
    "            all_labels.extend(real_labels.cpu().numpy())\n",
    "\n",
    "    \n",
    "    accuracy = accuracy_score(all_labels, all_predictions)\n",
    "    conf_matrix = confusion_matrix(all_labels, all_predictions)\n",
    "\n",
    "    if best_accuracy < accuracy:\n",
    "        best_accuracy = accuracy\n",
    "        torch.save(model.state_dict(), save_path)\n",
    "        print(f'Epoch [{epoch + 1}/{num_epochs}] - Saved Best Model (Best Accuracy: {best_accuracy:.4f})')\n",
    "\n",
    "    print(f'Accuracy: {accuracy:.4f}')\n",
    "    print('Confusion Matrix:')\n",
    "    print(conf_matrix)"
   ]
  },
  {
   "cell_type": "code",
   "execution_count": 8,
   "metadata": {},
   "outputs": [
    {
     "name": "stdout",
     "output_type": "stream",
     "text": [
      "The total accuracy is: 0.5274390243902439\n",
      "\n",
      "The accuracy of mono type is: 0.5083333333333333\n",
      "\n",
      "The accuracy of poly type is: 0.5384615384615384\n",
      "\n",
      "The total confusion matrix is:\n",
      " [[330   5   0  37]\n",
      " [ 66   2   0   5]\n",
      " [ 29   2   0   0]\n",
      " [163   3   0  14]]\n",
      "\n",
      "The confusion matrix of mono type is:\n",
      " [[119   2   0  13]\n",
      " [ 27   0   0   2]\n",
      " [ 11   1   0   0]\n",
      " [ 62   0   0   3]]\n",
      "\n",
      "The confusion matrix of poly type is:\n",
      " [[211   3   0  24]\n",
      " [ 39   2   0   3]\n",
      " [ 18   1   0   0]\n",
      " [101   3   0  11]]\n",
      "\n",
      "The total F1 Score is: 0.2133007228315055\n",
      "\n",
      "The F1 Score of mono type is: 0.18662752994982765\n",
      "\n",
      "The F1 Score of poly type is: 0.2286212382645597\n"
     ]
    }
   ],
   "source": [
    "# 创建两个子集，分别存储mono和poly的标签和预测\n",
    "mono_subset_labels = [label for label, img_type in zip(all_labels, types) if img_type == \"mono\"]\n",
    "mono_subset_predictions = [pred for pred, img_type in zip(all_predictions, types) if img_type == \"mono\"]\n",
    "poly_subset_labels = [label for label, img_type in zip(all_labels, types) if img_type == \"poly\"]\n",
    "poly_subset_predictions = [pred for pred, img_type in zip(all_predictions, types) if img_type == \"poly\"]\n",
    "\n",
    "# 计算不同类型的准确率和混淆矩阵\n",
    "accuracy = accuracy_score(all_labels, all_predictions)\n",
    "accuracy_mono = accuracy_score(mono_subset_labels, mono_subset_predictions)\n",
    "accuracy_poly = accuracy_score(poly_subset_labels, poly_subset_predictions)\n",
    "conf_matrix = confusion_matrix(all_labels, all_predictions)\n",
    "conf_matrix_mono = confusion_matrix(mono_subset_labels, mono_subset_predictions)\n",
    "conf_matrix_poly = confusion_matrix(poly_subset_labels, poly_subset_predictions)\n",
    "f1_total = f1_score(all_labels, all_predictions, average='macro')\n",
    "f1_mono = f1_score(mono_subset_labels, mono_subset_predictions, average='macro')\n",
    "f1_poly = f1_score(poly_subset_labels, poly_subset_predictions, average='macro')\n",
    "\n",
    "print('The total accuracy is:', accuracy)\n",
    "print()\n",
    "print('The accuracy of mono type is:', accuracy_mono)\n",
    "print()\n",
    "print('The accuracy of poly type is:', accuracy_poly)\n",
    "print()\n",
    "print('The total confusion matrix is:\\n', conf_matrix)\n",
    "print()\n",
    "print('The confusion matrix of mono type is:\\n', conf_matrix_mono)\n",
    "print()\n",
    "print('The confusion matrix of poly type is:\\n', conf_matrix_poly)\n",
    "print()\n",
    "print('The total F1 Score is:', f1_total)\n",
    "print()\n",
    "print('The F1 Score of mono type is:', f1_mono)\n",
    "print()\n",
    "print('The F1 Score of poly type is:', f1_poly)\n"
   ]
  }
 ],
 "metadata": {
  "kernelspec": {
   "display_name": "torchtest",
   "language": "python",
   "name": "python3"
  },
  "language_info": {
   "codemirror_mode": {
    "name": "ipython",
    "version": 3
   },
   "file_extension": ".py",
   "mimetype": "text/x-python",
   "name": "python",
   "nbconvert_exporter": "python",
   "pygments_lexer": "ipython3",
   "version": "3.9.17"
  }
 },
 "nbformat": 4,
 "nbformat_minor": 2
}
