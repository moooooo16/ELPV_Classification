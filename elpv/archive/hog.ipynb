{
 "cells": [
  {
   "cell_type": "markdown",
   "metadata": {},
   "source": [
    "# Class Mapping \n",
    "\n",
    "|Label | prob | type|\n",
    "|------|------|-----|\n",
    "|0     | 0.0  | mono|\n",
    "|1     | 0.333| mono|\n",
    "|2     | 0.667| mono|\n",
    "|3     | 1.0  | mono|\n",
    "|4     | 0.0  | poly|\n",
    "|5     | 0.333| poly|\n",
    "|6     | 0.667| poly|\n",
    "|7     | 1.0  | poly|"
   ]
  },
  {
   "cell_type": "code",
   "execution_count": 1,
   "metadata": {},
   "outputs": [],
   "source": [
    "from utils.classifier import *\n",
    "from utils.dataloader import *\n",
    "from utils.features import *\n",
    "from utils.helper import *\n",
    "from utils.processing import *\n",
    "import pickle"
   ]
  },
  {
   "cell_type": "code",
   "execution_count": 2,
   "metadata": {},
   "outputs": [
    {
     "name": "stdout",
     "output_type": "stream",
     "text": [
      "/Users/moooooo16/Documents/Computer Vision/Project/elpv\n"
     ]
    }
   ],
   "source": [
    "# Setting paths for data\n",
    "\n",
    "RANDOM_STATE = 66\n",
    "ROOT_PATH, DATA_PATH, OUT_PATH = get_paths()\n",
    "PARAMS = []\n",
    "print(ROOT_PATH)"
   ]
  },
  {
   "cell_type": "code",
   "execution_count": 3,
   "metadata": {},
   "outputs": [
    {
     "name": "stdout",
     "output_type": "stream",
     "text": [
      "[0 1 2 3 4 5 6 7] [588 117  56 313 920 178  50 402]\n"
     ]
    }
   ],
   "source": [
    "from sklearn.model_selection import train_test_split\n",
    "\n",
    "# Load data\n",
    "img_path, prob, types, labels= load_data(DATA_PATH)\n",
    "\n",
    "## Init feature extraction and split data\n",
    "feature_builder = FeatureExtraction(DATA_PATH, img_path, labels)\n",
    "X_train, X_test, y_train, y_test = feature_builder.split_data(train_test_split, randome_state=RANDOM_STATE, stratify=True, split_ratio=0.25)"
   ]
  },
  {
   "cell_type": "code",
   "execution_count": 4,
   "metadata": {},
   "outputs": [],
   "source": [
    "from sklearn.metrics import make_scorer, f1_score, balanced_accuracy_score\n",
    "from sklearn.svm import SVC\n",
    "from sklearn.neighbors import KNeighborsClassifier\n",
    "\n",
    "# autoAug \n",
    "# Genearte more \n",
    "augment_funcs = [\n",
    "    # flip_x,\n",
    "    # flip_y,\n",
    "    # rotate,\n",
    "    # salt_pepper_noise,\n",
    "]\n",
    "# Preprocessing pipeline\n",
    "# Non was used in the end\n",
    "preprocess_pipeline = [\n",
    "    # (strech_img, {\n",
    "    #     }),\n",
    "    # (clach_img, {\n",
    "    #     'clipLimit': 2.0,\n",
    "    #     'tileGridSize': (8, 8)}),\n",
    "    # (guassian_blur, {\n",
    "    #     'kernel_size': (0, 0),\n",
    "    #     'sigmaX': 3}),\n",
    "    # (lap_feature, {\n",
    "    #     'dst': -1,\n",
    "    #     'ksize' : 5}),\n",
    "    # (morpo_opening, {\n",
    "    #     'kernel': np.ones((2,2), np.uint8),\n",
    "    #     'iterations': 1}),\n",
    "    # (morph_smoothing, {\n",
    "    # 'ses' : feature_builder.ses})\n",
    "]\n",
    "\n",
    "# Smaller cell: more features\n",
    "# Hog prameters.\n",
    "hog_params = {\n",
    "    'orient': 10,\n",
    "    'pix_per_cell': 10,\n",
    "    'cell_per_block': 1,\n",
    "    'vis': False,\n",
    "    'block_norm': 'L2'\n",
    "}\n",
    "\n",
    "# SVM parameter for best model\n",
    "svm_param = {\n",
    "    'C': 10,\n",
    "    'kernel' : 'rbf',\n",
    "    # 'gamma' : 0.0001,\n",
    "    # 'class_weight' : 'balanced',\n",
    "    # 'verbose' : False,\n",
    "}\n",
    "\n",
    "# Grid search parameters\n",
    "grid_svm_params = {\n",
    "    'estimator': SVC,\n",
    "    'model_params': {\n",
    "        'kernel': ['rbf', 'linear'],\n",
    "        'C' : [0.1, 0.3, 0.5, 0.7, 1, 3, 5, 7 ,9, 10],\n",
    "        'class_weight': ['balanced']},\n",
    "    'scoring': {\n",
    "        \"F1_Weighted\": make_scorer(f1_score, average='weighted'),\n",
    "        \"Balanced_Accuracy\": make_scorer(balanced_accuracy_score),},\n",
    "    'refit': 'F1_Weighted',\n",
    "    'verbose' : 0\n",
    "}\n",
    "\n",
    "# Smote parameters\n",
    "smote_params = {\n",
    "    'grid_param': grid_svm_params,\n",
    "    'knn' : KNeighborsClassifier,\n",
    "    'n_neighbors': 5,\n",
    "}\n",
    "\n",
    "PARAMS.append(augment_funcs)\n",
    "PARAMS.append(preprocess_pipeline)\n",
    "PARAMS.append(hog_params)\n",
    "# PARAMS.append(svm_param)\n",
    "# PARAMS.append(grid_svm_params)\n",
    "PARAMS.append(smote_params)"
   ]
  },
  {
   "cell_type": "code",
   "execution_count": 5,
   "metadata": {},
   "outputs": [],
   "source": [
    "# Data augmentation for train set only\n",
    "\n",
    "X_train_aug, y_train_aug = feature_builder.augmentation(X_train, y_train, augment_funcs=augment_funcs)"
   ]
  },
  {
   "cell_type": "code",
   "execution_count": 6,
   "metadata": {},
   "outputs": [
    {
     "name": "stdout",
     "output_type": "stream",
     "text": [
      "(1968, 300, 300) (1968,)\n",
      "(656, 300, 300) (656,)\n"
     ]
    }
   ],
   "source": [
    "# Preprocessing for both train and test set\n",
    "X_train_prepro = feature_builder.preprocess(X_train_aug, preprocess_pipeline = preprocess_pipeline)\n",
    "X_test_prepro = feature_builder.preprocess(X_test, preprocess_pipeline = preprocess_pipeline)\n",
    "\n",
    "print(X_train_prepro.shape, y_train_aug.shape)\n",
    "print(X_test_prepro.shape, y_test.shape)"
   ]
  },
  {
   "cell_type": "code",
   "execution_count": 7,
   "metadata": {},
   "outputs": [
    {
     "name": "stderr",
     "output_type": "stream",
     "text": [
      "Calculating descriptors:   1%|          | 10/1968 [00:00<00:19, 98.40it/s]"
     ]
    },
    {
     "name": "stderr",
     "output_type": "stream",
     "text": [
      "Calculating descriptors: 100%|██████████| 1968/1968 [00:15<00:00, 124.13it/s]\n",
      "Calculating descriptors: 100%|██████████| 656/656 [00:05<00:00, 117.05it/s]"
     ]
    },
    {
     "name": "stdout",
     "output_type": "stream",
     "text": [
      "(1968, 9000)\n",
      "(656, 9000)\n"
     ]
    },
    {
     "name": "stderr",
     "output_type": "stream",
     "text": [
      "\n"
     ]
    }
   ],
   "source": [
    "# Build hog features, hog histogram\n",
    "\n",
    "train_hog_des = feature_builder.get_hog_features(X_train_prepro, **hog_params)\n",
    "test_hog_des = feature_builder.get_hog_features(X_test_prepro, **hog_params)\n",
    "\n",
    "print(train_hog_des.shape)\n",
    "print(test_hog_des.shape)"
   ]
  },
  {
   "cell_type": "code",
   "execution_count": 8,
   "metadata": {},
   "outputs": [],
   "source": [
    "# Check points\n",
    "with open (os.path.join(OUT_PATH, 'hog_des.pkl'), 'wb') as f:\n",
    "    pickle.dump((train_hog_des, test_hog_des), f)"
   ]
  },
  {
   "cell_type": "code",
   "execution_count": 9,
   "metadata": {},
   "outputs": [],
   "source": [
    "# Load checkpoint\n",
    "train_hog_des, test_hog_des = None, None\n",
    "\n",
    "with open(os.path.join(OUT_PATH, 'hog_des.pkl'), 'rb') as f:\n",
    "    train_hog_des, test_hog_des = pickle.load(f)"
   ]
  },
  {
   "cell_type": "code",
   "execution_count": 10,
   "metadata": {},
   "outputs": [],
   "source": [
    "from sklearn.preprocessing import StandardScaler\n",
    "\n",
    "# Normalize data for SVM\n",
    "scaler = StandardScaler().fit(train_hog_des)\n",
    "train_X = scaler.transform(train_hog_des)\n",
    "test_X = scaler.transform(test_hog_des)  "
   ]
  },
  {
   "cell_type": "code",
   "execution_count": 11,
   "metadata": {},
   "outputs": [],
   "source": [
    "# Split data into mono, poly and combine\n",
    "\n",
    "mono_train_X, poly_train_X, mono_train_y, poly_train_y = mono_poly_split(train_X, y_train_aug)\n",
    "mono_test_X, poly_test_X, mono_test_y, poly_test_y = mono_poly_split(test_X, y_test)\n",
    "combine_train_X, combine_train_y = combine_mono_poly(mono_train_X, poly_train_X, mono_train_y, poly_train_y)\n",
    "combine_test_X, combine_test_y = combine_mono_poly(mono_test_X, poly_test_X, mono_test_y, poly_test_y)\n",
    "\n",
    "data_sets = {\n",
    "    'mono_svm': (mono_train_X, mono_train_y, mono_test_X, mono_test_y),\n",
    "    'poly_svm': (poly_train_X, poly_train_y, poly_test_X, poly_test_y),\n",
    "    'combined_svm': (combine_train_X, combine_train_y, combine_test_X, combine_test_y)\n",
    "}"
   ]
  },
  {
   "cell_type": "code",
   "execution_count": 12,
   "metadata": {},
   "outputs": [
    {
     "name": "stdout",
     "output_type": "stream",
     "text": [
      "----------------------------------------------------------------------------------------------------\n",
      "Classification report for mono_svm\n",
      "              precision    recall  f1-score   support\n",
      "\n",
      "           0       0.72      0.95      0.82       147\n",
      "           1       0.58      0.24      0.34        29\n",
      "           2       0.00      0.00      0.00        14\n",
      "           3       0.89      0.71      0.79        78\n",
      "\n",
      "    accuracy                           0.75       268\n",
      "   macro avg       0.55      0.47      0.49       268\n",
      "weighted avg       0.72      0.75      0.72       268\n",
      "\n"
     ]
    },
    {
     "data": {
      "image/png": "[encoded data removed]",
      "text/plain": [
       "<Figure size 640x480 with 2 Axes>"
      ]
     },
     "metadata": {},
     "output_type": "display_data"
    },
    {
     "name": "stdout",
     "output_type": "stream",
     "text": [
      "\n",
      "----------------------------------------------------------------------------------------------------\n",
      "Classification report for poly_svm\n",
      "              precision    recall  f1-score   support\n",
      "\n",
      "           0       0.71      0.87      0.79       230\n",
      "           1       0.62      0.11      0.19        45\n",
      "           2       0.00      0.00      0.00        13\n",
      "           3       0.61      0.60      0.61       100\n",
      "\n",
      "    accuracy                           0.69       388\n",
      "   macro avg       0.49      0.40      0.39       388\n",
      "weighted avg       0.65      0.69      0.64       388\n",
      "\n"
     ]
    },
    {
     "data": {
      "image/png": "[encoded data removed]",
      "text/plain": [
       "<Figure size 640x480 with 2 Axes>"
      ]
     },
     "metadata": {},
     "output_type": "display_data"
    },
    {
     "name": "stdout",
     "output_type": "stream",
     "text": [
      "\n",
      "----------------------------------------------------------------------------------------------------\n",
      "Classification report for combined_svm\n",
      "              precision    recall  f1-score   support\n",
      "\n",
      "           0       0.72      0.87      0.79       377\n",
      "           1       0.57      0.16      0.25        74\n",
      "           2       0.00      0.00      0.00        27\n",
      "           3       0.66      0.67      0.66       178\n",
      "\n",
      "    accuracy                           0.70       656\n",
      "   macro avg       0.49      0.43      0.43       656\n",
      "weighted avg       0.66      0.70      0.66       656\n",
      "\n"
     ]
    },
    {
     "data": {
      "image/png": "[encoded data removed]",
      "text/plain": [
       "<Figure size 640x480 with 2 Axes>"
      ]
     },
     "metadata": {},
     "output_type": "display_data"
    },
    {
     "name": "stdout",
     "output_type": "stream",
     "text": [
      "\n"
     ]
    }
   ],
   "source": [
    "svm_metrics = []\n",
    "\n",
    "# For each data set, train and test svm\n",
    "\n",
    "for name in data_sets.keys():\n",
    "    train_X, train_y, test_X, test_y = data_sets[name]\n",
    "    \n",
    "    # Train SVM\n",
    "    svm = SVC(**svm_param).fit(train_X, train_y)\n",
    "    # Predict result\n",
    "    \n",
    "    predictions = svm.predict(test_X)\n",
    "    \n",
    "    # Generate report\n",
    "    acc, f1 = get_report(test_y, predictions, name)\n",
    "    \n",
    "    # Save metrics\n",
    "    svm_metrics.append((name, acc, f1))\n",
    "\n",
    "with open(os.path.join(OUT_PATH, 'hog_svm_metrics.pkl'), 'wb') as f:\n",
    "    pickle.dump(svm_metrics, f)"
   ]
  },
  {
   "cell_type": "code",
   "execution_count": null,
   "metadata": {},
   "outputs": [],
   "source": [
    "grid_metrics = []\n",
    "\n",
    "# Same structure, but use grid search to find best parameters\n",
    "\n",
    "for name in data_sets.keys():\n",
    "    train_X, train_y, test_X, test_y = data_sets[name]\n",
    "    result, best_clf  = grid_search(train_X, train_y, **grid_svm_params)\n",
    "    grid_pred = best_clf.predict(test_X)\n",
    "    acc, f1 = get_report(test_y, grid_pred, name)\n",
    "    grid_metrics.append((name, acc, f1))\n",
    "\n",
    "with open(os.path.join(OUT_PATH, 'hog_grid_metrics.pkl'), 'wb') as f:\n",
    "    pickle.dump(grid_metrics, f)"
   ]
  },
  {
   "cell_type": "code",
   "execution_count": null,
   "metadata": {},
   "outputs": [],
   "source": [
    "grid_metrics = []\n",
    "\n",
    "# Same structure, but use SMOTE upsampling to find best parameters\n",
    "\n",
    "for name in data_sets.keys():\n",
    "    train_X, train_y, test_X, test_y = data_sets[name]\n",
    "    result, best_clf  = one_vs_other_up_sampling(train_X, train_y,total_classes=np.unique(train_y), **smote_params)\n",
    "    grid_pred = best_clf.predict(test_X)\n",
    "    acc, f1 = get_report(test_y, grid_pred, name)\n",
    "    grid_metrics.append((name, acc, f1))\n",
    "\n",
    "with open(os.path.join(OUT_PATH, 'hog_grid_metrics.pkl'), 'wb') as f:\n",
    "    pickle.dump(grid_metrics, f)"
   ]
  }
 ],
 "metadata": {
  "kernelspec": {
   "display_name": "torch",
   "language": "python",
   "name": "python3"
  },
  "language_info": {
   "codemirror_mode": {
    "name": "ipython",
    "version": 3
   },
   "file_extension": ".py",
   "mimetype": "text/x-python",
   "name": "python",
   "nbconvert_exporter": "python",
   "pygments_lexer": "ipython3",
   "version": "3.11.4"
  }
 },
 "nbformat": 4,
 "nbformat_minor": 2
}
