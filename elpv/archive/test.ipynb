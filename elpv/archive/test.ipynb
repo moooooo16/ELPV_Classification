{
 "cells": [
  {
   "cell_type": "code",
   "execution_count": 1,
   "metadata": {},
   "outputs": [],
   "source": [
    "from utils.dataloader import *\n",
    "from utils.sift import *\n",
    "from utils.helper import *\n",
    "from utils.classifier import get_report, down_sampling, vote, up_sampling, one_vs_other_up_sampling, distance_vote\n",
    "import pickle\n"
   ]
  },
  {
   "cell_type": "code",
   "execution_count": 2,
   "metadata": {},
   "outputs": [
    {
     "name": "stdout",
     "output_type": "stream",
     "text": [
      "/Users/moooooo16/Documents/Computer Vision/Project/elpv\n"
     ]
    }
   ],
   "source": [
    "RANDOME_STATE= 66\n",
    "ROOT_PATH, DATA_PATH, OUT_PATH = get_paths()\n",
    "print(ROOT_PATH)"
   ]
  },
  {
   "cell_type": "code",
   "execution_count": 3,
   "metadata": {},
   "outputs": [],
   "source": [
    "train_collection = test_collection = y_train = y_test = None\n",
    "\n",
    "\n",
    "with open(os.path.join(OUT_PATH, 'sift_X.pkl'), 'rb') as f:\n",
    "    (train_collection, test_collection) = pickle.load(f)\n",
    "\n",
    "\n",
    "with open(os.path.join(OUT_PATH, 'sift_y.pkl'), 'rb') as f:\n",
    "    (y_train, y_test) = pickle.load(f)\n"
   ]
  },
  {
   "cell_type": "code",
   "execution_count": 4,
   "metadata": {},
   "outputs": [
    {
     "name": "stdout",
     "output_type": "stream",
     "text": [
      "(1968, 128) (656, 128)\n",
      "(1968, 256) (656, 256)\n",
      "(1968, 512) (656, 512)\n",
      "(1968, 1024) (656, 1024)\n",
      "dict_keys([128, 256, 512, 1024])\n",
      "(1968,) (656,)\n"
     ]
    }
   ],
   "source": [
    "\n",
    "ks = train_collection.keys()\n",
    "y_train = np.array(y_train)\n",
    "y_test = np.array(y_test)\n",
    "\n",
    "for a, b in zip(train_collection.values(), test_collection.values()):\n",
    "    print(a.shape, b.shape)\n",
    "\n",
    "print(ks)\n",
    "print(y_train.shape, y_test.shape)"
   ]
  },
  {
   "cell_type": "code",
   "execution_count": 5,
   "metadata": {},
   "outputs": [],
   "source": [
    "from sklearn.svm import SVC\n",
    "from sklearn.neighbors import KNeighborsClassifier\n",
    "\n",
    "param = {\n",
    "    'kernel': ['linear', 'rbf'],\n",
    "    'C' : [0.01, 0.1, 1, 10, 100]\n",
    "}\n",
    "\n",
    "\n",
    "clf_collections = []\n",
    "predictions_collections = []\n",
    "votes_collections = []\n"
   ]
  },
  {
   "cell_type": "code",
   "execution_count": 6,
   "metadata": {},
   "outputs": [],
   "source": [
    "from sklearn.model_selection import train_test_split\n",
    "import numpy as np\n",
    "from sklearn.utils import shuffle\n",
    "\n",
    "# Create the data points for each class\n",
    "class_A = np.random.rand(100, 2) + np.array([1.0, 1.0])\n",
    "class_B = np.random.rand(100, 2) + np.array([2.0, 2.0])\n",
    "class_C = np.random.rand(100, 2) + np.array([3.0, 3.0])\n",
    "\n",
    "# Combine all class data points\n",
    "X = np.concatenate([class_A, class_B, class_C])\n",
    "\n",
    "# Create labels for each class\n",
    "y = np.concatenate([np.zeros(len(class_A)), np.ones(len(class_B)), np.ones(len(class_C))*2])\n",
    "\n",
    "# Shuffle the dataset\n",
    "X, y = shuffle(X, y, random_state=0)\n",
    "\n",
    "# Split the dataset into training and testing sets\n",
    "X_train, X_test, y_train, y_test = train_test_split(X, y, test_size=0.2, random_state=42)\n"
   ]
  },
  {
   "cell_type": "code",
   "execution_count": 7,
   "metadata": {},
   "outputs": [
    {
     "name": "stdout",
     "output_type": "stream",
     "text": [
      "76 164\n",
      "Generated 152 synthetic samples.\n",
      "Class: [-1.  0.] Val Score: 1.00 use {'C': 10, 'kernel': 'linear'}\n",
      "Positive: (76,), Negative: (164,)\n",
      "81 159\n",
      "Generated 81 synthetic samples.\n",
      "Class: [-1.  1.] Val Score: 1.00 use {'C': 1, 'kernel': 'rbf'}\n",
      "Positive: (81,), Negative: (159,)\n",
      "83 157\n",
      "Generated 83 synthetic samples.\n",
      "Class: [-1.  2.] Val Score: 1.00 use {'C': 1, 'kernel': 'linear'}\n",
      "Positive: (83,), Negative: (157,)\n"
     ]
    }
   ],
   "source": [
    "predictions = []\n",
    "\n",
    "total_classes = np.unique(y_train)\n",
    "k = 1\n",
    "clfs = one_vs_other_up_sampling(total_classes, X_train, y_train,\n",
    "                                clf = SVC,\n",
    "                                param=param, k=k, logger=None,\n",
    "                                knn = KNeighborsClassifier, n_neighbors=2)\n",
    "\n",
    "\n",
    "# distance, pred= distance_vote(X_test=X_test, clfs=clfs, predictions=predictions)\n",
    "\n",
    "distance , pred = distance_vote(X_test, clfs, None)"
   ]
  },
  {
   "cell_type": "code",
   "execution_count": 8,
   "metadata": {},
   "outputs": [
    {
     "name": "stdout",
     "output_type": "stream",
     "text": [
      "Testset Classification Report:\n",
      "              precision    recall  f1-score   support\n",
      "\n",
      "         0.0       1.00      1.00      1.00        24\n",
      "         1.0       1.00      1.00      1.00        19\n",
      "         2.0       1.00      1.00      1.00        17\n",
      "\n",
      "    accuracy                           1.00        60\n",
      "   macro avg       1.00      1.00      1.00        60\n",
      "weighted avg       1.00      1.00      1.00        60\n",
      "\n",
      "\n"
     ]
    },
    {
     "data": {
      "text/plain": [
       "(1.0,\n",
       " array([[24,  0,  0],\n",
       "        [ 0, 19,  0],\n",
       "        [ 0,  0, 17]]))"
      ]
     },
     "execution_count": 8,
     "metadata": {},
     "output_type": "execute_result"
    }
   ],
   "source": [
    "get_report(y_test, pred)"
   ]
  },
  {
   "cell_type": "code",
   "execution_count": null,
   "metadata": {},
   "outputs": [],
   "source": []
  }
 ],
 "metadata": {
  "kernelspec": {
   "display_name": "torch",
   "language": "python",
   "name": "torch"
  },
  "language_info": {
   "codemirror_mode": {
    "name": "ipython",
    "version": 3
   },
   "file_extension": ".py",
   "mimetype": "text/x-python",
   "name": "python",
   "nbconvert_exporter": "python",
   "pygments_lexer": "ipython3",
   "version": "3.11.4"
  }
 },
 "nbformat": 4,
 "nbformat_minor": 2
}
