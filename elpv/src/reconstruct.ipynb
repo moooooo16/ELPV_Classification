{
 "cells": [
  {
   "cell_type": "code",
   "execution_count": 1,
   "metadata": {},
   "outputs": [],
   "source": [
    "from utils.classifier import *\n",
    "from utils.dataloader import *\n",
    "from utils.features import *\n",
    "from utils.helper import *\n",
    "from utils.processing import *\n",
    "import pickle"
   ]
  },
  {
   "cell_type": "code",
   "execution_count": 2,
   "metadata": {},
   "outputs": [
    {
     "name": "stdout",
     "output_type": "stream",
     "text": [
      "/Users/moooooo16/Documents/Computer Vision/Project/elpv\n"
     ]
    }
   ],
   "source": [
    "RANDOM_STATE = 66\n",
    "ROOT_PATH, DATA_PATH, OUT_PATH = get_paths()\n",
    "PARAMS = []\n",
    "L= 17\n",
    "print(ROOT_PATH)"
   ]
  },
  {
   "cell_type": "code",
   "execution_count": 3,
   "metadata": {},
   "outputs": [
    {
     "name": "stdout",
     "output_type": "stream",
     "text": [
      "[0 1 2 3 4 5 6 7] [588 117  56 313 920 178  50 402]\n",
      "(1968, 300, 300) (656, 300, 300)\n"
     ]
    }
   ],
   "source": [
    "from sklearn.model_selection import train_test_split\n",
    "img_path, prob, types, labels= load_data(DATA_PATH)\n",
    "\n",
    "feature_builder = FeatureExtraction(DATA_PATH, img_path, labels, L)\n",
    "X_train, X_test, y_train, y_test = feature_builder.split_data(train_test_split, randome_state=RANDOM_STATE, stratify=True, split_ratio=0.25)\n",
    "# X_train, X_val, y_train, y_val = feature_builder.split_data(train_test_split, randome_state=RANDOM_STATE, stratify=True, split_ratio=0.1)\n",
    "print(X_train.shape, X_test.shape)"
   ]
  },
  {
   "cell_type": "code",
   "execution_count": 4,
   "metadata": {},
   "outputs": [],
   "source": [
    "preprocess_pipeline = [\n",
    "    # (strech_img, {\n",
    "    #     }),\n",
    "    # (clach_img, {\n",
    "    #     'clipLimit': 2.0,\n",
    "    #     'tileGridSize': (8, 8)}),\n",
    "    # (guassian_blur, {\n",
    "    #     'kernel_size': (0, 0),\n",
    "    #     'sigmaX': 3}),\n",
    "    # (lap_feature, {\n",
    "    #     'dst': -1,\n",
    "    #     'ksize' : 5}),\n",
    "    # (morpo_opening, {\n",
    "    #     'kernel': np.ones((2,2), np.uint8),\n",
    "    #     'iterations': 1}),\n",
    "    (morph_smoothing, {\n",
    "        'ses' : feature_builder.ses})\n",
    "]"
   ]
  },
  {
   "cell_type": "code",
   "execution_count": 5,
   "metadata": {},
   "outputs": [
    {
     "name": "stderr",
     "output_type": "stream",
     "text": [
      "Pre-processing images: 100%|██████████| 1968/1968 [15:25<00:00,  2.13it/s]\n",
      "Pre-processing images: 100%|██████████| 656/656 [04:59<00:00,  2.19it/s]\n"
     ]
    }
   ],
   "source": [
    "X_train_prepro = feature_builder.preprocess(X_train, preprocess_pipeline = preprocess_pipeline)\n",
    "X_test_prepro = feature_builder.preprocess(X_test, preprocess_pipeline = preprocess_pipeline)\n",
    "\n",
    "with open(os.path.join(OUT_PATH ,'X_morph_smoothing.pkl'), 'wb') as f:\n",
    "    pickle.dump((X_train_prepro, X_test_prepro), f)"
   ]
  },
  {
   "cell_type": "code",
   "execution_count": 6,
   "metadata": {},
   "outputs": [],
   "source": [
    "# X_train_prepro,  X_test_prepro = None, None\n",
    "\n",
    "# with open(os.path.join(OUT_PATH ,'X_morph_smoothing.pkl'), 'rb') as f:\n",
    "#     X_train_prepro, X_test_prepro = pickle.load(f)"
   ]
  },
  {
   "cell_type": "code",
   "execution_count": 7,
   "metadata": {},
   "outputs": [
    {
     "name": "stdout",
     "output_type": "stream",
     "text": [
      "Fold 1 mean error: 859.1335704471556, std error: 306.9898130876804\n",
      "Fold 2 mean error: 839.1569651153563, std error: 299.6505291797389\n",
      "Fold 3 mean error: 794.9727964955072, std error: 277.27141368267377\n",
      "Fold 4 mean error: 887.4438913951182, std error: 311.16467003796953\n",
      "Fold 5 mean error: 944.4028607505694, std error: 381.5654621692531\n",
      "Fold 1 mean error: 1522.685429855814, std error: 635.0793658893118\n",
      "Fold 2 mean error: 1662.5858630763883, std error: 665.0561742850533\n",
      "Fold 3 mean error: 1542.85790218974, std error: 659.1537245027969\n",
      "Fold 4 mean error: 1669.7340936984488, std error: 684.4801519597615\n",
      "Fold 5 mean error: 1600.2363666738909, std error: 636.9188951336752\n",
      "Mono threshold: 865.0220168407413, 315.3283776314631\n",
      "Poly threshold: 1599.6199310988566, 656.1376623541198\n"
     ]
    }
   ],
   "source": [
    "from sklearn.model_selection import StratifiedKFold\n",
    "\n",
    "kf = StratifiedKFold(n_splits=5, shuffle=True, random_state=RANDOM_STATE)\n",
    "\n",
    "# indices = np.where( (y_train == 0) | (y_train == 4))[0]\n",
    "mono_indices = np.where(y_train == 0)[0]\n",
    "poly_indices = np.where(y_train == 4)[0]\n",
    "\n",
    "\n",
    "mono_thresh_mean, mono_thresh_std = feature_builder.calculate_threshold(kf, X_train_prepro, y_train, mono_indices )\n",
    "poly_thresh_mean, poly_thresh_std = feature_builder.calculate_threshold(kf, X_train_prepro, y_train, poly_indices )\n",
    "\n",
    "print(f'Mono threshold: {mono_thresh_mean}, {mono_thresh_std}')\n",
    "print(f'Poly threshold: {poly_thresh_mean}, {poly_thresh_std}')\n",
    "\n",
    "# X shape: (904, 90000), y shape: (227, 90000)\n",
    "# X_plus shape: (90000, 904)\n",
    "# y_hat shape: (227, 90000)\n",
    "# C shape: (227,)\n",
    "# C shape after reshape: (227, 1)\n",
    "# errors shape: (227,)"
   ]
  },
  {
   "cell_type": "code",
   "execution_count": 8,
   "metadata": {},
   "outputs": [],
   "source": [
    "X_train_mono, X_train_poly, y_train_mono, y_train_poly = mono_poly_split(X_train_prepro, y_train)\n",
    "X_test_mono, X_test_poly, y_test_mono, y_test_poly = mono_poly_split(X_test_prepro, y_test)"
   ]
  },
  {
   "cell_type": "code",
   "execution_count": 9,
   "metadata": {},
   "outputs": [],
   "source": [
    "mono_errors = feature_builder.calculate_error(X_train_mono,  X_test_mono)\n",
    "poly_errors = feature_builder.calculate_error(X_train_poly,  X_test_poly)"
   ]
  },
  {
   "cell_type": "code",
   "execution_count": 10,
   "metadata": {},
   "outputs": [
    {
     "data": {
      "image/png": "[encoded data removed]",
      "text/plain": [
       "<Figure size 640x480 with 1 Axes>"
      ]
     },
     "metadata": {},
     "output_type": "display_data"
    },
    {
     "data": {
      "image/png": "[encoded data removed]",
      "text/plain": [
       "<Figure size 640x480 with 1 Axes>"
      ]
     },
     "metadata": {},
     "output_type": "display_data"
    }
   ],
   "source": [
    "plot_reconstruct(mono_errors, mono_thresh_mean, mono_thresh_std)\n",
    "plot_reconstruct(poly_errors, poly_thresh_mean, poly_thresh_std)"
   ]
  },
  {
   "cell_type": "code",
   "execution_count": 11,
   "metadata": {},
   "outputs": [
    {
     "name": "stdout",
     "output_type": "stream",
     "text": [
      "----------------------------------------------------------------------------------------------------\n",
      "Confusion Matrix\n",
      "[[139   8   0   0]\n",
      " [ 27   1   0   1]\n",
      " [ 14   0   0   0]\n",
      " [ 43  12  12  11]]\n",
      "\n",
      "              precision    recall  f1-score   support\n",
      "\n",
      "           0       0.62      0.95      0.75       147\n",
      "           1       0.05      0.03      0.04        29\n",
      "           2       0.00      0.00      0.00        14\n",
      "           3       0.92      0.14      0.24        78\n",
      "\n",
      "    accuracy                           0.56       268\n",
      "   macro avg       0.40      0.28      0.26       268\n",
      "weighted avg       0.61      0.56      0.49       268\n",
      "\n",
      "\n",
      "Overall Test Accuracy: 0.56\n",
      "\n",
      "----------------------------------------------------------------------------------------------------\n"
     ]
    }
   ],
   "source": [
    "mono_pred = reconstruct_pred(mono_errors, mono_thresh_mean, mono_thresh_std, y_test_mono.shape[0])\n",
    "get_report(y_test_mono, mono_pred)"
   ]
  },
  {
   "cell_type": "code",
   "execution_count": 12,
   "metadata": {},
   "outputs": [
    {
     "name": "stdout",
     "output_type": "stream",
     "text": [
      "----------------------------------------------------------------------------------------------------\n",
      "Confusion Matrix\n",
      "[[212  16   2   0]\n",
      " [ 45   0   0   0]\n",
      " [ 11   2   0   0]\n",
      " [ 78  10   6   6]]\n",
      "\n",
      "              precision    recall  f1-score   support\n",
      "\n",
      "           0       0.61      0.92      0.74       230\n",
      "           1       0.00      0.00      0.00        45\n",
      "           2       0.00      0.00      0.00        13\n",
      "           3       1.00      0.06      0.11       100\n",
      "\n",
      "    accuracy                           0.56       388\n",
      "   macro avg       0.40      0.25      0.21       388\n",
      "weighted avg       0.62      0.56      0.47       388\n",
      "\n",
      "\n",
      "Overall Test Accuracy: 0.56\n",
      "\n",
      "----------------------------------------------------------------------------------------------------\n"
     ]
    }
   ],
   "source": [
    "poly_pred = reconstruct_pred(poly_errors, poly_thresh_mean, poly_thresh_std, y_test_poly.shape[0])\n",
    "get_report(y_test_poly-4, poly_pred)"
   ]
  }
 ],
 "metadata": {
  "kernelspec": {
   "display_name": "torch",
   "language": "python",
   "name": "torch"
  },
  "language_info": {
   "codemirror_mode": {
    "name": "ipython",
    "version": 3
   },
   "file_extension": ".py",
   "mimetype": "text/x-python",
   "name": "python",
   "nbconvert_exporter": "python",
   "pygments_lexer": "ipython3",
   "version": "3.11.4"
  }
 },
 "nbformat": 4,
 "nbformat_minor": 2
}
