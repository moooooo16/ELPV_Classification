{
 "cells": [
  {
   "cell_type": "code",
   "execution_count": 1,
   "metadata": {},
   "outputs": [],
   "source": [
    "from utils.classifier import *\n",
    "from utils.dataloader import *\n",
    "from utils.features import *\n",
    "from utils.helper import *\n",
    "from utils.processing import *\n",
    "import pickle"
   ]
  },
  {
   "cell_type": "code",
   "execution_count": 2,
   "metadata": {},
   "outputs": [
    {
     "name": "stdout",
     "output_type": "stream",
     "text": [
      "/Users/moooooo16/Documents/Computer Vision/Project/elpv\n"
     ]
    }
   ],
   "source": [
    "RANDOM_STATE = 66\n",
    "ROOT_PATH, DATA_PATH, OUT_PATH = get_paths()\n",
    "PARAMS = []\n",
    "NUMB_LAEBLS = 4\n",
    "L= 15\n",
    "print(ROOT_PATH)"
   ]
  },
  {
   "cell_type": "code",
   "execution_count": 3,
   "metadata": {},
   "outputs": [
    {
     "name": "stdout",
     "output_type": "stream",
     "text": [
      "[0 1 2 3] [1508  295  106  715]\n",
      "(1968, 300, 300) (656, 300, 300)\n"
     ]
    }
   ],
   "source": [
    "from sklearn.model_selection import train_test_split\n",
    "img_path, prob, types, labels= load_data(DATA_PATH, NUMB_LAEBLS)\n",
    "\n",
    "feature_builder = FeatureExtraction(DATA_PATH, img_path, labels, L)\n",
    "X_train, X_test, y_train, y_test = feature_builder.split_data(train_test_split, randome_state=RANDOM_STATE, stratify=True, split_ratio=0.25)\n",
    "# X_train, X_val, y_train, y_val = feature_builder.split_data(train_test_split, randome_state=RANDOM_STATE, stratify=True, split_ratio=0.1)\n",
    "print(X_train.shape, X_test.shape)"
   ]
  },
  {
   "cell_type": "code",
   "execution_count": 4,
   "metadata": {},
   "outputs": [
    {
     "data": {
      "text/plain": [
       "(array([0, 1, 2, 3]), array([1131,  221,   80,  536]))"
      ]
     },
     "execution_count": 4,
     "metadata": {},
     "output_type": "execute_result"
    }
   ],
   "source": [
    "np.unique(y_train, return_counts=True)"
   ]
  },
  {
   "cell_type": "code",
   "execution_count": 5,
   "metadata": {},
   "outputs": [],
   "source": [
    "preprocess_pipeline = [\n",
    "    # (strech_img, {\n",
    "    #     }),\n",
    "    # (clach_img, {\n",
    "    #     'clipLimit': 2.0,\n",
    "    #     'tileGridSize': (8, 8)}),\n",
    "    # (guassian_blur, {\n",
    "    #     'kernel_size': (0, 0),\n",
    "    #     'sigmaX': 3}),\n",
    "    # (lap_feature, {\n",
    "    #     'dst': -1,\n",
    "    #     'ksize' : 5}),\n",
    "    # (morpo_opening, {\n",
    "    #     'kernel': np.ones((2,2), np.uint8),\n",
    "    #     'iterations': 1}),\n",
    "    (morph_smoothing, {\n",
    "        'ses' : feature_builder.ses})\n",
    "]"
   ]
  },
  {
   "cell_type": "code",
   "execution_count": 6,
   "metadata": {},
   "outputs": [
    {
     "name": "stderr",
     "output_type": "stream",
     "text": [
      "Pre-processing images: 100%|██████████| 1968/1968 [15:08<00:00,  2.17it/s]\n",
      "Pre-processing images: 100%|██████████| 656/656 [23:57<00:00,  2.19s/it]\n"
     ]
    }
   ],
   "source": [
    "X_train_prepro = feature_builder.preprocess(X_train, preprocess_pipeline = preprocess_pipeline)\n",
    "X_test_prepro = feature_builder.preprocess(X_test, preprocess_pipeline = preprocess_pipeline)\n",
    "\n",
    "with open(os.path.join(OUT_PATH ,'X_prepro.pkl'), 'wb') as f:\n",
    "    pickle.dump((X_train_prepro, X_test_prepro), f)"
   ]
  },
  {
   "cell_type": "code",
   "execution_count": 7,
   "metadata": {},
   "outputs": [],
   "source": [
    "# X_train_prepro,  X_test_prepro = None, None\n",
    "\n",
    "# with open(os.path.join(OUT_PATH ,'X_prepro.pkl'), 'rb') as f:\n",
    "#     X_train_prepro, X_test_prepro = pickle.load(f)"
   ]
  },
  {
   "cell_type": "markdown",
   "metadata": {},
   "source": [
    "# Method 1\n",
    "Using matrix operation to re-construct the testing data, and then calculate the error."
   ]
  },
  {
   "cell_type": "code",
   "execution_count": 8,
   "metadata": {},
   "outputs": [
    {
     "name": "stdout",
     "output_type": "stream",
     "text": [
      "Fold 1 mean error: 1298.110668869948, std error: 672.0477066167731\n",
      "Fold 2 mean error: 1236.9625374115744, std error: 647.7310913718975\n",
      "Fold 3 mean error: 1207.6654657673362, std error: 643.8922324316953\n",
      "Fold 4 mean error: 1241.39040702993, std error: 595.7603666665658\n",
      "Fold 5 mean error: 1231.5125026023381, std error: 630.4081094597175\n"
     ]
    },
    {
     "data": {
      "text/plain": [
       "(1243.1283163362252, 637.9679013093298)"
      ]
     },
     "execution_count": 8,
     "metadata": {},
     "output_type": "execute_result"
    }
   ],
   "source": [
    "from sklearn.model_selection import StratifiedKFold\n",
    "\n",
    "kf = StratifiedKFold(n_splits=5, shuffle=True, random_state=RANDOM_STATE)\n",
    "\n",
    "# indices = np.where( (y_train == 0) | (y_train == 4))[0]\n",
    "indices = np.where(y_train == 0)[0]\n",
    "\n",
    "thresh_mean, thresh_std = feature_builder.calculate_threshold(kf, X_train_prepro, y_train, indices )\n",
    "thresh_mean, thresh_std\n",
    "\n",
    "\n",
    "# X shape: (904, 90000), y shape: (227, 90000)\n",
    "# X_plus shape: (90000, 904)\n",
    "# y_hat shape: (227, 90000)\n",
    "# C shape: (227,)\n",
    "# C shape after reshape: (227, 1)\n",
    "# errors shape: (227,)"
   ]
  },
  {
   "cell_type": "code",
   "execution_count": 9,
   "metadata": {},
   "outputs": [],
   "source": [
    "X = X_train_prepro[y_train == 0].reshape(y_train[y_train == 0].shape[0], -1)\n",
    "errors = feature_builder.calculate_error(X,  X_test_prepro.reshape(y_test.shape[0], -1))"
   ]
  },
  {
   "cell_type": "code",
   "execution_count": 10,
   "metadata": {},
   "outputs": [
    {
     "data": {
      "image/png": "[encoded data removed]",
      "text/plain": [
       "<Figure size 640x480 with 1 Axes>"
      ]
     },
     "metadata": {},
     "output_type": "display_data"
    }
   ],
   "source": [
    "from matplotlib import pyplot as plt\n",
    "int_errors = errors.astype(int)\n",
    "plt.hist(errors, bins=100, range = (np.min(int_errors), np.max(int_errors)))\n",
    "plt.vlines(thresh_mean, 0, 40, colors='r', linestyles='dashed')\n",
    "plt.vlines(thresh_mean + thresh_std, 0, 40, colors='r', linestyles='dashed')\n",
    "plt.vlines(thresh_mean + 2* thresh_std, 0, 40, colors='r', linestyles='dashed')\n",
    "plt.vlines(thresh_mean + 3* thresh_std, 0, 40, colors='r', linestyles='dashed')\n",
    "plt.show()"
   ]
  },
  {
   "cell_type": "code",
   "execution_count": 11,
   "metadata": {},
   "outputs": [
    {
     "name": "stdout",
     "output_type": "stream",
     "text": [
      "Testset Classification Report:\n",
      "              precision    recall  f1-score   support\n",
      "\n",
      "           0       0.62      0.89      0.73       377\n",
      "           1       0.64      0.27      0.38       279\n",
      "\n",
      "    accuracy                           0.62       656\n",
      "   macro avg       0.63      0.58      0.56       656\n",
      "weighted avg       0.63      0.62      0.58       656\n",
      "\n",
      "\n"
     ]
    },
    {
     "data": {
      "text/plain": [
       "(0.625,\n",
       " array([[334,  43],\n",
       "        [203,  76]]))"
      ]
     },
     "execution_count": 11,
     "metadata": {},
     "output_type": "execute_result"
    }
   ],
   "source": [
    "prediction = np.zeros(y_test.shape[0])\n",
    "prediction[errors > thresh_mean + 1 * thresh_std] = 1\n",
    "y_test_binary = np.where(y_test == 0, 0, 1)\n",
    "get_report(y_test_binary, prediction)"
   ]
  },
  {
   "cell_type": "code",
   "execution_count": 12,
   "metadata": {},
   "outputs": [
    {
     "data": {
      "text/plain": [
       "(array([0, 1]), array([377, 279]))"
      ]
     },
     "execution_count": 12,
     "metadata": {},
     "output_type": "execute_result"
    }
   ],
   "source": [
    "np.unique(y_test_binary, return_counts=True)"
   ]
  },
  {
   "cell_type": "code",
   "execution_count": 13,
   "metadata": {},
   "outputs": [
    {
     "data": {
      "text/plain": [
       "(array([11.,  6.,  8.,  9.,  8., 10.,  9.,  8., 15.,  7., 10., 13., 13.,\n",
       "         5., 15., 11., 14.,  8.,  9.,  7., 10.,  7.,  6.,  4.,  6.,  5.,\n",
       "         5.,  7.,  2.,  4.,  1.,  3.,  0.,  1.,  1.,  2.,  1.,  4.,  2.,\n",
       "         0.,  0.,  0.,  1.,  0.,  0.,  2.,  1.,  0.,  1.,  0.,  0.,  1.,\n",
       "         0.,  0.,  0.,  0.,  0.,  0.,  1.,  0.,  0.,  1.,  0.,  0.,  0.,\n",
       "         0.,  0.,  1.,  0.,  0.,  0.,  0.,  0.,  0.,  0.,  0.,  0.,  0.,\n",
       "         0.,  0.,  0.,  0.,  0.,  0.,  1.,  1.,  0.,  0.,  0.,  0.,  0.,\n",
       "         0.,  0.,  0.,  0.,  0.,  0.,  0.,  0.,  1.]),\n",
       " array([ 409.44242796,  480.87903188,  552.31563579,  623.75223971,\n",
       "         695.18884363,  766.62544754,  838.06205146,  909.49865538,\n",
       "         980.93525929, 1052.37186321, 1123.80846712, 1195.24507104,\n",
       "        1266.68167496, 1338.11827887, 1409.55488279, 1480.9914867 ,\n",
       "        1552.42809062, 1623.86469454, 1695.30129845, 1766.73790237,\n",
       "        1838.17450629, 1909.6111102 , 1981.04771412, 2052.48431803,\n",
       "        2123.92092195, 2195.35752587, 2266.79412978, 2338.2307337 ,\n",
       "        2409.66733761, 2481.10394153, 2552.54054545, 2623.97714936,\n",
       "        2695.41375328, 2766.85035719, 2838.28696111, 2909.72356503,\n",
       "        2981.16016894, 3052.59677286, 3124.03337678, 3195.46998069,\n",
       "        3266.90658461, 3338.34318852, 3409.77979244, 3481.21639636,\n",
       "        3552.65300027, 3624.08960419, 3695.5262081 , 3766.96281202,\n",
       "        3838.39941594, 3909.83601985, 3981.27262377, 4052.70922768,\n",
       "        4124.1458316 , 4195.58243552, 4267.01903943, 4338.45564335,\n",
       "        4409.89224727, 4481.32885118, 4552.7654551 , 4624.20205901,\n",
       "        4695.63866293, 4767.07526685, 4838.51187076, 4909.94847468,\n",
       "        4981.38507859, 5052.82168251, 5124.25828643, 5195.69489034,\n",
       "        5267.13149426, 5338.56809818, 5410.00470209, 5481.44130601,\n",
       "        5552.87790992, 5624.31451384, 5695.75111776, 5767.18772167,\n",
       "        5838.62432559, 5910.0609295 , 5981.49753342, 6052.93413734,\n",
       "        6124.37074125, 6195.80734517, 6267.24394908, 6338.680553  ,\n",
       "        6410.11715692, 6481.55376083, 6552.99036475, 6624.42696867,\n",
       "        6695.86357258, 6767.3001765 , 6838.73678041, 6910.17338433,\n",
       "        6981.60998825, 7053.04659216, 7124.48319608, 7195.91979999,\n",
       "        7267.35640391, 7338.79300783, 7410.22961174, 7481.66621566,\n",
       "        7553.10281957]),\n",
       " <BarContainer object of 100 artists>)"
      ]
     },
     "execution_count": 13,
     "metadata": {},
     "output_type": "execute_result"
    },
    {
     "data": {
      "image/png": "[encoded data removed]",
      "text/plain": [
       "<Figure size 640x480 with 1 Axes>"
      ]
     },
     "metadata": {},
     "output_type": "display_data"
    }
   ],
   "source": [
    "plt.hist(errors[y_test_binary == 1], bins=100)"
   ]
  },
  {
   "cell_type": "markdown",
   "metadata": {},
   "source": [
    "# Method 2:\n",
    "Use ICA\n",
    "- U = W * X\n",
    "- b = y * U^+\n",
    "- Use b as feature vector to train a SVM classifier"
   ]
  }
 ],
 "metadata": {
  "kernelspec": {
   "display_name": "torch",
   "language": "python",
   "name": "torch"
  },
  "language_info": {
   "codemirror_mode": {
    "name": "ipython",
    "version": 3
   },
   "file_extension": ".py",
   "mimetype": "text/x-python",
   "name": "python",
   "nbconvert_exporter": "python",
   "pygments_lexer": "ipython3",
   "version": "3.11.4"
  }
 },
 "nbformat": 4,
 "nbformat_minor": 2
}
