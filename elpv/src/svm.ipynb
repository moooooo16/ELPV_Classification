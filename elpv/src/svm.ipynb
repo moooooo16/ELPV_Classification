{
 "cells": [
  {
   "cell_type": "markdown",
   "metadata": {},
   "source": [
    "# Class Mapping \n",
    "\n",
    "|Label | prob | type|\n",
    "|------|------|-----|\n",
    "|0     | 0.0  | mono|\n",
    "|1     | 0.333| mono|\n",
    "|2     | 0.667| mono|\n",
    "|3     | 1.0  | mono|\n",
    "|4     | 0.0  | poly|\n",
    "|5     | 0.333| poly|\n",
    "|6     | 0.667| poly|\n",
    "|7     | 1.0  | poly|"
   ]
  },
  {
   "cell_type": "code",
   "execution_count": null,
   "metadata": {},
   "outputs": [],
   "source": [
    "from utils.classifier import *\n",
    "from utils.dataloader import *\n",
    "from utils.features import *\n",
    "from utils.helper import *\n",
    "from utils.processing import *\n",
    "import pickle"
   ]
  },
  {
   "cell_type": "code",
   "execution_count": null,
   "metadata": {},
   "outputs": [],
   "source": [
    "RANDOM_STATE = 66\n",
    "ROOT_PATH, DATA_PATH, OUT_PATH = get_paths()\n",
    "PARAMS = []\n",
    "print(ROOT_PATH)"
   ]
  },
  {
   "cell_type": "code",
   "execution_count": null,
   "metadata": {},
   "outputs": [],
   "source": [
    "from sklearn.model_selection import train_test_split\n",
    "img_path, prob, types, labels= load_data(DATA_PATH)\n",
    "\n",
    "feature_builder = FeatureExtraction(DATA_PATH, img_path, labels)\n",
    "X_train, X_test, y_train, y_test = feature_builder.split_data(train_test_split, randome_state=RANDOM_STATE, stratify=True, split_ratio=0.25)"
   ]
  },
  {
   "cell_type": "code",
   "execution_count": null,
   "metadata": {},
   "outputs": [],
   "source": [
    "from sklearn.metrics import make_scorer, f1_score, balanced_accuracy_score\n",
    "from sklearn.svm import SVC\n",
    "from sklearn.neighbors import KNeighborsClassifier\n",
    "\n",
    "# autoAug \n",
    "# Genearte more \n",
    "augment_funcs = [\n",
    "    # flip_x,\n",
    "    # flip_y,\n",
    "    # rotate,\n",
    "    salt_pepper_noise,\n",
    "]\n",
    "\n",
    "preprocess_pipeline = [\n",
    "    (strech_img, {\n",
    "        }),\n",
    "    # (clach_img, {\n",
    "    #     'clipLimit': 2.0,\n",
    "    #     'tileGridSize': (8, 8)}),\n",
    "    # (guassian_blur, {\n",
    "    #     'kernel_size': (0, 0),\n",
    "    #     'sigmaX': 3}),\n",
    "    # (lap_feature, {\n",
    "    #     'dst': -1,\n",
    "    #     'ksize' : 5}),\n",
    "    # (morpo_opening, {\n",
    "    #     'kernel': np.ones((2,2), np.uint8),\n",
    "    #     'iterations': 1}),\n",
    "    # (morph_smoothing, {\n",
    "    # 'ses' : feature_builder.ses})\n",
    "]\n",
    "\n",
    "# Smaller cell: more features\n",
    "# \n",
    "hog_params = {\n",
    "    'orient': 10,\n",
    "    'pix_per_cell': 10,\n",
    "    'cell_per_block': 1,\n",
    "    'vis': False,\n",
    "    'block_norm': 'L2'\n",
    "}\n",
    "\n",
    "svm_param = {\n",
    "    'C': 10,\n",
    "    'kernel' : 'rbf',\n",
    "    # 'gamma' : 0.0001,\n",
    "    # 'class_weight' : 'balanced',\n",
    "    # 'verbose' : False,\n",
    "}\n",
    "\n",
    "grid_svm_params = {\n",
    "    'estimator': SVC,\n",
    "    'model_params': {\n",
    "        'kernel': ['rbf', 'linear'],\n",
    "        'C' : [0.1, 0.3, 0.5, 0.7, 1, 3, 5, 7 ,9, 10],\n",
    "        'class_weight': ['balanced']},\n",
    "    'scoring': {\n",
    "        \"F1_Weighted\": make_scorer(f1_score, average='weighted'),\n",
    "        \"Balanced_Accuracy\": make_scorer(balanced_accuracy_score),},\n",
    "    'refit': 'Balanced_Accuracy',\n",
    "    'verbose' : 0\n",
    "}\n",
    "\n",
    "smote_params = {\n",
    "    'total_classes': np.unique(y_train),\n",
    "    'grid_param': grid_svm_params,\n",
    "    'knn' : KNeighborsClassifier,\n",
    "    'n_neighbors': 5,\n",
    "}\n",
    "\n",
    "PARAMS.append(augment_funcs)\n",
    "PARAMS.append(preprocess_pipeline)\n",
    "PARAMS.append(hog_params)\n",
    "# PARAMS.append(svm_param)\n",
    "# PARAMS.append(grid_svm_params)\n",
    "PARAMS.append(smote_params)"
   ]
  },
  {
   "cell_type": "code",
   "execution_count": null,
   "metadata": {},
   "outputs": [],
   "source": [
    "X_train_aug, y_train_aug = feature_builder.augmentation(X_train, y_train, augment_funcs=augment_funcs)"
   ]
  },
  {
   "cell_type": "code",
   "execution_count": null,
   "metadata": {},
   "outputs": [],
   "source": [
    "X_train_prepro = feature_builder.preprocess(X_train_aug, preprocess_pipeline = preprocess_pipeline)\n",
    "X_test_prepro = feature_builder.preprocess(X_test, preprocess_pipeline = preprocess_pipeline)\n",
    "\n",
    "print(X_train_prepro.shape, y_train_aug.shape)\n",
    "print(X_test_prepro.shape, y_test.shape)"
   ]
  },
  {
   "cell_type": "code",
   "execution_count": null,
   "metadata": {},
   "outputs": [],
   "source": [
    "train_hog_des = feature_builder.get_hog_features(X_train_prepro, **hog_params)\n",
    "test_hog_des = feature_builder.get_hog_features(X_test_prepro, **hog_params)\n",
    "\n",
    "print(train_hog_des.shape)\n",
    "print(test_hog_des.shape)"
   ]
  },
  {
   "cell_type": "code",
   "execution_count": null,
   "metadata": {},
   "outputs": [],
   "source": [
    "from sklearn.preprocessing import StandardScaler\n",
    "\n",
    "scaler = StandardScaler().fit(train_hog_des)\n",
    "train_X = scaler.transform(train_hog_des)\n",
    "test_X = scaler.transform(test_hog_des)  "
   ]
  },
  {
   "cell_type": "code",
   "execution_count": null,
   "metadata": {},
   "outputs": [],
   "source": [
    "result, best_clf = grid_search(train_X, y_train_aug, **grid_svm_params)\n",
    "grid_pred = best_clf.predict(test_X)\n",
    "get_report(y_test, grid_pred)"
   ]
  },
  {
   "cell_type": "code",
   "execution_count": null,
   "metadata": {},
   "outputs": [],
   "source": [
    "# smote_results, smote_clfs = one_vs_other_up_sampling(train_X, y_train_aug, **smote_params)\n",
    "# smote_distance, smote_preds = distance_vote(test_X, smote_clfs)\n",
    "# get_report(y_test, smote_preds)"
   ]
  }
 ],
 "metadata": {
  "kernelspec": {
   "display_name": "torch",
   "language": "python",
   "name": "torch"
  },
  "language_info": {
   "codemirror_mode": {
    "name": "ipython",
    "version": 3
   },
   "file_extension": ".py",
   "mimetype": "text/x-python",
   "name": "python",
   "nbconvert_exporter": "python",
   "pygments_lexer": "ipython3",
   "version": "3.11.4"
  }
 },
 "nbformat": 4,
 "nbformat_minor": 2
}
