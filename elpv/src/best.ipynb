{
 "cells": [
  {
   "cell_type": "markdown",
   "metadata": {},
   "source": [
    "# Class Mapping \n",
    "\n",
    "|Label | prob | type|\n",
    "|------|------|-----|\n",
    "|0     | 0.0  | mono|\n",
    "|1     | 0.333| mono|\n",
    "|2     | 0.667| mono|\n",
    "|3     | 1.0  | mono|\n",
    "|4     | 0.0  | poly|\n",
    "|5     | 0.333| poly|\n",
    "|6     | 0.667| poly|\n",
    "|7     | 1.0  | poly|"
   ]
  },
  {
   "cell_type": "code",
   "execution_count": 1,
   "metadata": {},
   "outputs": [],
   "source": [
    "from utils.classifier import *\n",
    "from utils.dataloader import *\n",
    "from utils.features import *\n",
    "from utils.helper import *\n",
    "from utils.processing import *"
   ]
  },
  {
   "cell_type": "code",
   "execution_count": 2,
   "metadata": {},
   "outputs": [
    {
     "name": "stdout",
     "output_type": "stream",
     "text": [
      "/Users/moooooo16/Documents/Computer Vision/Project/elpv\n"
     ]
    }
   ],
   "source": [
    "RANDOM_STATE = 66\n",
    "ROOT_PATH, DATA_PATH, OUT_PATH = get_paths()\n",
    "PARAMS = []\n",
    "print(ROOT_PATH)"
   ]
  },
  {
   "cell_type": "code",
   "execution_count": 3,
   "metadata": {},
   "outputs": [
    {
     "name": "stdout",
     "output_type": "stream",
     "text": [
      "[0 1 2 3 4 5 6 7] [588 117  56 313 920 178  50 402]\n"
     ]
    }
   ],
   "source": [
    "from sklearn.model_selection import train_test_split\n",
    "img_path, prob, types, labels= load_data(DATA_PATH)\n",
    "\n",
    "feature_builder = FeatureExtraction(DATA_PATH, img_path, labels)\n",
    "X_train, X_test, y_train, y_test = feature_builder.split_data(train_test_split, randome_state=RANDOM_STATE, stratify=True, split_ratio=0.25)"
   ]
  },
  {
   "cell_type": "code",
   "execution_count": 4,
   "metadata": {},
   "outputs": [
    {
     "data": {
      "text/plain": [
       "[[<function utils.processing.flip_x(img)>,\n",
       "  <function utils.processing.flip_y(img)>,\n",
       "  <function utils.processing.rotate(img)>],\n",
       " [(<function utils.processing.strech_img(img) -> numpy.ndarray>, {})],\n",
       " {'orient': 10,\n",
       "  'pix_per_cell': 10,\n",
       "  'cell_per_block': 1,\n",
       "  'vis': False,\n",
       "  'block_norm': 'L2'},\n",
       " {'total_classes': array([0, 1, 2, 3, 4, 5, 6, 7]),\n",
       "  'grid_param': {'estimator': sklearn.svm._classes.SVC,\n",
       "   'model_params': {'kernel': ['rbf'],\n",
       "    'C': [0.1, 0.3, 0.5, 0.7, 1, 3, 5, 7, 9],\n",
       "    'class_weight': ['balanced']},\n",
       "   'scoring': {'F1_Weighted': make_scorer(f1_score, average=weighted),\n",
       "    'Balanced_Accuracy': make_scorer(balanced_accuracy_score)},\n",
       "   'refit': 'Balanced_Accuracy',\n",
       "   'verbose': 3},\n",
       "  'knn': sklearn.neighbors._classification.KNeighborsClassifier,\n",
       "  'n_neighbors': 5}]"
      ]
     },
     "execution_count": 4,
     "metadata": {},
     "output_type": "execute_result"
    }
   ],
   "source": [
    "from sklearn.metrics import make_scorer, f1_score, balanced_accuracy_score\n",
    "from sklearn.svm import SVC\n",
    "from sklearn.neighbors import KNeighborsClassifier\n",
    "\n",
    "# autoAug \n",
    "# Genearte more \n",
    "augment_funcs = [\n",
    "    flip_x,\n",
    "    flip_y,\n",
    "    rotate\n",
    "]\n",
    "\n",
    "preprocess_pipeline = [\n",
    "    (strech_img, {\n",
    "        }),\n",
    "    # (clach_img, {\n",
    "    #     'clipLimit': 2.0,\n",
    "    #     'tileGridSize': (8, 8)}),\n",
    "    # (guassian_blur, {\n",
    "    #     'kernel_size': (0, 0),\n",
    "    #     'sigmaX': 3}),\n",
    "    # (lap_feature, {\n",
    "    #     'dst': -1,\n",
    "    #     'ksize' : 5}),\n",
    "    # (morpo_opening, {\n",
    "    #     'kernel': np.ones((2,2), np.uint8),\n",
    "    #     'iterations': 1}),\n",
    "]\n",
    "\n",
    "# Smaller cell: more features\n",
    "# \n",
    "hog_params = {\n",
    "    'orient': 10,\n",
    "    'pix_per_cell': 10,\n",
    "    'cell_per_block': 1,\n",
    "    'vis': False,\n",
    "    'block_norm': 'L2'\n",
    "}\n",
    "\n",
    "svm_param = {\n",
    "    'C': 10,\n",
    "    'kernel' : 'rbf',\n",
    "    # 'gamma' : 0.0001,\n",
    "    # 'class_weight' : 'balanced',\n",
    "    # 'verbose' : False,\n",
    "}\n",
    "\n",
    "grid_svm_params = {\n",
    "    'estimator': SVC,\n",
    "    'model_params': {\n",
    "        'kernel': ['rbf'],\n",
    "        'C' : [0.1, 0.3, 0.5, 0.7, 1, 3, 5,7 ,9],\n",
    "        'class_weight': ['balanced']},\n",
    "    'scoring': {\n",
    "        \"F1_Weighted\": make_scorer(f1_score, average='weighted'),\n",
    "        \"Balanced_Accuracy\": make_scorer(balanced_accuracy_score),},\n",
    "    'refit': 'Balanced_Accuracy',\n",
    "    'verbose' : 3\n",
    "}\n",
    "\n",
    "smote_params = {\n",
    "    'total_classes': np.unique(y_train),\n",
    "    'grid_param': grid_svm_params,\n",
    "    'knn' : KNeighborsClassifier,\n",
    "    'n_neighbors': 5,\n",
    "}\n",
    "\n",
    "PARAMS.append(augment_funcs)\n",
    "PARAMS.append(preprocess_pipeline)\n",
    "PARAMS.append(hog_params)\n",
    "# PARAMS.append(svm_param)\n",
    "# PARAMS.append(grid_svm_params)\n",
    "PARAMS.append(smote_params)\n",
    "\n",
    "PARAMS"
   ]
  },
  {
   "cell_type": "code",
   "execution_count": 5,
   "metadata": {},
   "outputs": [
    {
     "name": "stderr",
     "output_type": "stream",
     "text": [
      "Augmenting images: 100%|██████████| 1968/1968 [00:00<00:00, 87822.01it/s]\n"
     ]
    },
    {
     "name": "stdout",
     "output_type": "stream",
     "text": [
      "Augmenting done, added image: 900\n"
     ]
    },
    {
     "name": "stderr",
     "output_type": "stream",
     "text": [
      "Pre-processing images: 100%|██████████| 2868/2868 [00:00<00:00, 6145.43it/s]\n",
      "Pre-processing images: 100%|██████████| 656/656 [00:00<00:00, 6638.14it/s]"
     ]
    },
    {
     "name": "stdout",
     "output_type": "stream",
     "text": [
      "(2868, 300, 300) (2868,)\n",
      "(656, 300, 300) (656,)\n"
     ]
    },
    {
     "name": "stderr",
     "output_type": "stream",
     "text": [
      "\n"
     ]
    }
   ],
   "source": [
    "X_train_aug, y_train_aug = feature_builder.augmentation(X_train, y_train, augment_funcs=augment_funcs)\n",
    "\n",
    "X_train_prepro = feature_builder.preprocess(X_train_aug, preprocess_pipeline = preprocess_pipeline)\n",
    "X_test_prepro = feature_builder.preprocess(X_test, preprocess_pipeline = preprocess_pipeline)\n",
    "\n",
    "print(X_train_prepro.shape, y_train_aug.shape)\n",
    "print(X_test_prepro.shape, y_test.shape)"
   ]
  },
  {
   "cell_type": "code",
   "execution_count": 6,
   "metadata": {},
   "outputs": [
    {
     "name": "stderr",
     "output_type": "stream",
     "text": [
      "Calculating descriptors: 100%|██████████| 2868/2868 [00:21<00:00, 134.91it/s]\n",
      "Calculating descriptors: 100%|██████████| 656/656 [00:05<00:00, 128.12it/s]"
     ]
    },
    {
     "name": "stdout",
     "output_type": "stream",
     "text": [
      "(2868, 9000)\n",
      "(656, 9000)\n"
     ]
    },
    {
     "name": "stderr",
     "output_type": "stream",
     "text": [
      "\n"
     ]
    }
   ],
   "source": [
    "train_hog_des = feature_builder.get_hog_features(X_train_prepro, **hog_params)\n",
    "test_hog_des = feature_builder.get_hog_features(X_test_prepro, **hog_params)\n",
    "\n",
    "print(train_hog_des.shape)\n",
    "print(test_hog_des.shape)"
   ]
  },
  {
   "cell_type": "code",
   "execution_count": 8,
   "metadata": {},
   "outputs": [
    {
     "name": "stdout",
     "output_type": "stream",
     "text": [
      "Fitting 3 folds for each of 9 candidates, totalling 27 fits\n",
      "[CV 1/3] END C=0.5, class_weight=balanced, kernel=rbf; Balanced_Accuracy: (train=0.685, test=0.513) F1_Weighted: (train=0.626, test=0.498) total time= 1.3min\n",
      "[CV 2/3] END C=0.5, class_weight=balanced, kernel=rbf; Balanced_Accuracy: (train=0.672, test=0.514) F1_Weighted: (train=0.605, test=0.497) total time= 1.3min\n",
      "[CV 1/3] END C=0.3, class_weight=balanced, kernel=rbf; Balanced_Accuracy: (train=0.572, test=0.471) F1_Weighted: (train=0.476, test=0.390) total time= 1.4min\n",
      "[CV 3/3] END C=0.3, class_weight=balanced, kernel=rbf; Balanced_Accuracy: (train=0.594, test=0.435) F1_Weighted: (train=0.521, test=0.416) total time= 1.4min\n",
      "[CV 2/3] END C=0.3, class_weight=balanced, kernel=rbf; Balanced_Accuracy: (train=0.571, test=0.491) F1_Weighted: (train=0.492, test=0.422) total time= 1.4min\n",
      "[CV 3/3] END C=0.1, class_weight=balanced, kernel=rbf; Balanced_Accuracy: (train=0.475, test=0.394) F1_Weighted: (train=0.393, test=0.331) total time= 1.5min\n",
      "[CV 1/3] END C=0.1, class_weight=balanced, kernel=rbf; Balanced_Accuracy: (train=0.512, test=0.432) F1_Weighted: (train=0.413, test=0.369) total time= 1.5min\n",
      "[CV 2/3] END C=0.1, class_weight=balanced, kernel=rbf; Balanced_Accuracy: (train=0.501, test=0.445) F1_Weighted: (train=0.380, test=0.360) total time= 1.5min\n",
      "[CV 3/3] END C=0.5, class_weight=balanced, kernel=rbf; Balanced_Accuracy: (train=0.667, test=0.452) F1_Weighted: (train=0.630, test=0.464) total time= 1.2min\n",
      "[CV 1/3] END C=0.7, class_weight=balanced, kernel=rbf; Balanced_Accuracy: (train=0.785, test=0.521) F1_Weighted: (train=0.758, test=0.541) total time= 1.2min\n",
      "[CV 2/3] END C=0.7, class_weight=balanced, kernel=rbf; Balanced_Accuracy: (train=0.755, test=0.528) F1_Weighted: (train=0.707, test=0.549) total time= 1.2min\n",
      "[CV 3/3] END C=0.7, class_weight=balanced, kernel=rbf; Balanced_Accuracy: (train=0.738, test=0.464) F1_Weighted: (train=0.712, test=0.494) total time= 1.2min\n",
      "[CV 1/3] END C=1, class_weight=balanced, kernel=rbf; Balanced_Accuracy: (train=0.896, test=0.524) F1_Weighted: (train=0.884, test=0.578) total time= 1.2min\n",
      "[CV 2/3] END C=1, class_weight=balanced, kernel=rbf; Balanced_Accuracy: (train=0.863, test=0.559) F1_Weighted: (train=0.839, test=0.597) total time= 1.2min\n",
      "[CV 3/3] END C=1, class_weight=balanced, kernel=rbf; Balanced_Accuracy: (train=0.861, test=0.476) F1_Weighted: (train=0.843, test=0.522) total time= 1.2min\n",
      "[CV 1/3] END C=3, class_weight=balanced, kernel=rbf; Balanced_Accuracy: (train=0.999, test=0.514) F1_Weighted: (train=0.998, test=0.584) total time= 1.2min\n",
      "[CV 2/3] END C=3, class_weight=balanced, kernel=rbf; Balanced_Accuracy: (train=0.998, test=0.565) F1_Weighted: (train=0.997, test=0.644) total time= 1.2min\n",
      "[CV 1/3] END C=5, class_weight=balanced, kernel=rbf; Balanced_Accuracy: (train=1.000, test=0.511) F1_Weighted: (train=1.000, test=0.580) total time= 1.2min\n",
      "[CV 3/3] END C=3, class_weight=balanced, kernel=rbf; Balanced_Accuracy: (train=0.998, test=0.547) F1_Weighted: (train=0.998, test=0.617) total time= 1.2min\n",
      "[CV 3/3] END C=5, class_weight=balanced, kernel=rbf; Balanced_Accuracy: (train=1.000, test=0.549) F1_Weighted: (train=1.000, test=0.622) total time= 1.2min\n",
      "[CV 2/3] END C=5, class_weight=balanced, kernel=rbf; Balanced_Accuracy: (train=1.000, test=0.568) F1_Weighted: (train=1.000, test=0.648) total time= 1.2min\n",
      "[CV 1/3] END C=7, class_weight=balanced, kernel=rbf; Balanced_Accuracy: (train=1.000, test=0.511) F1_Weighted: (train=1.000, test=0.580) total time= 1.2min\n",
      "[CV 3/3] END C=7, class_weight=balanced, kernel=rbf; Balanced_Accuracy: (train=1.000, test=0.551) F1_Weighted: (train=1.000, test=0.626) total time= 1.2min\n",
      "[CV 2/3] END C=7, class_weight=balanced, kernel=rbf; Balanced_Accuracy: (train=1.000, test=0.570) F1_Weighted: (train=1.000, test=0.651) total time= 1.2min\n",
      "[CV 1/3] END C=9, class_weight=balanced, kernel=rbf; Balanced_Accuracy: (train=1.000, test=0.511) F1_Weighted: (train=1.000, test=0.580) total time=  39.4s\n",
      "[CV 3/3] END C=9, class_weight=balanced, kernel=rbf; Balanced_Accuracy: (train=1.000, test=0.550) F1_Weighted: (train=1.000, test=0.625) total time=  39.1s\n",
      "[CV 2/3] END C=9, class_weight=balanced, kernel=rbf; Balanced_Accuracy: (train=1.000, test=0.571) F1_Weighted: (train=1.000, test=0.652) total time=  39.5s\n",
      "Class: [0 1 2 3 4 5 6 7] Val Score: 0.54 use {'C': 7, 'class_weight': 'balanced', 'kernel': 'rbf'}\n",
      "Testset Classification Report:\n",
      "              precision    recall  f1-score   support\n",
      "\n",
      "           0       0.78      0.87      0.82       147\n",
      "           1       0.40      0.59      0.47        29\n",
      "           2       1.00      0.07      0.13        14\n",
      "           3       0.93      0.71      0.80        78\n",
      "           4       0.77      0.79      0.78       230\n",
      "           5       0.33      0.53      0.41        45\n",
      "           6       0.00      0.00      0.00        13\n",
      "           7       0.67      0.52      0.58       100\n",
      "\n",
      "    accuracy                           0.70       656\n",
      "   macro avg       0.61      0.51      0.50       656\n",
      "weighted avg       0.72      0.70      0.69       656\n",
      "\n",
      "\n",
      "\n",
      "Overall Test Accuracy: 0.70\n",
      "Confusion Matrix: \n",
      "[[128  16   0   3   0   0   0   0]\n",
      " [ 11  17   0   1   0   0   0   0]\n",
      " [  8   5   1   0   0   0   0   0]\n",
      " [ 18   5   0  55   0   0   0   0]\n",
      " [  0   0   0   0 182  28   0  20]\n",
      " [  0   0   0   0  17  24   0   4]\n",
      " [  0   0   0   0   6   5   0   2]\n",
      " [  0   0   0   0  31  16   1  52]]\n",
      "----------------------------------------------------------------------------------------------------\n"
     ]
    }
   ],
   "source": [
    "result, best_clf = grid_search(train_hog_des, y_train_aug, **grid_svm_params)\n",
    "pred = best_clf.predict(test_hog_des)\n",
    "acc, conf_mat = get_report(y_test, pred)\n",
    "\n",
    "print()\n",
    "print(f'Overall Test Accuracy: {acc:.2f}')\n",
    "print(f'Confusion Matrix: \\n{conf_mat}')\n",
    "print('-'*100)"
   ]
  },
  {
   "cell_type": "code",
   "execution_count": 10,
   "metadata": {},
   "outputs": [],
   "source": [
    "from sklearn.preprocessing import StandardScaler\n",
    "\n",
    "scaler = StandardScaler().fit(train_hog_des)\n",
    "train_X = scaler.transform(train_hog_des)\n",
    "test_X = scaler.transform(test_hog_des)  "
   ]
  },
  {
   "cell_type": "code",
   "execution_count": 11,
   "metadata": {},
   "outputs": [
    {
     "name": "stdout",
     "output_type": "stream",
     "text": [
      "Fitting 3 folds for each of 9 candidates, totalling 27 fits\n",
      "[CV 2/3] END C=0.5, class_weight=balanced, kernel=rbf; Balanced_Accuracy: (train=0.765, test=0.507) F1_Weighted: (train=0.694, test=0.515) total time= 1.4min\n",
      "[CV 3/3] END C=0.3, class_weight=balanced, kernel=rbf; Balanced_Accuracy: (train=0.642, test=0.425) F1_Weighted: (train=0.559, test=0.393) total time= 1.4min\n",
      "[CV 1/3] END C=0.3, class_weight=balanced, kernel=rbf; Balanced_Accuracy: (train=0.655, test=0.452) F1_Weighted: (train=0.561, test=0.415) total time= 1.4min\n",
      "[CV 1/3] END C=0.5, class_weight=balanced, kernel=rbf; Balanced_Accuracy: (train=0.807, test=0.490) F1_Weighted: (train=0.769, test=0.514) total time= 1.4min\n",
      "[CV 2/3] END C=0.3, class_weight=balanced, kernel=rbf; Balanced_Accuracy: (train=0.637, test=0.472) F1_Weighted: (train=0.527, test=0.416) total time= 1.4min\n",
      "[CV 1/3] END C=0.1, class_weight=balanced, kernel=rbf; Balanced_Accuracy: (train=0.519, test=0.422) F1_Weighted: (train=0.428, test=0.355) total time= 1.5min\n",
      "[CV 2/3] END C=0.1, class_weight=balanced, kernel=rbf; Balanced_Accuracy: (train=0.506, test=0.401) F1_Weighted: (train=0.377, test=0.276) total time= 1.5min\n",
      "[CV 3/3] END C=0.1, class_weight=balanced, kernel=rbf; Balanced_Accuracy: (train=0.499, test=0.390) F1_Weighted: (train=0.410, test=0.326) total time= 1.5min\n",
      "[CV 1/3] END C=0.7, class_weight=balanced, kernel=rbf; Balanced_Accuracy: (train=0.896, test=0.508) F1_Weighted: (train=0.878, test=0.559) total time= 1.3min\n",
      "[CV 3/3] END C=0.5, class_weight=balanced, kernel=rbf; Balanced_Accuracy: (train=0.733, test=0.442) F1_Weighted: (train=0.676, test=0.452) total time= 1.3min\n",
      "[CV 3/3] END C=0.7, class_weight=balanced, kernel=rbf; Balanced_Accuracy: (train=0.848, test=0.460) F1_Weighted: (train=0.812, test=0.490) total time= 1.3min\n",
      "[CV 2/3] END C=0.7, class_weight=balanced, kernel=rbf; Balanced_Accuracy: (train=0.868, test=0.533) F1_Weighted: (train=0.832, test=0.551) total time= 1.3min\n",
      "[CV 1/3] END C=1, class_weight=balanced, kernel=rbf; Balanced_Accuracy: (train=0.971, test=0.500) F1_Weighted: (train=0.968, test=0.554) total time= 1.3min\n",
      "[CV 2/3] END C=1, class_weight=balanced, kernel=rbf; Balanced_Accuracy: (train=0.969, test=0.562) F1_Weighted: (train=0.962, test=0.608) total time= 1.3min\n",
      "[CV 3/3] END C=1, class_weight=balanced, kernel=rbf; Balanced_Accuracy: (train=0.950, test=0.479) F1_Weighted: (train=0.938, test=0.536) total time= 1.3min\n",
      "[CV 1/3] END C=3, class_weight=balanced, kernel=rbf; Balanced_Accuracy: (train=1.000, test=0.498) F1_Weighted: (train=1.000, test=0.561) total time= 1.3min\n",
      "[CV 1/3] END C=5, class_weight=balanced, kernel=rbf; Balanced_Accuracy: (train=1.000, test=0.496) F1_Weighted: (train=1.000, test=0.559) total time= 1.4min\n",
      "[CV 2/3] END C=3, class_weight=balanced, kernel=rbf; Balanced_Accuracy: (train=1.000, test=0.574) F1_Weighted: (train=1.000, test=0.654) total time= 1.4min\n",
      "[CV 3/3] END C=3, class_weight=balanced, kernel=rbf; Balanced_Accuracy: (train=1.000, test=0.538) F1_Weighted: (train=1.000, test=0.618) total time= 1.4min\n",
      "[CV 3/3] END C=5, class_weight=balanced, kernel=rbf; Balanced_Accuracy: (train=1.000, test=0.540) F1_Weighted: (train=1.000, test=0.621) total time= 1.4min\n",
      "[CV 2/3] END C=5, class_weight=balanced, kernel=rbf; Balanced_Accuracy: (train=1.000, test=0.573) F1_Weighted: (train=1.000, test=0.653) total time= 1.4min\n",
      "[CV 1/3] END C=7, class_weight=balanced, kernel=rbf; Balanced_Accuracy: (train=1.000, test=0.496) F1_Weighted: (train=1.000, test=0.559) total time= 1.3min\n",
      "[CV 2/3] END C=7, class_weight=balanced, kernel=rbf; Balanced_Accuracy: (train=1.000, test=0.573) F1_Weighted: (train=1.000, test=0.653) total time= 1.3min\n",
      "[CV 3/3] END C=7, class_weight=balanced, kernel=rbf; Balanced_Accuracy: (train=1.000, test=0.540) F1_Weighted: (train=1.000, test=0.621) total time= 1.3min\n",
      "[CV 1/3] END C=9, class_weight=balanced, kernel=rbf; Balanced_Accuracy: (train=1.000, test=0.496) F1_Weighted: (train=1.000, test=0.559) total time=  41.3s\n",
      "[CV 2/3] END C=9, class_weight=balanced, kernel=rbf; Balanced_Accuracy: (train=1.000, test=0.573) F1_Weighted: (train=1.000, test=0.653) total time=  41.7s\n",
      "[CV 3/3] END C=9, class_weight=balanced, kernel=rbf; Balanced_Accuracy: (train=1.000, test=0.540) F1_Weighted: (train=1.000, test=0.621) total time=  41.5s\n",
      "Class: [0 1 2 3 4 5 6 7] Val Score: 0.54 use {'C': 3, 'class_weight': 'balanced', 'kernel': 'rbf'}\n",
      "Testset Classification Report:\n",
      "              precision    recall  f1-score   support\n",
      "\n",
      "           0       0.77      0.88      0.82       147\n",
      "           1       0.38      0.55      0.45        29\n",
      "           2       0.00      0.00      0.00        14\n",
      "           3       0.93      0.67      0.78        78\n",
      "           4       0.77      0.80      0.78       230\n",
      "           5       0.40      0.53      0.46        45\n",
      "           6       0.00      0.00      0.00        13\n",
      "           7       0.63      0.57      0.60       100\n",
      "\n",
      "    accuracy                           0.70       656\n",
      "   macro avg       0.48      0.50      0.49       656\n",
      "weighted avg       0.69      0.70      0.69       656\n",
      "\n",
      "\n",
      "\n",
      "Overall Test Accuracy: 0.70\n",
      "Confusion Matrix: \n",
      "[[129  15   0   3   0   0   0   0]\n",
      " [ 12  16   0   1   0   0   0   0]\n",
      " [  8   6   0   0   0   0   0   0]\n",
      " [ 19   5   0  52   0   0   0   2]\n",
      " [  0   0   0   0 184  22   0  24]\n",
      " [  0   0   0   0  17  24   0   4]\n",
      " [  0   0   0   0   5   5   0   3]\n",
      " [  0   0   0   0  34   9   0  57]]\n",
      "----------------------------------------------------------------------------------------------------\n"
     ]
    }
   ],
   "source": [
    "result1, best_clf1 = grid_search(train_X, y_train_aug, **grid_svm_params)\n",
    "pred1 = best_clf1.predict(test_X)\n",
    "acc1, conf_mat1 = get_report(y_test, pred1)\n",
    "\n",
    "print()\n",
    "print(f'Overall Test Accuracy: {acc1:.2f}')\n",
    "print(f'Confusion Matrix: \\n{conf_mat1}')\n",
    "print('-'*100)"
   ]
  },
  {
   "cell_type": "code",
   "execution_count": null,
   "metadata": {},
   "outputs": [],
   "source": [
    "# results, best_clfs = one_vs_other_up_sampling(train_X, y_train_aug, **smote_params)\n",
    "\n",
    "# distance, preds = distance_vote(test_X, best_clfs)\n",
    "\n",
    "# acc, conf_mat = get_report(y_test, preds)\n",
    "\n",
    "# print()\n",
    "# print(f'Overall Test Accuracy: {acc:.2f}')\n",
    "# print(f'Confusion Matrix: \\n{conf_mat}')\n",
    "# print('-'*100)"
   ]
  },
  {
   "cell_type": "code",
   "execution_count": null,
   "metadata": {},
   "outputs": [],
   "source": [
    "# print_misclassifications(y_test, pred, distance)"
   ]
  }
 ],
 "metadata": {
  "kernelspec": {
   "display_name": "torch",
   "language": "python",
   "name": "torch"
  },
  "language_info": {
   "codemirror_mode": {
    "name": "ipython",
    "version": 3
   },
   "file_extension": ".py",
   "mimetype": "text/x-python",
   "name": "python",
   "nbconvert_exporter": "python",
   "pygments_lexer": "ipython3",
   "version": "3.11.4"
  }
 },
 "nbformat": 4,
 "nbformat_minor": 2
}
