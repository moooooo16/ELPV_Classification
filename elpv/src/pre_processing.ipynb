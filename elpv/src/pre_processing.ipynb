{
 "cells": [
  {
   "cell_type": "markdown",
   "metadata": {},
   "source": [
    "# Pre-Processing"
   ]
  },
  {
   "cell_type": "code",
   "execution_count": 1,
   "metadata": {},
   "outputs": [],
   "source": [
    "from utils.dataloader import *\n",
    "from utils.sift import *\n",
    "from utils.helper import strech_img\n",
    "from sklearn.model_selection import train_test_split\n",
    "import pickle"
   ]
  },
  {
   "cell_type": "code",
   "execution_count": 2,
   "metadata": {},
   "outputs": [
    {
     "name": "stdout",
     "output_type": "stream",
     "text": [
      "/Users/moooooo16/Documents/Computer Vision/Project/elpv\n"
     ]
    }
   ],
   "source": [
    "RANDOM_STATE = 66\n",
    "ROOT_PATH, DATA_PATH, OUT_PATH = get_paths()\n",
    "print(ROOT_PATH)"
   ]
  },
  {
   "cell_type": "code",
   "execution_count": 3,
   "metadata": {},
   "outputs": [
    {
     "name": "stdout",
     "output_type": "stream",
     "text": [
      "[0 1 2 3 4 5 6 7] [588 117  56 313 920 178  50 402]\n",
      "2624 2624 2624 2624\n"
     ]
    }
   ],
   "source": [
    "img_path, prob, types, labels= load_data(DATA_PATH)\n",
    "print(len(img_path), \n",
    "      len(prob),\n",
    "      len(types),\n",
    "      len(labels))"
   ]
  },
  {
   "cell_type": "markdown",
   "metadata": {},
   "source": [
    "# Class mapping \n",
    "\n",
    "|Label | prob | type|\n",
    "|------|------|-----|\n",
    "|0     | 0.0  | mono|\n",
    "|1     | 0.333| mono|\n",
    "|2     | 0.667| mono|\n",
    "|3     | 1.0  | mono|\n",
    "|4     | 0.0  | poly|\n",
    "|5     | 0.333| poly|\n",
    "|6     | 0.667| poly|\n",
    "|7     | 1.0  | poly|"
   ]
  },
  {
   "cell_type": "code",
   "execution_count": 4,
   "metadata": {},
   "outputs": [
    {
     "name": "stderr",
     "output_type": "stream",
     "text": [
      "Loading images: 100%|██████████| 2624/2624 [00:03<00:00, 777.07it/s]\n",
      "Calculating descriptors: 100%|██████████| 2624/2624 [00:20<00:00, 126.01it/s]"
     ]
    },
    {
     "name": "stdout",
     "output_type": "stream",
     "text": [
      "[]\n"
     ]
    },
    {
     "name": "stderr",
     "output_type": "stream",
     "text": [
      "\n"
     ]
    }
   ],
   "source": [
    "sift = SIFT(DATA_PATH, img_path, processing_funcs=[strech_img])\n",
    "kps, descriptor, empty_descriptor = sift.calculate_desriptor(mask=None)\n",
    "print(empty_descriptor)"
   ]
  },
  {
   "cell_type": "code",
   "execution_count": 5,
   "metadata": {},
   "outputs": [
    {
     "name": "stdout",
     "output_type": "stream",
     "text": [
      "1968 656\n",
      "1968 656\n"
     ]
    }
   ],
   "source": [
    "X_train, X_test, y_train, y_test = train_test_split(descriptor, labels, test_size=0.25, random_state=RANDOM_STATE, stratify= labels)\n",
    "\n",
    "\n",
    "print(len(X_train), len(X_test))\n",
    "print(len(y_train), len(y_test))"
   ]
  },
  {
   "cell_type": "code",
   "execution_count": 6,
   "metadata": {},
   "outputs": [
    {
     "name": "stdout",
     "output_type": "stream",
     "text": [
      "Calculating kmeans for k = 128\n"
     ]
    },
    {
     "name": "stderr",
     "output_type": "stream",
     "text": [
      "Building histogram for k = 128: 100%|██████████| 1968/1968 [00:02<00:00, 759.73it/s]\n"
     ]
    },
    {
     "name": "stdout",
     "output_type": "stream",
     "text": [
      "Calculating kmeans for k = 256\n"
     ]
    },
    {
     "name": "stderr",
     "output_type": "stream",
     "text": [
      "Building histogram for k = 256: 100%|██████████| 1968/1968 [00:02<00:00, 680.54it/s]\n"
     ]
    },
    {
     "name": "stdout",
     "output_type": "stream",
     "text": [
      "Calculating kmeans for k = 512\n"
     ]
    },
    {
     "name": "stderr",
     "output_type": "stream",
     "text": [
      "Building histogram for k = 512: 100%|██████████| 1968/1968 [00:03<00:00, 618.19it/s]\n"
     ]
    },
    {
     "name": "stdout",
     "output_type": "stream",
     "text": [
      "Calculating kmeans for k = 1024\n"
     ]
    },
    {
     "name": "stderr",
     "output_type": "stream",
     "text": [
      "Building histogram for k = 1024: 100%|██████████| 1968/1968 [00:04<00:00, 461.96it/s]\n"
     ]
    }
   ],
   "source": [
    "ks = [128, 256, 512, 1024]\n",
    "\n",
    "kmeans, features = sift.build_features(X_train, ks, \n",
    "                               state=RANDOM_STATE,\n",
    "                               init = 'k-means++',\n",
    "                               n_init=10,\n",
    "                               max_iter=300,\n",
    "                               tol=1e-4,)"
   ]
  },
  {
   "cell_type": "code",
   "execution_count": 7,
   "metadata": {},
   "outputs": [
    {
     "name": "stderr",
     "output_type": "stream",
     "text": [
      "Building histogram for k = 128: 100%|██████████| 656/656 [00:00<00:00, 682.19it/s]\n",
      "Building histogram for k = 256: 100%|██████████| 656/656 [00:00<00:00, 694.60it/s]\n",
      "Building histogram for k = 512: 100%|██████████| 656/656 [00:01<00:00, 604.36it/s]\n",
      "Building histogram for k = 1024: 100%|██████████| 656/656 [00:01<00:00, 474.30it/s]\n"
     ]
    }
   ],
   "source": [
    "test_hist = {}\n",
    "for k in ks:\n",
    "    hist = sift.get_features(X_test, kmeans[k], k)\n",
    "    test_hist[k] = hist"
   ]
  },
  {
   "cell_type": "code",
   "execution_count": 8,
   "metadata": {},
   "outputs": [],
   "source": [
    "with open(os.path.join(OUT_PATH, 'sift_X.pkl'), 'wb') as f:\n",
    "    pickle.dump((features, test_hist), f)\n",
    "    \n",
    "with open(os.path.join(OUT_PATH, 'sift_kmeans.pkl'), 'wb') as f:\n",
    "    pickle.dump(kmeans, f)\n",
    "    \n",
    "with open(os.path.join(OUT_PATH, 'sift_y.pkl'), 'wb') as f:\n",
    "    pickle.dump((y_train, y_test), f)"
   ]
  }
 ],
 "metadata": {
  "kernelspec": {
   "display_name": "torch",
   "language": "python",
   "name": "torch"
  },
  "language_info": {
   "codemirror_mode": {
    "name": "ipython",
    "version": 3
   },
   "file_extension": ".py",
   "mimetype": "text/x-python",
   "name": "python",
   "nbconvert_exporter": "python",
   "pygments_lexer": "ipython3",
   "version": "3.11.4"
  }
 },
 "nbformat": 4,
 "nbformat_minor": 2
}
