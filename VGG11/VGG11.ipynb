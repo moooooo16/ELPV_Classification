{
 "cells": [
  {
   "cell_type": "code",
   "execution_count": 17,
   "id": "7d4f5f5c",
   "metadata": {},
   "outputs": [],
   "source": [
    "import torch\n",
    "import torchvision.models as models\n",
    "from torch.utils.data import DataLoader\n",
    "from torchvision import transforms\n",
    "from torch import nn, optim\n",
    "from sklearn.metrics import confusion_matrix\n",
    "from elpv_reader import load_dataset\n",
    "from PIL import Image\n",
    "from torch.utils.data import Dataset\n",
    "from tqdm import tqdm\n",
    "import numpy as np\n",
    "from sklearn.neighbors import KNeighborsClassifier\n",
    "from sklearn.model_selection import train_test_split\n",
    "import matplotlib.pyplot as plt\n",
    "import seaborn as sns"
   ]
  },
  {
   "cell_type": "markdown",
   "id": "b451c4e3",
   "metadata": {},
   "source": [
    "# define functions"
   ]
  },
  {
   "cell_type": "code",
   "execution_count": 2,
   "id": "cbf3349f",
   "metadata": {},
   "outputs": [],
   "source": [
    "def calculate_metrics(conf_matrix):\n",
    "    # True positives\n",
    "    TP = np.diag(conf_matrix)\n",
    "    # False positives\n",
    "    FP = np.sum(conf_matrix, axis=0) - TP\n",
    "    # False negatives\n",
    "    FN = np.sum(conf_matrix, axis=1) - TP\n",
    "\n",
    "    # Avoid division by zero\n",
    "    precision = np.divide(TP, (TP + FP), out=np.zeros_like(TP, dtype=float), where=(TP + FP) != 0)\n",
    "    recall = np.divide(TP, (TP + FN), out=np.zeros_like(TP, dtype=float), where=(TP + FN) != 0)\n",
    "\n",
    "    # Macro-average precision\n",
    "    macro_precision = np.mean(precision)\n",
    "    # Macro-average recall\n",
    "    macro_recall = np.mean(recall)\n",
    "\n",
    "    # Calculate macro-average F1 score, only for non-zero precision and recall\n",
    "    f1_scores = np.divide(2 * precision * recall, (precision + recall), out=np.zeros_like(precision, dtype=float),\n",
    "                          where=(precision + recall) != 0)\n",
    "    macro_f1_score = np.mean(f1_scores)\n",
    "\n",
    "    # Accuracy\n",
    "    accuracy = TP.sum() / conf_matrix.sum()\n",
    "\n",
    "    return accuracy, macro_precision, macro_recall, macro_f1_score\n"
   ]
  },
  {
   "cell_type": "code",
   "execution_count": 3,
   "id": "e04ca289",
   "metadata": {},
   "outputs": [],
   "source": [
    "def test_model(model, test_dataloader):\n",
    "    model.eval()\n",
    "    correct = 0\n",
    "    total = 0\n",
    "    with torch.no_grad():\n",
    "        for images, labels, _ in test_dataloader:\n",
    "            images = images.cuda()\n",
    "            labels = labels.cuda()\n",
    "            outputs = model(images)\n",
    "            _, predicted = torch.max(outputs.data, 1)\n",
    "            total += labels.size(0)\n",
    "            correct += (predicted == labels).sum().item()\n",
    "    accuracy = correct / total\n",
    "    return accuracy"
   ]
  },
  {
   "cell_type": "code",
   "execution_count": 4,
   "id": "2ae28907",
   "metadata": {},
   "outputs": [],
   "source": [
    "def smote_3d(minority, y_minority, percentage, clf, n_neighbors=5):\n",
    "    # Flatten minority class samples to 2D arrays\n",
    "    num_samples, dim1, dim2 = minority.shape\n",
    "    minority_flat = minority.reshape(num_samples, dim1 * dim2)\n",
    "\n",
    "    synthetic_flat = []\n",
    "    counter = 0\n",
    "\n",
    "    # Choose the appropriate number of samples to generate synthetic samples based on the provided percentage\n",
    "    if percentage < 100:\n",
    "        n_minority = int(len(minority_flat) * percentage / 100)\n",
    "        minority_flat = minority_flat[np.random.choice(len(minority_flat), n_minority, replace=False), :]\n",
    "        percentage = 100\n",
    "\n",
    "    # Calculate the multiplier for the number of synthetic samples needed\n",
    "    percentage = int(percentage / 100)\n",
    "\n",
    "    # Use KNN to find neighbors\n",
    "    knn = clf(n_neighbors=n_neighbors + 1)\n",
    "    knn.fit(minority_flat, y_minority)\n",
    "\n",
    "    for data_point in minority_flat:\n",
    "        # Find the neighbors for each minority class sample point\n",
    "        _, nnarray = knn.kneighbors(data_point.reshape(1, -1))\n",
    "        nnarray = nnarray[0][1:]  # Exclude the sample itself\n",
    "\n",
    "        # Generate synthetic samples for each minority class sample\n",
    "        for _ in range(percentage):\n",
    "            selected = np.random.choice(nnarray, 1)\n",
    "            diff = minority_flat[selected[0]] - data_point\n",
    "            gap = np.random.rand()\n",
    "            synthetic_data_point = data_point + gap * diff\n",
    "            synthetic_flat.append(synthetic_data_point)\n",
    "            counter += 1\n",
    "\n",
    "    # Reshape the synthetic sample data back to the original 3D shape\n",
    "    synthetic = np.array(synthetic_flat).reshape(-1, dim1, dim2)\n",
    "\n",
    "    print(f'Generated {counter} synthetic samples.')\n",
    "    return synthetic"
   ]
  },
  {
   "cell_type": "code",
   "execution_count": 25,
   "id": "3fb7c761",
   "metadata": {},
   "outputs": [],
   "source": [
    "def plot_confusion_matrix(conf_matrix, class_names, name):\n",
    "    fig, ax = plt.subplots(figsize=(5, 5))\n",
    "    sns.heatmap(conf_matrix, annot=True, fmt='g', ax=ax, cmap='coolwarm', annot_kws={\"color\": \"white\"})\n",
    "    ax.set_xlabel('Predicted labels')\n",
    "    ax.set_ylabel('True labels')\n",
    "    ax.set_title(name)\n",
    "    ax.xaxis.set_ticklabels(class_names)\n",
    "    ax.yaxis.set_ticklabels(class_names)\n",
    "    plt.show()"
   ]
  },
  {
   "cell_type": "markdown",
   "id": "0351023e",
   "metadata": {},
   "source": [
    "# Load the dataset"
   ]
  },
  {
   "cell_type": "code",
   "execution_count": 5,
   "id": "c082f1db",
   "metadata": {},
   "outputs": [],
   "source": [
    "images, proba, types = load_dataset()"
   ]
  },
  {
   "cell_type": "markdown",
   "id": "7dbfb865",
   "metadata": {},
   "source": [
    "# Data preprocessing, convert labels to integer indices"
   ]
  },
  {
   "cell_type": "code",
   "execution_count": 6,
   "id": "12d19f5b",
   "metadata": {},
   "outputs": [],
   "source": [
    "label_mapping = {0.0: 0, 0.3333333333333333: 1, 0.6666666666666666: 2, 1.0: 3}\n",
    "proba = [label_mapping[label] for label in proba]\n",
    "proba = np.array(proba)\n",
    "types_mapping = {'mono': 1, 'poly': 0}\n",
    "types = [types_mapping[t] for t in types]\n",
    "types = np.array(types)"
   ]
  },
  {
   "cell_type": "markdown",
   "id": "b6df6d74",
   "metadata": {},
   "source": [
    "# Enhance the dataset"
   ]
  },
  {
   "cell_type": "code",
   "execution_count": 7,
   "id": "30e4d809",
   "metadata": {},
   "outputs": [
    {
     "name": "stdout",
     "output_type": "stream",
     "text": [
      "Generated 356 synthetic samples.\n",
      "Generated 200 synthetic samples.\n",
      "Generated 234 synthetic samples.\n",
      "Generated 224 synthetic samples.\n"
     ]
    }
   ],
   "source": [
    "for n in range(2):\n",
    "    for m in [1, 2]:\n",
    "        minority_indices = np.where((proba == m) & (types == n))[0]\n",
    "        minority_images = images[minority_indices]\n",
    "        y_minority = proba[minority_indices]\n",
    "        synthetic_images = smote_3d(minority_images, y_minority, m * 200, KNeighborsClassifier, n_neighbors=5)\n",
    "        images = np.concatenate((images, synthetic_images), axis=0)\n",
    "        proba = np.concatenate((proba, np.array([m] * len(synthetic_images))), axis=0)\n",
    "        types = np.concatenate((types, np.array([n] * len(synthetic_images))), axis=0)"
   ]
  },
  {
   "cell_type": "markdown",
   "id": "ba30c282",
   "metadata": {},
   "source": [
    "# Split the data into training and testing sets after the CustomDataset class"
   ]
  },
  {
   "cell_type": "code",
   "execution_count": 8,
   "id": "0c35a0c8",
   "metadata": {},
   "outputs": [],
   "source": [
    "images_train, images_test, proba_train, proba_test, types_train, types_test = train_test_split(\n",
    "    images,\n",
    "    proba,\n",
    "    types,\n",
    "    test_size=0.25,  # Test set is 25%\n",
    "    random_state=42  # Ensure the split is the same each time\n",
    ")"
   ]
  },
  {
   "cell_type": "markdown",
   "id": "859fabab",
   "metadata": {},
   "source": [
    "# Define the dataset"
   ]
  },
  {
   "cell_type": "code",
   "execution_count": 9,
   "id": "6bcd16a8",
   "metadata": {},
   "outputs": [],
   "source": [
    "class CustomDataset(Dataset):\n",
    "    def __init__(self, images, labels, types, transform=None):\n",
    "        self.images = images\n",
    "        self.labels = labels\n",
    "        self.types = types\n",
    "        self.transform = transform\n",
    "\n",
    "    def __len__(self):\n",
    "        return len(self.images)\n",
    "\n",
    "    def __getitem__(self, idx):\n",
    "        image = self.images[idx]\n",
    "        label = self.labels[idx]\n",
    "        type_ = self.types[idx]\n",
    "        image = Image.fromarray(image).convert('L')\n",
    "        image = image.convert('RGB')  # Convert grayscale images to three-channel RGB images\n",
    "        if self.transform:\n",
    "            image = self.transform(image)\n",
    "        return image, label, type_\n",
    "\n",
    "\n",
    "transform = transforms.Compose([\n",
    "    transforms.Lambda(lambda x: x.convert('RGB')),  # Convert grayscale images to three channels\n",
    "    transforms.Resize((224, 224)),  # Resize images according to ShuffleNet requirements\n",
    "    transforms.ToTensor(),\n",
    "    transforms.Normalize(mean=[0.485, 0.456, 0.406], std=[0.229, 0.224, 0.225]),  # Normalize\n",
    "])\n",
    "\n",
    "# Training dataset\n",
    "train_dataset = CustomDataset(images_train, proba_train, types_train, transform=transform)\n",
    "train_dataloader = DataLoader(train_dataset, batch_size=32, shuffle=True)\n",
    "\n",
    "# Testing dataset\n",
    "test_dataset = CustomDataset(images_test, proba_test, types_test, transform=transform)\n",
    "test_dataloader = DataLoader(test_dataset, batch_size=32, shuffle=False)"
   ]
  },
  {
   "cell_type": "markdown",
   "id": "714e45eb",
   "metadata": {},
   "source": [
    "# Define the model"
   ]
  },
  {
   "cell_type": "code",
   "execution_count": 12,
   "id": "868a913c",
   "metadata": {},
   "outputs": [],
   "source": [
    "model = models.vgg11_bn(pretrained=True)\n",
    "num_ftrs = model.classifier[6].in_features\n",
    "model.classifier[6] = nn.Linear(num_ftrs, 4)\n",
    "\n",
    "criterion = nn.CrossEntropyLoss()\n",
    "optimizer = optim.SGD(model.parameters(), lr=0.001, momentum=0.9)\n",
    "\n",
    "model.load_state_dict(torch.load('vgg11_bn.pth'))\n",
    "\n",
    "if torch.cuda.is_available():\n",
    "    model = model.cuda()"
   ]
  },
  {
   "cell_type": "markdown",
   "id": "2a3c2a4d",
   "metadata": {},
   "source": [
    "# Train the model"
   ]
  },
  {
   "cell_type": "code",
   "execution_count": 11,
   "id": "7f62e055",
   "metadata": {},
   "outputs": [],
   "source": [
    "num_epochs = 0\n",
    "accuracy = 0\n",
    "while num_epochs <= 20:\n",
    "    model.train()\n",
    "    running_loss = 0.0\n",
    "    # Progress bar\n",
    "    loop = tqdm(train_dataloader, leave=True)\n",
    "    for images, labels, _ in loop:\n",
    "        if torch.cuda.is_available():\n",
    "            images = images.cuda()\n",
    "            labels = labels.cuda()\n",
    "\n",
    "        labels = labels.long()\n",
    "        optimizer.zero_grad()\n",
    "        outputs = model(images)\n",
    "        loss = criterion(outputs, labels)\n",
    "        loss.backward()\n",
    "        optimizer.step()\n",
    "\n",
    "        running_loss += loss.item()\n",
    "\n",
    "        # Update progress bar\n",
    "        loop.set_postfix(loss=running_loss / len(train_dataloader))\n",
    "\n",
    "    # 在每个训练轮次后进行测试并打印正确率\n",
    "    accuracy = test_model(model, test_dataloader)\n",
    "    print(f\"Accuracy of the network on the test images after epoch {num_epochs + 1}: {accuracy:.2f}\")\n",
    "    num_epochs += 1"
   ]
  },
  {
   "cell_type": "markdown",
   "id": "086e5b97",
   "metadata": {},
   "source": [
    "# Predict and generate confusion matrices"
   ]
  },
  {
   "cell_type": "code",
   "execution_count": 26,
   "id": "c63b7430",
   "metadata": {},
   "outputs": [
    {
     "name": "stdout",
     "output_type": "stream",
     "text": [
      "Confusion Matrix - All Types:\n",
      "[[332  11   5  18]\n",
      " [ 27 189   3   4]\n",
      " [ 11   0 116   0]\n",
      " [ 26   7   8 153]]\n",
      "Accuracy: 0.8681318681318682\n",
      "Precision: 0.8761252274295752\n",
      "Recall: 0.8641707695024236\n",
      "F1 Score: 0.8688705079982921\n"
     ]
    },
    {
     "data": {
      "image/png": "[encoded data removed]",
      "text/plain": [
       "<Figure size 500x500 with 2 Axes>"
      ]
     },
     "metadata": {},
     "output_type": "display_data"
    },
    {
     "name": "stdout",
     "output_type": "stream",
     "text": [
      "Confusion Matrix - Mono:\n",
      "[[123   8   1   7]\n",
      " [  7  74   0   0]\n",
      " [  6   0  62   0]\n",
      " [  9   2   6  68]]\n",
      "Accuracy: 0.8766756032171582\n",
      "Precision: 0.8836114085814236\n",
      "Recall: 0.877559259781717\n",
      "F1 Score: 0.8795690922798459\n"
     ]
    },
    {
     "data": {
      "image/png": "[encoded data removed]",
      "text/plain": [
       "<Figure size 500x500 with 2 Axes>"
      ]
     },
     "metadata": {},
     "output_type": "display_data"
    },
    {
     "name": "stdout",
     "output_type": "stream",
     "text": [
      "Confusion Matrix - Poly:\n",
      "[[209   3   4  11]\n",
      " [ 20 115   3   4]\n",
      " [  5   0  54   0]\n",
      " [ 17   5   2  85]]\n",
      "Accuracy: 0.8621973929236499\n",
      "Precision: 0.8686928823613791\n",
      "Recall: 0.8564086879485397\n",
      "F1 Score: 0.8602611366438833\n"
     ]
    },
    {
     "data": {
      "image/png": "[encoded data removed]",
      "text/plain": [
       "<Figure size 500x500 with 2 Axes>"
      ]
     },
     "metadata": {},
     "output_type": "display_data"
    }
   ],
   "source": [
    "model.eval()\n",
    "predictions = []\n",
    "labels_list = []\n",
    "types_list = []\n",
    "with torch.no_grad():\n",
    "    for images, labels, types in test_dataloader:\n",
    "        if torch.cuda.is_available():\n",
    "            images = images.cuda()\n",
    "            labels = labels.cuda()\n",
    "        outputs = model(images)\n",
    "        _, preds = torch.max(outputs, 1)\n",
    "        predictions.extend(preds.cpu().numpy())\n",
    "        labels_list.extend(labels.cpu().numpy())\n",
    "        types_list.extend(types)\n",
    "\n",
    "class_names = ['0', '0.33', '0.66', '1']\n",
    "\n",
    "# Confusion matrix\n",
    "conf_matrix = confusion_matrix(labels_list, predictions)\n",
    "accuracy, precision, recall, f1 = calculate_metrics(conf_matrix)\n",
    "print('Confusion Matrix - All Types:')\n",
    "print(conf_matrix)\n",
    "print(f'Accuracy: {accuracy}')\n",
    "print(f'Precision: {precision}')\n",
    "print(f'Recall: {recall}')\n",
    "print(f'F1 Score: {f1}')\n",
    "plot_confusion_matrix(conf_matrix, class_names, 'Confusion matrix for All')\n",
    "\n",
    "# Confusion matrix for Mono\n",
    "mono_indices = [i for i, x in enumerate(types_list) if x == 1]\n",
    "mono_predictions = [predictions[i] for i in mono_indices]\n",
    "mono_labels = [labels_list[i] for i in mono_indices]\n",
    "conf_matrix_mono = confusion_matrix(mono_labels, mono_predictions)\n",
    "accuracy, precision, recall, f1 = calculate_metrics(conf_matrix_mono)\n",
    "print('Confusion Matrix - Mono:')\n",
    "print(conf_matrix_mono)\n",
    "print(f'Accuracy: {accuracy}')\n",
    "print(f'Precision: {precision}')\n",
    "print(f'Recall: {recall}')\n",
    "print(f'F1 Score: {f1}')\n",
    "plot_confusion_matrix(conf_matrix_mono, class_names, 'Confusion matrix for Mono')\n",
    "\n",
    "# Confusion matrix for Poly\n",
    "poly_indices = [i for i, x in enumerate(types_list) if x == 0]\n",
    "poly_predictions = [predictions[i] for i in poly_indices]\n",
    "poly_labels = [labels_list[i] for i in poly_indices]\n",
    "conf_matrix_poly = confusion_matrix(poly_labels, poly_predictions)\n",
    "accuracy, precision, recall, f1 = calculate_metrics(conf_matrix_poly)\n",
    "print('Confusion Matrix - Poly:')\n",
    "print(conf_matrix_poly)\n",
    "print(f'Accuracy: {accuracy}')\n",
    "print(f'Precision: {precision}')\n",
    "print(f'Recall: {recall}')\n",
    "print(f'F1 Score: {f1}')\n",
    "plot_confusion_matrix(conf_matrix_poly, class_names, 'Confusion matrix for Poly')"
   ]
  },
  {
   "cell_type": "code",
   "execution_count": null,
   "id": "2517da42",
   "metadata": {},
   "outputs": [],
   "source": []
  }
 ],
 "metadata": {
  "kernelspec": {
   "display_name": "gpu",
   "language": "python",
   "name": "assignment"
  },
  "language_info": {
   "codemirror_mode": {
    "name": "ipython",
    "version": 3
   },
   "file_extension": ".py",
   "mimetype": "text/x-python",
   "name": "python",
   "nbconvert_exporter": "python",
   "pygments_lexer": "ipython3",
   "version": "3.9.18"
  }
 },
 "nbformat": 4,
 "nbformat_minor": 5
}
